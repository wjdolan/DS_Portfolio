{
  "nbformat": 4,
  "nbformat_minor": 0,
  "metadata": {
    "colab": {
      "name": "Cross_validation_and_tuning.ipynb",
      "provenance": [],
      "authorship_tag": "ABX9TyMNyn1nWm85ecTca4EaeDtE",
      "include_colab_link": true
    },
    "kernelspec": {
      "name": "python3",
      "display_name": "Python 3"
    },
    "language_info": {
      "name": "python"
    }
  },
  "cells": [
    {
      "cell_type": "markdown",
      "metadata": {
        "id": "view-in-github",
        "colab_type": "text"
      },
      "source": [
        "<a href=\"https://colab.research.google.com/github/wjdolan/DS_Portfolio/blob/main/Cross_validation_and_tuning.ipynb\" target=\"_parent\"><img src=\"https://colab.research.google.com/assets/colab-badge.svg\" alt=\"Open In Colab\"/></a>"
      ]
    },
    {
      "cell_type": "markdown",
      "source": [
        "# **Cross Validation with Parameter Tuning (using Grid Search)**"
      ],
      "metadata": {
        "id": "VWqqfK8oInJI"
      }
    },
    {
      "cell_type": "code",
      "execution_count": 13,
      "metadata": {
        "id": "8pBQ1kLKIcy3"
      },
      "outputs": [],
      "source": [
        "import numpy as np\n",
        "from sklearn.model_selection import GridSearchCV\n",
        "from sklearn import datasets, svm\n",
        "import matplotlib.pyplot as plt\n",
        "import time\n"
      ]
    },
    {
      "cell_type": "code",
      "source": [
        "# Load the digit data\n",
        "\n",
        "digits = datasets.load_digits()"
      ],
      "metadata": {
        "id": "tXS-8MufIwpS"
      },
      "execution_count": 3,
      "outputs": []
    },
    {
      "cell_type": "code",
      "source": [
        "# View the features of first observation\n",
        "\n",
        "digits.data[0:1]"
      ],
      "metadata": {
        "colab": {
          "base_uri": "https://localhost:8080/"
        },
        "id": "b98MV9c6Iwma",
        "outputId": "ba7fd025-ab40-4ee9-db46-1af9329ab8b6"
      },
      "execution_count": 4,
      "outputs": [
        {
          "output_type": "execute_result",
          "data": {
            "text/plain": [
              "array([[ 0.,  0.,  5., 13.,  9.,  1.,  0.,  0.,  0.,  0., 13., 15., 10.,\n",
              "        15.,  5.,  0.,  0.,  3., 15.,  2.,  0., 11.,  8.,  0.,  0.,  4.,\n",
              "        12.,  0.,  0.,  8.,  8.,  0.,  0.,  5.,  8.,  0.,  0.,  9.,  8.,\n",
              "         0.,  0.,  4., 11.,  0.,  1., 12.,  7.,  0.,  0.,  2., 14.,  5.,\n",
              "        10., 12.,  0.,  0.,  0.,  0.,  6., 13., 10.,  0.,  0.,  0.]])"
            ]
          },
          "metadata": {},
          "execution_count": 4
        }
      ]
    },
    {
      "cell_type": "code",
      "source": [
        "# View the target of the first observation\n",
        "\n",
        "digits.target[0:1]"
      ],
      "metadata": {
        "colab": {
          "base_uri": "https://localhost:8080/"
        },
        "id": "2Ei8yxhEIwji",
        "outputId": "8e96c06a-561c-4745-b086-665fc2f2f27d"
      },
      "execution_count": 5,
      "outputs": [
        {
          "output_type": "execute_result",
          "data": {
            "text/plain": [
              "array([0])"
            ]
          },
          "metadata": {},
          "execution_count": 5
        }
      ]
    },
    {
      "cell_type": "code",
      "source": [
        "# Create dataset 1\n",
        "\n",
        "data1_features = digits.data[:1000]\n",
        "data1_target = digits.target[:1000]\n",
        "\n",
        "# Create dataset 2\n",
        "\n",
        "data2_features = digits.data[1000:]\n",
        "data2_target = digits.target[1000:]"
      ],
      "metadata": {
        "id": "UKoTu7iwIwhH"
      },
      "execution_count": 6,
      "outputs": []
    },
    {
      "cell_type": "code",
      "source": [
        "# create parameter candidates\n",
        "\n",
        "parameter_candidates = [\n",
        "  {'C': [1, 10, 100, 1000], 'kernel': ['linear']},\n",
        "  {'C': [1, 10, 100, 1000], 'gamma': [0.001, 0.0001], 'kernel': ['rbf']},]"
      ],
      "metadata": {
        "id": "aRNoAuOOJZkK"
      },
      "execution_count": 7,
      "outputs": []
    },
    {
      "cell_type": "code",
      "source": [
        "# Create a classifier object with the classifier and parameter candidates\n",
        "clf = GridSearchCV(estimator=svm.SVC(), param_grid=parameter_candidates, n_jobs=-1)\n",
        "tic = time.perf_counter()\n",
        "\n",
        "# Train the classifier on data1's feature and target data\n",
        "clf.fit(data1_features, data1_target)   \n",
        "toc = time.perf_counter()\n",
        "\n",
        "print(f'Completed GridSearch in: {toc - tic:0.4f} seconds')"
      ],
      "metadata": {
        "colab": {
          "base_uri": "https://localhost:8080/"
        },
        "id": "rHTdA5AfJZhA",
        "outputId": "bc1c2fba-bd99-4f79-a9ff-4c2036e7d99e"
      },
      "execution_count": 17,
      "outputs": [
        {
          "output_type": "stream",
          "name": "stdout",
          "text": [
            "Completed GridSearch in: 1.5382 seconds\n"
          ]
        }
      ]
    },
    {
      "cell_type": "code",
      "source": [
        "# View the accuracy score\n",
        "print('Best score for data1:', clf.best_score_) "
      ],
      "metadata": {
        "colab": {
          "base_uri": "https://localhost:8080/"
        },
        "id": "sqg8f7q5JZec",
        "outputId": "ede72b5e-58f3-4e48-a90e-90558085cd5a"
      },
      "execution_count": 9,
      "outputs": [
        {
          "output_type": "stream",
          "name": "stdout",
          "text": [
            "Best score for data1: 0.966\n"
          ]
        }
      ]
    },
    {
      "cell_type": "code",
      "source": [
        "# View the best parameters for the model found using grid search\n",
        "print('Best C:',clf.best_estimator_.C) \n",
        "print('Best Kernel:',clf.best_estimator_.kernel)\n",
        "print('Best Gamma:',clf.best_estimator_.gamma)"
      ],
      "metadata": {
        "colab": {
          "base_uri": "https://localhost:8080/"
        },
        "id": "FwnmKfieKCCu",
        "outputId": "1c8ca31d-756c-490f-abec-3e84f983eb45"
      },
      "execution_count": 10,
      "outputs": [
        {
          "output_type": "stream",
          "name": "stdout",
          "text": [
            "Best C: 10\n",
            "Best Kernel: rbf\n",
            "Best Gamma: 0.001\n"
          ]
        }
      ]
    },
    {
      "cell_type": "markdown",
      "source": [
        "### Check parameters with 2nd dataset"
      ],
      "metadata": {
        "id": "e0e4fiHNOlJM"
      }
    },
    {
      "cell_type": "code",
      "source": [
        "# Apply the classifier trained using data1 to data2, and view the accuracy score\n",
        "\n",
        "clf.score(data2_features, data2_target)  "
      ],
      "metadata": {
        "colab": {
          "base_uri": "https://localhost:8080/"
        },
        "id": "kgkB7oRqKB_P",
        "outputId": "68b80a7f-071e-4802-e60f-135d1d3d7858"
      },
      "execution_count": 11,
      "outputs": [
        {
          "output_type": "execute_result",
          "data": {
            "text/plain": [
              "0.9698870765370138"
            ]
          },
          "metadata": {},
          "execution_count": 11
        }
      ]
    },
    {
      "cell_type": "code",
      "source": [
        "# Train a new classifier using the best parameters found by the grid search\n",
        "svm.SVC(C=10, kernel='rbf', gamma=0.001).fit(data1_features, data1_target).score(data2_features, data2_target)"
      ],
      "metadata": {
        "colab": {
          "base_uri": "https://localhost:8080/"
        },
        "id": "7B1_8CBmKB8i",
        "outputId": "57184a2d-d5dd-499d-8355-f1547f366e3c"
      },
      "execution_count": 12,
      "outputs": [
        {
          "output_type": "execute_result",
          "data": {
            "text/plain": [
              "0.9698870765370138"
            ]
          },
          "metadata": {},
          "execution_count": 12
        }
      ]
    },
    {
      "cell_type": "code",
      "source": [
        ""
      ],
      "metadata": {
        "id": "y2XwLqHROvzm"
      },
      "execution_count": null,
      "outputs": []
    },
    {
      "cell_type": "code",
      "source": [
        ""
      ],
      "metadata": {
        "id": "Ghi_T8W-OvtV"
      },
      "execution_count": null,
      "outputs": []
    },
    {
      "cell_type": "code",
      "source": [
        ""
      ],
      "metadata": {
        "id": "6xZEg6-9Ovp2"
      },
      "execution_count": null,
      "outputs": []
    }
  ]
}