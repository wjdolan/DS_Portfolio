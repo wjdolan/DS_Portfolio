{
  "nbformat": 4,
  "nbformat_minor": 0,
  "metadata": {
    "colab": {
      "name": "Pipeline_class.ipynb",
      "provenance": [],
      "authorship_tag": "ABX9TyPz2wytgbHNlek9dQ4Js5Gt",
      "include_colab_link": true
    },
    "kernelspec": {
      "name": "python3",
      "display_name": "Python 3"
    },
    "language_info": {
      "name": "python"
    }
  },
  "cells": [
    {
      "cell_type": "markdown",
      "metadata": {
        "id": "view-in-github",
        "colab_type": "text"
      },
      "source": [
        "<a href=\"https://colab.research.google.com/github/wjdolan/DS_Portfolio/blob/main/Pipeline_class.ipynb\" target=\"_parent\"><img src=\"https://colab.research.google.com/assets/colab-badge.svg\" alt=\"Open In Colab\"/></a>"
      ]
    },
    {
      "cell_type": "markdown",
      "source": [
        "# Customize existing scikit-learn Transformers"
      ],
      "metadata": {
        "id": "1uk9-Ar767u4"
      }
    },
    {
      "cell_type": "code",
      "execution_count": 1,
      "metadata": {
        "id": "o433M6sT67L_"
      },
      "outputs": [],
      "source": [
        "import pandas as pd\n",
        "from sklearn.preprocessing import OrdinalEncoder\n"
      ]
    },
    {
      "cell_type": "code",
      "source": [
        "class CustomOrdinalEncoder(OrdinalEncoder):\n",
        "    def __init__(self, **kwargs):\n",
        "        super().__init__(**kwargs)\n",
        "    \n",
        "    def transform(self, X, y=None):\n",
        "        transformed_X = super().transform(X)\n",
        "        new_X = pd.DataFrame(transformed_X, columns=self.feature_names_in_)\n",
        "        return new_X"
      ],
      "metadata": {
        "id": "ny0zks3M7O_s"
      },
      "execution_count": 2,
      "outputs": []
    },
    {
      "cell_type": "code",
      "source": [
        "data = pd.DataFrame(\n",
        "    {\n",
        "        \"fruits\": [\"Apple\", \"Pears\", \"Cherry\"],\n",
        "        \"colors\": [\"Green\", \"Green\", \"Red\"],\n",
        "    }\n",
        ")\n",
        "enc = CustomOrdinalEncoder(dtype=int)\n",
        "new_data = enc.fit_transform(data)\n",
        "print(new_data)\n",
        "print(\"Categories: \", enc.categories_)"
      ],
      "metadata": {
        "colab": {
          "base_uri": "https://localhost:8080/"
        },
        "id": "HoMl5tAm7O7T",
        "outputId": "99b51377-2f3a-4de1-bb17-a891784ef801"
      },
      "execution_count": 3,
      "outputs": [
        {
          "output_type": "stream",
          "name": "stdout",
          "text": [
            "   fruits  colors\n",
            "0       0       0\n",
            "1       2       0\n",
            "2       1       1\n",
            "Categories:  [array(['Apple', 'Cherry', 'Pears'], dtype=object), array(['Green', 'Red'], dtype=object)]\n"
          ]
        }
      ]
    },
    {
      "cell_type": "code",
      "source": [
        ""
      ],
      "metadata": {
        "id": "HVbfkhTy7O4s"
      },
      "execution_count": null,
      "outputs": []
    }
  ]
}