{
  "nbformat": 4,
  "nbformat_minor": 0,
  "metadata": {
    "colab": {
      "name": "Numpy_NN.ipynb",
      "provenance": [],
      "authorship_tag": "ABX9TyPDMlaBZ7h9yXvRUzN7oep5",
      "include_colab_link": true
    },
    "kernelspec": {
      "name": "python3",
      "display_name": "Python 3"
    },
    "language_info": {
      "name": "python"
    }
  },
  "cells": [
    {
      "cell_type": "markdown",
      "metadata": {
        "id": "view-in-github",
        "colab_type": "text"
      },
      "source": [
        "<a href=\"https://colab.research.google.com/github/wjdolan/DS_Portfolio/blob/main/Numpy_NN.ipynb\" target=\"_parent\"><img src=\"https://colab.research.google.com/assets/colab-badge.svg\" alt=\"Open In Colab\"/></a>"
      ]
    },
    {
      "cell_type": "markdown",
      "source": [
        "# Implementation of Neural Network (using Numpy)"
      ],
      "metadata": {
        "id": "_sNmaGEw5U1e"
      }
    },
    {
      "cell_type": "code",
      "source": [
        "import numpy as np\n",
        "import matplotlib.pyplot as plt\n"
      ],
      "metadata": {
        "id": "VBVGq8-M5h6U"
      },
      "execution_count": 2,
      "outputs": []
    },
    {
      "cell_type": "code",
      "execution_count": 1,
      "metadata": {
        "id": "Q-AeqJky5Tc3"
      },
      "outputs": [],
      "source": [
        "# Creating data set\n",
        "\n",
        "# A\n",
        "a =[0, 0, 1, 1, 0, 0,\n",
        "0, 1, 0, 0, 1, 0,\n",
        "1, 1, 1, 1, 1, 1,\n",
        "1, 0, 0, 0, 0, 1,\n",
        "1, 0, 0, 0, 0, 1]\n",
        "# B\n",
        "b =[0, 1, 1, 1, 1, 0,\n",
        "0, 1, 0, 0, 1, 0,\n",
        "0, 1, 1, 1, 1, 0,\n",
        "0, 1, 0, 0, 1, 0,\n",
        "0, 1, 1, 1, 1, 0]\n",
        "# C\n",
        "c =[0, 1, 1, 1, 1, 0,\n",
        "0, 1, 0, 0, 0, 0,\n",
        "0, 1, 0, 0, 0, 0,\n",
        "0, 1, 0, 0, 0, 0,\n",
        "0, 1, 1, 1, 1, 0]\n",
        "\n",
        "# Creating labels\n",
        "y =[[1, 0, 0],\n",
        "[0, 1, 0],\n",
        "[0, 0, 1]]\n"
      ]
    },
    {
      "cell_type": "code",
      "source": [
        "plt.imshow(np.array(a).reshape(5,6))\n",
        "plt.show()"
      ],
      "metadata": {
        "colab": {
          "base_uri": "https://localhost:8080/",
          "height": 265
        },
        "id": "4UJKgFz_5h88",
        "outputId": "37969e65-1324-49d3-be27-c2e0ecc6a0f4"
      },
      "execution_count": 5,
      "outputs": [
        {
          "output_type": "display_data",
          "data": {
            "text/plain": [
              "<Figure size 432x288 with 1 Axes>"
            ],
            "image/png": "[encoded data removed]"
          },
          "metadata": {
            "needs_background": "light"
          }
        }
      ]
    },
    {
      "cell_type": "code",
      "source": [
        "# converting data and labels into numpy array\n",
        "\n",
        "\"\"\"\n",
        "Convert the matrix of 0 and 1 into one hot vector\n",
        "so that we can directly feed it to the neural network,\n",
        "these vectors are then stored in a list x.\n",
        "\"\"\"\n",
        "\n",
        "x =[np.array(a).reshape(1, 30), np.array(b).reshape(1, 30),\n",
        "\t\t\t\t\t\t\t\tnp.array(c).reshape(1, 30)]\n",
        "\n",
        "\n",
        "# Labels are also converted into NumPy array\n",
        "y = np.array(y)\n",
        "\n",
        "\n",
        "print(x, \"\\n\\n\", y)\n"
      ],
      "metadata": {
        "colab": {
          "base_uri": "https://localhost:8080/"
        },
        "id": "DJLLpqQP5iDA",
        "outputId": "0d037ce7-164b-49da-8839-c0520344d151"
      },
      "execution_count": 6,
      "outputs": [
        {
          "output_type": "stream",
          "name": "stdout",
          "text": [
            "[array([[0, 0, 1, 1, 0, 0, 0, 1, 0, 0, 1, 0, 1, 1, 1, 1, 1, 1, 1, 0, 0, 0,\n",
            "        0, 1, 1, 0, 0, 0, 0, 1]]), array([[0, 1, 1, 1, 1, 0, 0, 1, 0, 0, 1, 0, 0, 1, 1, 1, 1, 0, 0, 1, 0, 0,\n",
            "        1, 0, 0, 1, 1, 1, 1, 0]]), array([[0, 1, 1, 1, 1, 0, 0, 1, 0, 0, 0, 0, 0, 1, 0, 0, 0, 0, 0, 1, 0, 0,\n",
            "        0, 0, 0, 1, 1, 1, 1, 0]])] \n",
            "\n",
            " [[1 0 0]\n",
            " [0 1 0]\n",
            " [0 0 1]]\n"
          ]
        }
      ]
    },
    {
      "cell_type": "code",
      "source": [
        "# activation function\n",
        "\n",
        "def sigmoid(x):\n",
        "\treturn(1/(1 + np.exp(-x)))\n",
        "\n",
        "# Creating the Feed forward neural network\n",
        "# 1 Input layer(1, 30)\n",
        "# 1 hidden layer (1, 5)\n",
        "# 1 output layer(3, 3)\n",
        "\n",
        "def f_forward(x, w1, w2):\n",
        "\t# hidden\n",
        "\tz1 = x.dot(w1)# input from layer 1\n",
        "\ta1 = sigmoid(z1)# out put of layer 2\n",
        "\t\n",
        "\t# Output layer\n",
        "\tz2 = a1.dot(w2)# input of out layer\n",
        "\ta2 = sigmoid(z2)# output of out layer\n",
        "\treturn(a2)\n",
        "\n",
        "# initializing the weights randomly\n",
        "def generate_wt(x, y):\n",
        "\tl =[]\n",
        "\tfor i in range(x * y):\n",
        "\t\tl.append(np.random.randn())\n",
        "\treturn(np.array(l).reshape(x, y))\n",
        "\t\n",
        "# for loss we will be using mean square error(MSE)\n",
        "def loss(out, Y):\n",
        "\ts =(np.square(out-Y))\n",
        "\ts = np.sum(s)/len(y)\n",
        "\treturn(s)\n",
        "\n",
        "# Back propagation of error\n",
        "def back_prop(x, y, w1, w2, alpha):\n",
        "\t\n",
        "\t# hidden layer\n",
        "\tz1 = x.dot(w1)# input from layer 1\n",
        "\ta1 = sigmoid(z1)# output of layer 2\n",
        "\t\n",
        "\t# Output layer\n",
        "\tz2 = a1.dot(w2)# input of out layer\n",
        "\ta2 = sigmoid(z2)# output of out layer\n",
        "\t# error in output layer\n",
        "\td2 =(a2-y)\n",
        "\td1 = np.multiply((w2.dot((d2.transpose()))).transpose(),\n",
        "\t\t\t\t\t\t\t\t(np.multiply(a1, 1-a1)))\n",
        "\n",
        "\t# Gradient for w1 and w2\n",
        "\tw1_adj = x.transpose().dot(d1)\n",
        "\tw2_adj = a1.transpose().dot(d2)\n",
        "\t\n",
        "\t# Updating parameters\n",
        "\tw1 = w1-(alpha*(w1_adj))\n",
        "\tw2 = w2-(alpha*(w2_adj))\n",
        "\t\n",
        "\treturn(w1, w2)\n",
        "\n",
        "def train(x, Y, w1, w2, alpha = 0.01, epoch = 10):\n",
        "\tacc =[]\n",
        "\tlosss =[]\n",
        "\tfor j in range(epoch):\n",
        "\t\tl =[]\n",
        "\t\tfor i in range(len(x)):\n",
        "\t\t\tout = f_forward(x[i], w1, w2)\n",
        "\t\t\tl.append((loss(out, Y[i])))\n",
        "\t\t\tw1, w2 = back_prop(x[i], y[i], w1, w2, alpha)\n",
        "\t\tprint(\"epochs:\", j + 1, \"======== acc:\", (1-(sum(l)/len(x)))*100)\n",
        "\t\tacc.append((1-(sum(l)/len(x)))*100)\n",
        "\t\tlosss.append(sum(l)/len(x))\n",
        "\treturn(acc, losss, w1, w2)\n",
        "\n",
        "def predict(x, w1, w2):\n",
        "\tOut = f_forward(x, w1, w2)\n",
        "\tmaxm = 0\n",
        "\tk = 0\n",
        "\tfor i in range(len(Out[0])):\n",
        "\t\tif(maxm<Out[0][i]):\n",
        "\t\t\tmaxm = Out[0][i]\n",
        "\t\t\tk = i\n",
        "\tif(k == 0):\n",
        "\t\tprint(\"Image is of letter A.\")\n",
        "\telif(k == 1):\n",
        "\t\tprint(\"Image is of letter B.\")\n",
        "\telse:\n",
        "\t\tprint(\"Image is of letter C.\")\n",
        "\tplt.imshow(x.reshape(5, 6))\n",
        "\tplt.show()\n",
        "\n",
        "\n"
      ],
      "metadata": {
        "id": "9IIJdWSF6Ayg"
      },
      "execution_count": 7,
      "outputs": []
    },
    {
      "cell_type": "code",
      "source": [
        "w1 = generate_wt(30, 5)\n",
        "w2 = generate_wt(5, 3)\n",
        "print(w1, \"\\n\\n\", w2)\n"
      ],
      "metadata": {
        "colab": {
          "base_uri": "https://localhost:8080/"
        },
        "id": "4XfyzKm16A1a",
        "outputId": "a3403858-bb11-4d78-93d6-901e6ba3a43b"
      },
      "execution_count": 8,
      "outputs": [
        {
          "output_type": "stream",
          "name": "stdout",
          "text": [
            "[[ 1.22367499 -0.93524045 -0.06038488 -0.07054614  0.34948736]\n",
            " [ 1.23628826 -1.37466163 -1.62338754 -1.06601407  1.43101653]\n",
            " [ 0.65162291 -0.03819858 -1.58005415  0.20645299  1.97949556]\n",
            " [ 0.17455154 -0.31444721 -1.65532331 -1.5094146   1.0511865 ]\n",
            " [-0.69718977  0.53434652  1.74522456 -1.69787872  0.22208195]\n",
            " [-0.4609921  -0.21019173  2.22329673  0.31941403 -1.72841879]\n",
            " [ 1.21614548 -0.3045013  -0.25204344  0.58500187  0.49318044]\n",
            " [-1.1487785   2.22321048  0.15549893  0.64127832  1.28562323]\n",
            " [ 0.99345092 -1.79784822  0.66388185 -0.63965536  0.03149147]\n",
            " [-2.05188846 -1.5733835  -0.91836787 -1.97438596 -1.23966019]\n",
            " [ 1.40460161  0.89353608  1.75851319  1.83695952 -0.46397056]\n",
            " [ 0.49223037 -0.10066427  0.38664037  0.55985389  0.87406375]\n",
            " [-0.13049246  1.080731   -1.12617477 -3.28336893  1.21901744]\n",
            " [-0.42958105 -0.49673851 -0.13895403 -1.43111695 -0.65426634]\n",
            " [ 1.95462918  1.06750011  0.97408352  2.15822689  0.5930947 ]\n",
            " [-0.77582223  1.01122355 -0.14332745  0.71394995 -0.42608593]\n",
            " [-0.0179195   0.86702717 -0.16527111  0.96220128  1.14616408]\n",
            " [ 0.00421346 -1.82737562  0.18633851 -0.29718518  0.92052106]\n",
            " [-0.49130283 -1.22994407  0.46392902  0.98225807  0.43315941]\n",
            " [-0.88318004  0.26798083  1.3111012  -1.24763102 -0.21865998]\n",
            " [ 0.83206556  0.09690301 -1.10698175 -1.04324896  0.02043809]\n",
            " [ 0.85602876  2.47206233  1.02574997  0.60330382  0.70972387]\n",
            " [-0.38238331 -1.27886022 -0.83331118  0.23012901 -1.08980302]\n",
            " [ 0.4422897  -2.36838569  1.54367915 -0.6730726   0.18636729]\n",
            " [ 1.56102115  0.94153365  0.50209642 -0.13165947 -0.59059336]\n",
            " [ 0.14600233  0.58086548  0.39335342  0.8959537  -0.02914119]\n",
            " [-1.02809138 -0.19621476  0.21519501  0.96883437 -0.63524684]\n",
            " [-0.21741183 -0.33270923 -0.47513156 -0.50639733  1.91932629]\n",
            " [-0.06913564  0.162073    0.95939502  2.03889589 -0.08275942]\n",
            " [-1.52011705  0.62725274 -1.28085362 -0.11303656 -0.61266741]] \n",
            "\n",
            " [[ 1.05289053  0.21530636 -0.98003475]\n",
            " [-0.10474807 -0.32623244 -0.69882531]\n",
            " [-0.05262093 -1.02375084 -1.45014197]\n",
            " [-0.58948627 -0.68511212 -1.01599007]\n",
            " [ 1.34997491 -0.25100617  0.48878823]]\n"
          ]
        }
      ]
    },
    {
      "cell_type": "code",
      "source": [
        "\"\"\"The arguments of train function are data set list x,\n",
        "correct labels y, weights w1, w2, learning rate = 0.1,\n",
        "no of epochs or iteration.The function will return the\n",
        "matrix of accuracy and loss and also the matrix of\n",
        "trained weights w1, w2\"\"\"\n",
        "\n",
        "acc, losss, w1, w2 = train(x, y, w1, w2, 0.1, 100)\n"
      ],
      "metadata": {
        "colab": {
          "base_uri": "https://localhost:8080/"
        },
        "id": "AXTZhxQf735e",
        "outputId": "ab767abc-c78b-4795-e5af-45e52e0867bf"
      },
      "execution_count": 9,
      "outputs": [
        {
          "output_type": "stream",
          "name": "stdout",
          "text": [
            "epochs: 1 ======== acc: 71.37622477469093\n",
            "epochs: 2 ======== acc: 74.00588463274384\n",
            "epochs: 3 ======== acc: 76.03841195398958\n",
            "epochs: 4 ======== acc: 77.54784758299257\n",
            "epochs: 5 ======== acc: 78.66912320493822\n",
            "epochs: 6 ======== acc: 79.5251444333279\n",
            "epochs: 7 ======== acc: 80.20756237743142\n",
            "epochs: 8 ======== acc: 80.77916224279238\n",
            "epochs: 9 ======== acc: 81.28125986270388\n",
            "epochs: 10 ======== acc: 81.74050441311618\n",
            "epochs: 11 ======== acc: 82.17388284885433\n",
            "epochs: 12 ======== acc: 82.59209128497663\n",
            "epochs: 13 ======== acc: 83.0017173422632\n",
            "epochs: 14 ======== acc: 83.40663166128053\n",
            "epochs: 15 ======== acc: 83.80887884049454\n",
            "epochs: 16 ======== acc: 84.20926236328255\n",
            "epochs: 17 ======== acc: 84.60774711558146\n",
            "epochs: 18 ======== acc: 85.00375323085058\n",
            "epochs: 19 ======== acc: 85.39638109939844\n",
            "epochs: 20 ======== acc: 85.78458595572384\n",
            "epochs: 21 ======== acc: 86.16730906815118\n",
            "epochs: 22 ======== acc: 86.54356867358537\n",
            "epochs: 23 ======== acc: 86.91251445590571\n",
            "epochs: 24 ======== acc: 87.27345164395204\n",
            "epochs: 25 ======== acc: 87.62584259040315\n",
            "epochs: 26 ======== acc: 87.96929404376043\n",
            "epochs: 27 ======== acc: 88.30353729691554\n",
            "epochs: 28 ======== acc: 88.6284065618166\n",
            "epochs: 29 ======== acc: 88.94381892034791\n",
            "epochs: 30 ======== acc: 89.24975748599526\n",
            "epochs: 31 ======== acc: 89.54625818019781\n",
            "epochs: 32 ======== acc: 89.83339979043137\n",
            "epochs: 33 ======== acc: 90.11129663847572\n",
            "epochs: 34 ======== acc: 90.38009311923321\n",
            "epochs: 35 ======== acc: 90.6399594561272\n",
            "epochs: 36 ======== acc: 90.89108817080894\n",
            "epochs: 37 ======== acc: 91.13369092618686\n",
            "epochs: 38 ======== acc: 91.36799554206256\n",
            "epochs: 39 ======== acc: 91.5942430895605\n",
            "epochs: 40 ======== acc: 91.81268504294896\n",
            "epochs: 41 ======== acc: 92.02358051009809\n",
            "epochs: 42 ======== acc: 92.22719358267737\n",
            "epochs: 43 ======== acc: 92.42379085132637\n",
            "epochs: 44 ======== acc: 92.61363912551964\n",
            "epochs: 45 ======== acc: 92.79700338738338\n",
            "epochs: 46 ======== acc: 92.97414499661923\n",
            "epochs: 47 ======== acc: 93.14532015207222\n",
            "epochs: 48 ======== acc: 93.31077860554208\n",
            "epochs: 49 ======== acc: 93.47076261571571\n",
            "epochs: 50 ======== acc: 93.62550612468459\n",
            "epochs: 51 ======== acc: 93.77523413623432\n",
            "epochs: 52 ======== acc: 93.9201622736388\n",
            "epochs: 53 ======== acc: 94.06049649469203\n",
            "epochs: 54 ======== acc: 94.19643294279471\n",
            "epochs: 55 ======== acc: 94.3281579147357\n",
            "epochs: 56 ======== acc: 94.45584792806751\n",
            "epochs: 57 ======== acc: 94.5796698734079\n",
            "epochs: 58 ======== acc: 94.6997812393903\n",
            "epochs: 59 ======== acc: 94.81633040015747\n",
            "epochs: 60 ======== acc: 94.92945695710489\n",
            "epochs: 61 ======== acc: 95.03929212793491\n",
            "epochs: 62 ======== acc: 95.1459591769185\n",
            "epochs: 63 ======== acc: 95.24957388056528\n",
            "epochs: 64 ======== acc: 95.35024502270925\n",
            "epochs: 65 ======== acc: 95.44807491240952\n",
            "epochs: 66 ======== acc: 95.54315991718106\n",
            "epochs: 67 ======== acc: 95.63559100307602\n",
            "epochs: 68 ======== acc: 95.72545427223508\n",
            "epochs: 69 ======== acc: 95.81283148790993\n",
            "epochs: 70 ======== acc: 95.89780057680203\n",
            "epochs: 71 ======== acc: 95.98043609898296\n",
            "epochs: 72 ======== acc: 96.06080967671217\n",
            "epochs: 73 ======== acc: 96.13899037511156\n",
            "epochs: 74 ======== acc: 96.21504502978307\n",
            "epochs: 75 ======== acc: 96.28903851888548\n",
            "epochs: 76 ======== acc: 96.36103397970713\n",
            "epochs: 77 ======== acc: 96.43109297216064\n",
            "epochs: 78 ======== acc: 96.49927559368714\n",
            "epochs: 79 ======== acc: 96.56564055164799\n",
            "epochs: 80 ======== acc: 96.63024520031726\n",
            "epochs: 81 ======== acc: 96.69314555005491\n",
            "epochs: 82 ======== acc: 96.75439625618428\n",
            "epochs: 83 ======== acc: 96.81405059460523\n",
            "epochs: 84 ======== acc: 96.8721604303621\n",
            "epochs: 85 ======== acc: 96.92877618437427\n",
            "epochs: 86 ======== acc: 96.9839468024412\n",
            "epochs: 87 ======== acc: 97.03771972954775\n",
            "epochs: 88 ======== acc: 97.0901408914932\n",
            "epochs: 89 ======== acc: 97.14125468499337\n",
            "epochs: 90 ======== acc: 97.19110397668541\n",
            "epochs: 91 ======== acc: 97.23973011090503\n",
            "epochs: 92 ======== acc: 97.28717292569638\n",
            "epochs: 93 ======== acc: 97.3334707762413\n",
            "epochs: 94 ======== acc: 97.37866056473341\n",
            "epochs: 95 ======== acc: 97.4227777756522\n",
            "epochs: 96 ======== acc: 97.46585651538967\n",
            "epochs: 97 ======== acc: 97.50792955522925\n",
            "epochs: 98 ======== acc: 97.54902837675414\n",
            "epochs: 99 ======== acc: 97.5891832188607\n",
            "epochs: 100 ======== acc: 97.6284231256572\n"
          ]
        }
      ]
    },
    {
      "cell_type": "code",
      "source": [
        "import matplotlib.pyplot as plt1\n",
        "\n",
        "# ploting accuracy\n",
        "plt1.plot(acc)\n",
        "plt1.ylabel('Accuracy')\n",
        "plt1.xlabel(\"Epochs:\")\n",
        "plt1.show()\n",
        "\n",
        "# plotting Loss\n",
        "plt1.plot(losss)\n",
        "plt1.ylabel('Loss')\n",
        "plt1.xlabel(\"Epochs:\")\n",
        "plt1.show()\n"
      ],
      "metadata": {
        "colab": {
          "base_uri": "https://localhost:8080/",
          "height": 541
        },
        "id": "ELZdWAOs738K",
        "outputId": "4707aa6f-0c6e-4d50-bf9a-2ef85b9c1fd1"
      },
      "execution_count": 10,
      "outputs": [
        {
          "output_type": "display_data",
          "data": {
            "text/plain": [
              "<Figure size 432x288 with 1 Axes>"
            ],
            "image/png": "[encoded data removed]"
          },
          "metadata": {
            "needs_background": "light"
          }
        },
        {
          "output_type": "display_data",
          "data": {
            "text/plain": [
              "<Figure size 432x288 with 1 Axes>"
            ],
            "image/png": "[encoded data removed]"
          },
          "metadata": {
            "needs_background": "light"
          }
        }
      ]
    },
    {
      "cell_type": "code",
      "source": [
        "# the trained weights are\n",
        "print(w1, \"\\n\", w2)\n"
      ],
      "metadata": {
        "colab": {
          "base_uri": "https://localhost:8080/"
        },
        "id": "cE3woE1b8ZM-",
        "outputId": "34639988-b382-4a66-bf1b-18bf1140ad0e"
      },
      "execution_count": 11,
      "outputs": [
        {
          "output_type": "stream",
          "name": "stdout",
          "text": [
            "[[ 1.22367499 -0.93524045 -0.06038488 -0.07054614  0.34948736]\n",
            " [ 0.91188405 -1.13684573 -2.05224435 -1.0007777   1.42846623]\n",
            " [ 0.62484187 -0.10016294 -1.55456884 -0.05395938  1.9772766 ]\n",
            " [ 0.14777049 -0.37641157 -1.62983801 -1.76982697  1.04896755]\n",
            " [-1.02159399  0.77216242  1.31636775 -1.63264234  0.21953165]\n",
            " [-0.4609921  -0.21019173  2.22329673  0.31941403 -1.72841879]\n",
            " [ 1.21614548 -0.3045013  -0.25204344  0.58500187  0.49318044]\n",
            " [-1.17555954  2.16124611  0.18098424  0.38086595  1.28340427]\n",
            " [ 0.99345092 -1.79784822  0.66388185 -0.63965536  0.03149147]\n",
            " [-2.05188846 -1.5733835  -0.91836787 -1.97438596 -1.23966019]\n",
            " [ 1.56783708  0.61250061  1.95961603  1.91218652 -0.47555284]\n",
            " [ 0.49223037 -0.10066427  0.38664037  0.55985389  0.87406375]\n",
            " [ 0.16713071  0.78095074 -0.67183265 -3.60901767  1.21934879]\n",
            " [-0.4563621  -0.55870287 -0.11346872 -1.69152932 -0.6564853 ]\n",
            " [ 2.11786464  0.78646464  1.17518636  2.23345389  0.58151241]\n",
            " [-0.61258676  0.73018808  0.0577754   0.78917695 -0.43766822]\n",
            " [ 0.14531596  0.5859917   0.03583174  1.03742828  1.1345818 ]\n",
            " [ 0.30183664 -2.12715588  0.64068063 -0.62283392  0.9208524 ]\n",
            " [-0.19367966 -1.52972434  0.91827113  0.65660933  0.43349076]\n",
            " [-1.20758426  0.50579674  0.88224439 -1.18239464 -0.22121029]\n",
            " [ 0.83206556  0.09690301 -1.10698175 -1.04324896  0.02043809]\n",
            " [ 0.85602876  2.47206233  1.02574997  0.60330382  0.70972387]\n",
            " [-0.51677102 -1.26011543 -1.08655045  0.63100475 -1.10171665]\n",
            " [ 0.73991287 -2.66816595  1.99802127 -0.99872134  0.18669864]\n",
            " [ 1.85864432  0.64175338  0.95643854 -0.45730821 -0.59026201]\n",
            " [-0.17840189  0.81868138 -0.03550339  0.96119007 -0.03169149]\n",
            " [-1.3524956   0.04160114 -0.2136618   1.03407074 -0.63779714]\n",
            " [-0.54181605 -0.09489333 -0.90398837 -0.44116096  1.91677598]\n",
            " [-0.39353986  0.3998889   0.5305382   2.10413226 -0.08530973]\n",
            " [-1.22249388  0.32747247 -0.8265115  -0.4386853  -0.61233606]] \n",
            " [[ 2.87972544 -0.65470679 -2.01225401]\n",
            " [-1.85560248 -0.29329509 -0.06825043]\n",
            " [ 0.89257184 -1.16824819 -2.2709539 ]\n",
            " [-1.60496386  2.88592441 -2.60607403]\n",
            " [-0.48857863 -0.98935942  1.47462126]]\n"
          ]
        }
      ]
    },
    {
      "cell_type": "code",
      "source": [
        "\n",
        "\"\"\"\n",
        "The predict function will take the following arguments:\n",
        "1) image matrix\n",
        "2) w1 trained weights\n",
        "3) w2 trained weights\n",
        "\"\"\"\n",
        "predict(x[1], w1, w2)"
      ],
      "metadata": {
        "colab": {
          "base_uri": "https://localhost:8080/",
          "height": 282
        },
        "id": "1r0fb0z78ZHY",
        "outputId": "f0914c56-2166-4d6b-c964-0eefbf8e221c"
      },
      "execution_count": 12,
      "outputs": [
        {
          "output_type": "stream",
          "name": "stdout",
          "text": [
            "Image is of letter B.\n"
          ]
        },
        {
          "output_type": "display_data",
          "data": {
            "text/plain": [
              "<Figure size 432x288 with 1 Axes>"
            ],
            "image/png": "[encoded data removed]"
          },
          "metadata": {
            "needs_background": "light"
          }
        }
      ]
    },
    {
      "cell_type": "code",
      "source": [
        ""
      ],
      "metadata": {
        "id": "hDIN42Aj8ZE2"
      },
      "execution_count": null,
      "outputs": []
    }
  ]
}