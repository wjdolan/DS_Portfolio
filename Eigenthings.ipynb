{
  "nbformat": 4,
  "nbformat_minor": 0,
  "metadata": {
    "colab": {
      "name": "Eigenthings.ipynb",
      "provenance": [],
      "authorship_tag": "ABX9TyPzL3ctGFm9y+MSRRuoIFS0",
      "include_colab_link": true
    },
    "kernelspec": {
      "name": "python3",
      "display_name": "Python 3"
    },
    "language_info": {
      "name": "python"
    }
  },
  "cells": [
    {
      "cell_type": "markdown",
      "metadata": {
        "id": "view-in-github",
        "colab_type": "text"
      },
      "source": [
        "<a href=\"https://colab.research.google.com/github/wjdolan/DS_Portfolio/blob/main/Eigenthings.ipynb\" target=\"_parent\"><img src=\"https://colab.research.google.com/assets/colab-badge.svg\" alt=\"Open In Colab\"/></a>"
      ]
    },
    {
      "cell_type": "markdown",
      "source": [
        "# **Matrices as Linear Transformations**"
      ],
      "metadata": {
        "id": "JrxiqWVZt_GJ"
      }
    },
    {
      "cell_type": "code",
      "execution_count": 1,
      "metadata": {
        "id": "24q_5jG8t2DJ"
      },
      "outputs": [],
      "source": [
        "import numpy as np\n",
        "import matplotlib.pyplot as plt\n",
        "\n",
        "# set the default style of figures\n",
        "plt.style.use('fivethirtyeight')"
      ]
    },
    {
      "cell_type": "code",
      "source": [
        "A = np.array([[-1, 3], [2, -2]])\n",
        "A"
      ],
      "metadata": {
        "colab": {
          "base_uri": "https://localhost:8080/"
        },
        "id": "I4O4YIW9t2vo",
        "outputId": "fe3c6b74-46e5-4b53-e50d-83df99fee074"
      },
      "execution_count": 2,
      "outputs": [
        {
          "output_type": "execute_result",
          "data": {
            "text/plain": [
              "array([[-1,  3],\n",
              "       [ 2, -2]])"
            ]
          },
          "metadata": {},
          "execution_count": 2
        }
      ]
    },
    {
      "cell_type": "code",
      "source": [
        "v = np.array([[2], [1]])\n",
        "v"
      ],
      "metadata": {
        "colab": {
          "base_uri": "https://localhost:8080/"
        },
        "id": "kLEzVi3mt2x1",
        "outputId": "aae510fc-926c-4dcf-b808-fe6e3b68b4fc"
      },
      "execution_count": 3,
      "outputs": [
        {
          "output_type": "execute_result",
          "data": {
            "text/plain": [
              "array([[2],\n",
              "       [1]])"
            ]
          },
          "metadata": {},
          "execution_count": 3
        }
      ]
    },
    {
      "cell_type": "code",
      "source": [
        "def plotVectors(vecs, colors, alpha=1, figsize=(10,8)):\n",
        "    \"\"\"\n",
        "    Plot set of vectors.\n",
        "\n",
        "    Parameters\n",
        "    ----------\n",
        "    vecs : array-like\n",
        "        Coordinates of the vectors to plot. Each vectors is in an array. For\n",
        "        instance: [[1, 3], [2, 2]] can be used to plot 2 vectors.\n",
        "    colors : array-like\n",
        "        Colors of the vectors. For instance: ['red', 'blue'] will display the\n",
        "        first vector in red and the second in blue.\n",
        "    alpha : float\n",
        "        Opacity of vectors\n",
        "    figsize : tuple (x_size,y_size)\n",
        "        Size of the figure\n",
        "\n",
        "    Returns:\n",
        "\n",
        "    fig : instance of matplotlib.figure.Figure\n",
        "        The figure of the vectors\n",
        "    \"\"\"\n",
        "    plt.figure(figsize=figsize)\n",
        "    plt.axvline(x=0, color='#A9A9A9', zorder=0)\n",
        "    plt.axhline(y=0, color='#A9A9A9', zorder=0)\n",
        "\n",
        "    vecs = [vec.flatten() for vec in vecs]\n",
        "\n",
        "    for i in range(len(vecs)):\n",
        "        x = np.concatenate([[0,0],vecs[i]])\n",
        "        plt.quiver([x[0]],\n",
        "                   [x[1]],\n",
        "                   [x[2]],\n",
        "                   [x[3]],\n",
        "                   angles='xy', scale_units='xy', scale=1, color=colors[i],\n",
        "                   alpha=alpha)"
      ],
      "metadata": {
        "id": "1jmkZcjqt20D"
      },
      "execution_count": 4,
      "outputs": []
    },
    {
      "cell_type": "code",
      "source": [
        "Av = A.dot(v)\n",
        "Av"
      ],
      "metadata": {
        "colab": {
          "base_uri": "https://localhost:8080/"
        },
        "id": "9L6-uLKuuLRC",
        "outputId": "cef1e679-d36a-4fc0-e0f0-f46fd7558769"
      },
      "execution_count": 5,
      "outputs": [
        {
          "output_type": "execute_result",
          "data": {
            "text/plain": [
              "array([[1],\n",
              "       [2]])"
            ]
          },
          "metadata": {},
          "execution_count": 5
        }
      ]
    },
    {
      "cell_type": "code",
      "source": [
        "plotVectors([v, Av], colors=['#1190FF', '#FF9A13'])\n",
        "plt.ylim(-1, 4)\n",
        "plt.xlim(-1, 4)\n",
        "plt.show()"
      ],
      "metadata": {
        "colab": {
          "base_uri": "https://localhost:8080/",
          "height": 483
        },
        "id": "Vs3MHgQFufxm",
        "outputId": "91f1d204-58a8-4eec-8210-f20abe697ffe"
      },
      "execution_count": 6,
      "outputs": [
        {
          "output_type": "display_data",
          "data": {
            "text/plain": [
              "<Figure size 720x576 with 1 Axes>"
            ],
            "image/png": "[encoded data removed]"
          },
          "metadata": {
            "needs_background": "light"
          }
        }
      ]
    },
    {
      "cell_type": "markdown",
      "source": [
        "## Eigenvectors"
      ],
      "metadata": {
        "id": "TFsDLLgQu63S"
      }
    },
    {
      "cell_type": "code",
      "source": [
        "A = np.array([[5, 1], [3, 3]])\n",
        "A"
      ],
      "metadata": {
        "colab": {
          "base_uri": "https://localhost:8080/"
        },
        "id": "VSrcgWvcu6jc",
        "outputId": "6bba0a70-4f74-4a8f-db6c-7cbfcddeb8fa"
      },
      "execution_count": 7,
      "outputs": [
        {
          "output_type": "execute_result",
          "data": {
            "text/plain": [
              "array([[5, 1],\n",
              "       [3, 3]])"
            ]
          },
          "metadata": {},
          "execution_count": 7
        }
      ]
    },
    {
      "cell_type": "code",
      "source": [
        "v1 = np.array([[1], [1]])\n",
        "v1"
      ],
      "metadata": {
        "colab": {
          "base_uri": "https://localhost:8080/"
        },
        "id": "_hMK4U7Bufue",
        "outputId": "ef4d2923-4e53-4e06-daef-75f4c2ac0ad2"
      },
      "execution_count": 8,
      "outputs": [
        {
          "output_type": "execute_result",
          "data": {
            "text/plain": [
              "array([[1],\n",
              "       [1]])"
            ]
          },
          "metadata": {},
          "execution_count": 8
        }
      ]
    },
    {
      "cell_type": "code",
      "source": [
        "Av1 = A.dot(v1)\n",
        "Av1"
      ],
      "metadata": {
        "colab": {
          "base_uri": "https://localhost:8080/"
        },
        "id": "E6mvXtw8v7F4",
        "outputId": "013253c5-da22-4487-af85-335eb24a3226"
      },
      "execution_count": 12,
      "outputs": [
        {
          "output_type": "execute_result",
          "data": {
            "text/plain": [
              "array([[6],\n",
              "       [6]])"
            ]
          },
          "metadata": {},
          "execution_count": 12
        }
      ]
    },
    {
      "cell_type": "code",
      "source": [
        "orange = '#FF9A13'\n",
        "blue = '#1190FF'\n",
        "\n",
        "plotVectors([Av1, v1], colors=[blue, orange])\n",
        "plt.ylim(-1, 7)\n",
        "plt.xlim(-1, 7)\n",
        "plt.show()"
      ],
      "metadata": {
        "colab": {
          "base_uri": "https://localhost:8080/",
          "height": 483
        },
        "id": "Xkk-0UN1uflc",
        "outputId": "a955ed1a-5248-4574-ed0d-b0de7be3d3a5"
      },
      "execution_count": 13,
      "outputs": [
        {
          "output_type": "display_data",
          "data": {
            "text/plain": [
              "<Figure size 720x576 with 1 Axes>"
            ],
            "image/png": "[encoded data removed]"
          },
          "metadata": {
            "needs_background": "light"
          }
        }
      ]
    },
    {
      "cell_type": "code",
      "source": [
        "v2 = np.array([[1], [-3]])\n",
        "v2"
      ],
      "metadata": {
        "colab": {
          "base_uri": "https://localhost:8080/"
        },
        "id": "rmMNQJgkv0bG",
        "outputId": "1e94453b-dea8-489b-c93e-0c42bc9117a2"
      },
      "execution_count": 14,
      "outputs": [
        {
          "output_type": "execute_result",
          "data": {
            "text/plain": [
              "array([[ 1],\n",
              "       [-3]])"
            ]
          },
          "metadata": {},
          "execution_count": 14
        }
      ]
    },
    {
      "cell_type": "code",
      "source": [
        "\n",
        "Av2 = A.dot(v2)\n",
        "\n",
        "plotVectors([Av2, v2], colors=[blue, orange])\n",
        "plt.ylim(-7, 1)\n",
        "plt.xlim(-1, 3)\n",
        "plt.show()"
      ],
      "metadata": {
        "colab": {
          "base_uri": "https://localhost:8080/",
          "height": 483
        },
        "id": "fTMKLlJPv0Ye",
        "outputId": "81117aba-8e17-4646-c311-ae7732ec9b96"
      },
      "execution_count": 15,
      "outputs": [
        {
          "output_type": "display_data",
          "data": {
            "text/plain": [
              "<Figure size 720x576 with 1 Axes>"
            ],
            "image/png": "[encoded data removed]"
          },
          "metadata": {
            "needs_background": "light"
          }
        }
      ]
    },
    {
      "cell_type": "markdown",
      "source": [
        "## Find Eigenvalues and Eigenvectors with `Numpy`"
      ],
      "metadata": {
        "id": "o4LafYY6wYNe"
      }
    },
    {
      "cell_type": "code",
      "source": [
        "eigenvals, V = np.linalg.eig(A)"
      ],
      "metadata": {
        "id": "q7u25cKSwXbD"
      },
      "execution_count": 16,
      "outputs": []
    },
    {
      "cell_type": "code",
      "source": [
        "eigenvals"
      ],
      "metadata": {
        "colab": {
          "base_uri": "https://localhost:8080/"
        },
        "id": "2m94MUplv0WC",
        "outputId": "0f17b045-d621-4555-c493-a70fc2775bcc"
      },
      "execution_count": 22,
      "outputs": [
        {
          "output_type": "execute_result",
          "data": {
            "text/plain": [
              "array([6., 2.])"
            ]
          },
          "metadata": {},
          "execution_count": 22
        }
      ]
    },
    {
      "cell_type": "code",
      "source": [
        "V"
      ],
      "metadata": {
        "colab": {
          "base_uri": "https://localhost:8080/"
        },
        "id": "f_bOQl6AwkxE",
        "outputId": "00baf43f-2ca7-4d38-e355-888c042b12ad"
      },
      "execution_count": 20,
      "outputs": [
        {
          "output_type": "execute_result",
          "data": {
            "text/plain": [
              "array([[ 0.70710678, -0.31622777],\n",
              "       [ 0.70710678,  0.9486833 ]])"
            ]
          },
          "metadata": {},
          "execution_count": 20
        }
      ]
    },
    {
      "cell_type": "markdown",
      "source": [
        "## Reconstruct Matrix A with its Eigenvectors and Eigenvalues"
      ],
      "metadata": {
        "id": "gCYgpBpGxLTi"
      }
    },
    {
      "cell_type": "code",
      "source": [
        "lambdas = np.diag(eigenvals)\n",
        "lambdas"
      ],
      "metadata": {
        "colab": {
          "base_uri": "https://localhost:8080/"
        },
        "id": "8mhMjEPrwksl",
        "outputId": "1f256f21-c924-400e-e79b-48f83d91b361"
      },
      "execution_count": 23,
      "outputs": [
        {
          "output_type": "execute_result",
          "data": {
            "text/plain": [
              "array([[6., 0.],\n",
              "       [0., 2.]])"
            ]
          },
          "metadata": {},
          "execution_count": 23
        }
      ]
    },
    {
      "cell_type": "code",
      "source": [
        "V_inv = np.linalg.inv(V)\n",
        "V_inv"
      ],
      "metadata": {
        "colab": {
          "base_uri": "https://localhost:8080/"
        },
        "id": "5TWuBeu3wkqH",
        "outputId": "29636f78-c236-4336-b064-e48b8734ca16"
      },
      "execution_count": 24,
      "outputs": [
        {
          "output_type": "execute_result",
          "data": {
            "text/plain": [
              "array([[ 1.06066017,  0.35355339],\n",
              "       [-0.79056942,  0.79056942]])"
            ]
          },
          "metadata": {},
          "execution_count": 24
        }
      ]
    },
    {
      "cell_type": "code",
      "source": [
        "A_orig  = V.dot(lambdas).dot(V_inv)\n",
        "A_orig"
      ],
      "metadata": {
        "colab": {
          "base_uri": "https://localhost:8080/"
        },
        "id": "OT_1VSRjxeX3",
        "outputId": "8b4b201a-6671-4cd2-ce0d-21994df84603"
      },
      "execution_count": 25,
      "outputs": [
        {
          "output_type": "execute_result",
          "data": {
            "text/plain": [
              "array([[5., 1.],\n",
              "       [3., 3.]])"
            ]
          },
          "metadata": {},
          "execution_count": 25
        }
      ]
    },
    {
      "cell_type": "code",
      "source": [
        "idm = np.identity(2)"
      ],
      "metadata": {
        "id": "c4Nb-55PxeVU"
      },
      "execution_count": 36,
      "outputs": []
    },
    {
      "cell_type": "code",
      "source": [
        "adm = np.array([[2,3],\n",
        "                [5,1]])"
      ],
      "metadata": {
        "id": "JXSSHj6hxeS-"
      },
      "execution_count": 34,
      "outputs": []
    },
    {
      "cell_type": "code",
      "source": [
        "idm.dot(adm)"
      ],
      "metadata": {
        "colab": {
          "base_uri": "https://localhost:8080/"
        },
        "id": "IJpD7I5m37XT",
        "outputId": "607d63bc-cd36-4fc8-f0f1-9043cf391b80"
      },
      "execution_count": 37,
      "outputs": [
        {
          "output_type": "execute_result",
          "data": {
            "text/plain": [
              "array([[2., 3.],\n",
              "       [5., 1.]])"
            ]
          },
          "metadata": {},
          "execution_count": 37
        }
      ]
    }
  ]
}