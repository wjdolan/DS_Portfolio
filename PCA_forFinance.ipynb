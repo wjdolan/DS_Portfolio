{
  "nbformat": 4,
  "nbformat_minor": 0,
  "metadata": {
    "colab": {
      "provenance": [],
      "authorship_tag": "ABX9TyO2aaq/xQtyAqSuzYLgxsSC",
      "include_colab_link": true
    },
    "kernelspec": {
      "name": "python3",
      "display_name": "Python 3"
    },
    "language_info": {
      "name": "python"
    }
  },
  "cells": [
    {
      "cell_type": "markdown",
      "metadata": {
        "id": "view-in-github",
        "colab_type": "text"
      },
      "source": [
        "<a href=\"https://colab.research.google.com/github/wjdolan/DS_Portfolio/blob/main/PCA_forFinance.ipynb\" target=\"_parent\"><img src=\"https://colab.research.google.com/assets/colab-badge.svg\" alt=\"Open In Colab\"/></a>"
      ]
    },
    {
      "cell_type": "markdown",
      "source": [
        "# Using PCA in Finance"
      ],
      "metadata": {
        "id": "omCgHtjc1yNr"
      }
    },
    {
      "cell_type": "code",
      "execution_count": 2,
      "metadata": {
        "id": "8_AXv1MR0kkv"
      },
      "outputs": [],
      "source": [
        "#!pip install yfinance"
      ]
    },
    {
      "cell_type": "code",
      "source": [
        "import yfinance as yf\n",
        "import numpy as np\n",
        "from sklearn.decomposition import PCA\n",
        "from sklearn.decomposition import FactorAnalysis\n",
        "import matplotlib.pyplot as plt\n"
      ],
      "metadata": {
        "id": "re_qb-LH2Jge"
      },
      "execution_count": 18,
      "outputs": []
    },
    {
      "cell_type": "code",
      "source": [
        "symbols = ['XOM', 'CNQ', 'MSFT', 'AU', 'GFI', 'F', 'TD']\n",
        "\n",
        "data = yf.download(symbols, start='2019-01-01', end='2022-12-31')\n",
        "portfolio_returns = data['Adj Close'].pct_change().dropna()"
      ],
      "metadata": {
        "colab": {
          "base_uri": "https://localhost:8080/"
        },
        "id": "k-FE7aqB2Jot",
        "outputId": "24f38323-f2de-463f-ca92-e1c67a57509c"
      },
      "execution_count": 4,
      "outputs": [
        {
          "output_type": "stream",
          "name": "stdout",
          "text": [
            "[*********************100%***********************]  7 of 7 completed\n"
          ]
        }
      ]
    },
    {
      "cell_type": "code",
      "source": [
        "pca = PCA(n_components=3)\n",
        "pca.fit(portfolio_returns)\n",
        "\n",
        "pct = pca.explained_variance_ratio_\n",
        "pca_components = pca.components_"
      ],
      "metadata": {
        "id": "LPzwYi4M2J3D"
      },
      "execution_count": 6,
      "outputs": []
    },
    {
      "cell_type": "code",
      "source": [
        "#plot components\n",
        "\n",
        "plt.plot(np.cumsum(pct))\n",
        "\n",
        "plt.xlabel('# of components')\n",
        "plt.ylabel('Cum explained variance');"
      ],
      "metadata": {
        "colab": {
          "base_uri": "https://localhost:8080/",
          "height": 279
        },
        "id": "tfaVafob4GL2",
        "outputId": "33e7fc02-038a-414d-ea62-99120b0bfdf9"
      },
      "execution_count": 16,
      "outputs": [
        {
          "output_type": "display_data",
          "data": {
            "text/plain": [
              "<Figure size 432x288 with 1 Axes>"
            ],
            "image/png": "[encoded data removed]"
          },
          "metadata": {
            "needs_background": "light"
          }
        }
      ]
    },
    {
      "cell_type": "code",
      "source": [
        "data_factors = FactorAnalysis(n_components=7)\n",
        "\n",
        "data_transformed = data_factors.fit_transform(portfolio_returns)\n",
        "data_transformed.shape"
      ],
      "metadata": {
        "colab": {
          "base_uri": "https://localhost:8080/"
        },
        "id": "seWab2nE4GOw",
        "outputId": "b6a92c6b-5597-40e7-803e-f86c8740677d"
      },
      "execution_count": 19,
      "outputs": [
        {
          "output_type": "execute_result",
          "data": {
            "text/plain": [
              "(1007, 7)"
            ]
          },
          "metadata": {},
          "execution_count": 19
        }
      ]
    },
    {
      "cell_type": "code",
      "source": [
        "\n",
        "\n"
      ],
      "metadata": {
        "id": "PrvtlRwB9fsX"
      },
      "execution_count": 20,
      "outputs": []
    }
  ]
}