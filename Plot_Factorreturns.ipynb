{
  "nbformat": 4,
  "nbformat_minor": 0,
  "metadata": {
    "colab": {
      "provenance": [],
      "authorship_tag": "ABX9TyNizSM7pW/IS0QXk724+Ut5",
      "include_colab_link": true
    },
    "kernelspec": {
      "name": "python3",
      "display_name": "Python 3"
    },
    "language_info": {
      "name": "python"
    }
  },
  "cells": [
    {
      "cell_type": "markdown",
      "metadata": {
        "id": "view-in-github",
        "colab_type": "text"
      },
      "source": [
        "<a href=\"https://colab.research.google.com/github/wjdolan/DS_Portfolio/blob/main/Plot_Factorreturns.ipynb\" target=\"_parent\"><img src=\"https://colab.research.google.com/assets/colab-badge.svg\" alt=\"Open In Colab\"/></a>"
      ]
    },
    {
      "cell_type": "code",
      "execution_count": 3,
      "metadata": {
        "id": "iLlXI6u6fk-J"
      },
      "outputs": [],
      "source": [
        "#!pip install yfinance"
      ]
    },
    {
      "cell_type": "code",
      "source": [
        "#!pip install pandas-datareader"
      ],
      "metadata": {
        "id": "F66vPUsNgT83"
      },
      "execution_count": 4,
      "outputs": []
    },
    {
      "cell_type": "code",
      "source": [
        "import pandas_datareader as pdr\n",
        "import yfinance as yf"
      ],
      "metadata": {
        "id": "1l-TUBnngcrF"
      },
      "execution_count": 8,
      "outputs": []
    },
    {
      "cell_type": "code",
      "source": [
        "factors = pdr.get_data_famafrench('F-F_Research_data_factors', start='2000-01-01')[0][1:]\n",
        "SMB = factors.SMB\n",
        "HML = factors.HML"
      ],
      "metadata": {
        "id": "paIaltFIfxfl"
      },
      "execution_count": 6,
      "outputs": []
    },
    {
      "cell_type": "code",
      "source": [
        "data = yf.download(['SPY', 'MSFT', 'XOM', 'TOU', 'TSLA', 'AAPL'], start='2000-01-01', interval='1mo')['Adj Close']"
      ],
      "metadata": {
        "colab": {
          "base_uri": "https://localhost:8080/"
        },
        "id": "kOrJt_k74MV3",
        "outputId": "b4107e4f-efad-4bb1-8af1-7b912dd9e9b0"
      },
      "execution_count": 15,
      "outputs": [
        {
          "output_type": "stream",
          "name": "stdout",
          "text": [
            "[*********************100%***********************]  6 of 6 completed\n"
          ]
        }
      ]
    },
    {
      "cell_type": "code",
      "source": [
        "monthly_returns = data.pct_change().to_period('M')"
      ],
      "metadata": {
        "colab": {
          "base_uri": "https://localhost:8080/"
        },
        "id": "LkiE3kEs4MYc",
        "outputId": "3975117c-b216-4a7b-efac-a259c0d9724a"
      },
      "execution_count": 16,
      "outputs": [
        {
          "output_type": "stream",
          "name": "stderr",
          "text": [
            "/usr/local/lib/python3.8/dist-packages/pandas/core/arrays/datetimes.py:1143: UserWarning: Converting to PeriodArray/Index representation will drop timezone information.\n",
            "  warnings.warn(\n"
          ]
        }
      ]
    },
    {
      "cell_type": "code",
      "source": [
        "bench = monthly_returns.pop('SPY')\n",
        "R = monthly_returns.mean(axis=1)\n",
        "active = R - bench"
      ],
      "metadata": {
        "id": "i7YcnlV34z4_"
      },
      "execution_count": 17,
      "outputs": []
    },
    {
      "cell_type": "code",
      "source": [
        "import matplotlib.pyplot as plt\n",
        "\n"
      ],
      "metadata": {
        "id": "CWAFAyEm4z7p"
      },
      "execution_count": 22,
      "outputs": []
    },
    {
      "cell_type": "code",
      "source": [
        "active"
      ],
      "metadata": {
        "colab": {
          "base_uri": "https://localhost:8080/"
        },
        "id": "lWxHrS3V6Yr6",
        "outputId": "a2cdab60-6c76-4b34-ea70-59c754b2e754"
      },
      "execution_count": 25,
      "outputs": [
        {
          "output_type": "execute_result",
          "data": {
            "text/plain": [
              "Date\n",
              "2000-01         NaN\n",
              "2000-02   -0.009200\n",
              "2000-03    0.044248\n",
              "2000-04   -0.112016\n",
              "2000-05   -0.102132\n",
              "             ...   \n",
              "2022-09    0.027665\n",
              "2022-10   -0.039071\n",
              "2022-11   -0.070601\n",
              "2022-12   -0.047447\n",
              "2023-01   -0.035962\n",
              "Freq: M, Length: 277, dtype: float64"
            ]
          },
          "metadata": {},
          "execution_count": 25
        }
      ]
    },
    {
      "cell_type": "code",
      "source": [
        "print(R)"
      ],
      "metadata": {
        "colab": {
          "base_uri": "https://localhost:8080/"
        },
        "id": "bj4t-O0l58eS",
        "outputId": "eb8fdb76-bd1b-4b01-f8b2-7d0d9b8e1b31"
      },
      "execution_count": 34,
      "outputs": [
        {
          "output_type": "stream",
          "name": "stdout",
          "text": [
            "Date\n",
            "2000-01         NaN\n",
            "2000-02   -0.024426\n",
            "2000-03    0.138381\n",
            "2000-04   -0.144684\n",
            "2000-05   -0.117854\n",
            "             ...   \n",
            "2022-09   -0.068493\n",
            "2022-10    0.046647\n",
            "2022-11   -0.015009\n",
            "2022-12   -0.109383\n",
            "2023-01    0.010844\n",
            "Freq: M, Length: 277, dtype: float64\n"
          ]
        }
      ]
    },
    {
      "cell_type": "code",
      "source": [
        "bench.tail(10)"
      ],
      "metadata": {
        "colab": {
          "base_uri": "https://localhost:8080/"
        },
        "id": "YFzLQ2F47H0c",
        "outputId": "c2beefe7-cfdc-4e6b-d6e1-3f0db334ef5f"
      },
      "execution_count": 36,
      "outputs": [
        {
          "output_type": "execute_result",
          "data": {
            "text/plain": [
              "Date\n",
              "2022-04   -0.084935\n",
              "2022-05    0.002257\n",
              "2022-06   -0.086407\n",
              "2022-07    0.096805\n",
              "2022-08   -0.040802\n",
              "2022-09   -0.096159\n",
              "2022-10    0.085717\n",
              "2022-11    0.055592\n",
              "2022-12   -0.061936\n",
              "2023-01    0.046806\n",
              "Freq: M, Name: SPY, dtype: float64"
            ]
          },
          "metadata": {},
          "execution_count": 36
        }
      ]
    }
  ]
}