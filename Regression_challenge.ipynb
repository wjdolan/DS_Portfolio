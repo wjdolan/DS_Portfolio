{
  "nbformat": 4,
  "nbformat_minor": 0,
  "metadata": {
    "colab": {
      "name": "Regression_challenge.ipynb",
      "provenance": [],
      "authorship_tag": "ABX9TyOKOgUFAgb0U+yXl18Ng9zp",
      "include_colab_link": true
    },
    "kernelspec": {
      "name": "python3",
      "display_name": "Python 3"
    },
    "language_info": {
      "name": "python"
    }
  },
  "cells": [
    {
      "cell_type": "markdown",
      "metadata": {
        "id": "view-in-github",
        "colab_type": "text"
      },
      "source": [
        "<a href=\"https://colab.research.google.com/github/wjdolan/DS_Portfolio/blob/main/Regression_challenge.ipynb\" target=\"_parent\"><img src=\"https://colab.research.google.com/assets/colab-badge.svg\" alt=\"Open In Colab\"/></a>"
      ]
    },
    {
      "cell_type": "markdown",
      "source": [
        "# Regression Challenge"
      ],
      "metadata": {
        "id": "gIaHQqh0n2aN"
      }
    },
    {
      "cell_type": "code",
      "source": [
        ""
      ],
      "metadata": {
        "id": "uvbHXkX0oPcR"
      },
      "execution_count": 5,
      "outputs": []
    },
    {
      "cell_type": "code",
      "execution_count": 6,
      "metadata": {
        "id": "G7utPO9hnzze"
      },
      "outputs": [],
      "source": [
        "import pandas as pd\n",
        "import numpy as np\n",
        "import seaborn as sns\n",
        "import matplotlib.pyplot as plt\n",
        "\n",
        "%matplotlib inline\n",
        "\n"
      ]
    },
    {
      "cell_type": "code",
      "source": [
        "# importing recipes dataset\n",
        "bikes = pd.read_csv(\"nyc-east-river-bicycle-counts.csv\")\n",
        "bikes.head()"
      ],
      "metadata": {
        "colab": {
          "base_uri": "https://localhost:8080/",
          "height": 206
        },
        "id": "TTCV3Uutroy7",
        "outputId": "202f711e-d4f8-49f8-dcd3-954e80d2c8da"
      },
      "execution_count": 56,
      "outputs": [
        {
          "output_type": "execute_result",
          "data": {
            "text/plain": [
              "   Unnamed: 0                 Date                  Day  High Temp (°F)  \\\n",
              "0           0  2016-04-01 00:00:00  2016-04-01 00:00:00            78.1   \n",
              "1           1  2016-04-02 00:00:00  2016-04-02 00:00:00            55.0   \n",
              "2           2  2016-04-03 00:00:00  2016-04-03 00:00:00            39.9   \n",
              "3           3  2016-04-04 00:00:00  2016-04-04 00:00:00            44.1   \n",
              "4           4  2016-04-05 00:00:00  2016-04-05 00:00:00            42.1   \n",
              "\n",
              "   Low Temp (°F) Precipitation  Brooklyn Bridge  Manhattan Bridge  \\\n",
              "0           66.0          0.01           1704.0              3126   \n",
              "1           48.9          0.15            827.0              1646   \n",
              "2           34.0          0.09            526.0              1232   \n",
              "3           33.1      0.47 (S)            521.0              1067   \n",
              "4           26.1             0           1416.0              2617   \n",
              "\n",
              "   Williamsburg Bridge  Queensboro Bridge  Total  \n",
              "0               4115.0             2552.0  11497  \n",
              "1               2565.0             1884.0   6922  \n",
              "2               1695.0             1306.0   4759  \n",
              "3               1440.0             1307.0   4335  \n",
              "4               3081.0             2357.0   9471  "
            ],
            "text/html": [
              "\n",
              "  <div id=\"df-71eb72ee-06f5-44cb-98f2-a8e837c31599\">\n",
              "    <div class=\"colab-df-container\">\n",
              "      <div>\n",
              "<style scoped>\n",
              "    .dataframe tbody tr th:only-of-type {\n",
              "        vertical-align: middle;\n",
              "    }\n",
              "\n",
              "    .dataframe tbody tr th {\n",
              "        vertical-align: top;\n",
              "    }\n",
              "\n",
              "    .dataframe thead th {\n",
              "        text-align: right;\n",
              "    }\n",
              "</style>\n",
              "<table border=\"1\" class=\"dataframe\">\n",
              "  <thead>\n",
              "    <tr style=\"text-align: right;\">\n",
              "      <th></th>\n",
              "      <th>Unnamed: 0</th>\n",
              "      <th>Date</th>\n",
              "      <th>Day</th>\n",
              "      <th>High Temp (°F)</th>\n",
              "      <th>Low Temp (°F)</th>\n",
              "      <th>Precipitation</th>\n",
              "      <th>Brooklyn Bridge</th>\n",
              "      <th>Manhattan Bridge</th>\n",
              "      <th>Williamsburg Bridge</th>\n",
              "      <th>Queensboro Bridge</th>\n",
              "      <th>Total</th>\n",
              "    </tr>\n",
              "  </thead>\n",
              "  <tbody>\n",
              "    <tr>\n",
              "      <th>0</th>\n",
              "      <td>0</td>\n",
              "      <td>2016-04-01 00:00:00</td>\n",
              "      <td>2016-04-01 00:00:00</td>\n",
              "      <td>78.1</td>\n",
              "      <td>66.0</td>\n",
              "      <td>0.01</td>\n",
              "      <td>1704.0</td>\n",
              "      <td>3126</td>\n",
              "      <td>4115.0</td>\n",
              "      <td>2552.0</td>\n",
              "      <td>11497</td>\n",
              "    </tr>\n",
              "    <tr>\n",
              "      <th>1</th>\n",
              "      <td>1</td>\n",
              "      <td>2016-04-02 00:00:00</td>\n",
              "      <td>2016-04-02 00:00:00</td>\n",
              "      <td>55.0</td>\n",
              "      <td>48.9</td>\n",
              "      <td>0.15</td>\n",
              "      <td>827.0</td>\n",
              "      <td>1646</td>\n",
              "      <td>2565.0</td>\n",
              "      <td>1884.0</td>\n",
              "      <td>6922</td>\n",
              "    </tr>\n",
              "    <tr>\n",
              "      <th>2</th>\n",
              "      <td>2</td>\n",
              "      <td>2016-04-03 00:00:00</td>\n",
              "      <td>2016-04-03 00:00:00</td>\n",
              "      <td>39.9</td>\n",
              "      <td>34.0</td>\n",
              "      <td>0.09</td>\n",
              "      <td>526.0</td>\n",
              "      <td>1232</td>\n",
              "      <td>1695.0</td>\n",
              "      <td>1306.0</td>\n",
              "      <td>4759</td>\n",
              "    </tr>\n",
              "    <tr>\n",
              "      <th>3</th>\n",
              "      <td>3</td>\n",
              "      <td>2016-04-04 00:00:00</td>\n",
              "      <td>2016-04-04 00:00:00</td>\n",
              "      <td>44.1</td>\n",
              "      <td>33.1</td>\n",
              "      <td>0.47 (S)</td>\n",
              "      <td>521.0</td>\n",
              "      <td>1067</td>\n",
              "      <td>1440.0</td>\n",
              "      <td>1307.0</td>\n",
              "      <td>4335</td>\n",
              "    </tr>\n",
              "    <tr>\n",
              "      <th>4</th>\n",
              "      <td>4</td>\n",
              "      <td>2016-04-05 00:00:00</td>\n",
              "      <td>2016-04-05 00:00:00</td>\n",
              "      <td>42.1</td>\n",
              "      <td>26.1</td>\n",
              "      <td>0</td>\n",
              "      <td>1416.0</td>\n",
              "      <td>2617</td>\n",
              "      <td>3081.0</td>\n",
              "      <td>2357.0</td>\n",
              "      <td>9471</td>\n",
              "    </tr>\n",
              "  </tbody>\n",
              "</table>\n",
              "</div>\n",
              "      <button class=\"colab-df-convert\" onclick=\"convertToInteractive('df-71eb72ee-06f5-44cb-98f2-a8e837c31599')\"\n",
              "              title=\"Convert this dataframe to an interactive table.\"\n",
              "              style=\"display:none;\">\n",
              "        \n",
              "  <svg xmlns=\"http://www.w3.org/2000/svg\" height=\"24px\"viewBox=\"0 0 24 24\"\n",
              "       width=\"24px\">\n",
              "    <path d=\"M0 0h24v24H0V0z\" fill=\"none\"/>\n",
              "    <path d=\"M18.56 5.44l.94 2.06.94-2.06 2.06-.94-2.06-.94-.94-2.06-.94 2.06-2.06.94zm-11 1L8.5 8.5l.94-2.06 2.06-.94-2.06-.94L8.5 2.5l-.94 2.06-2.06.94zm10 10l.94 2.06.94-2.06 2.06-.94-2.06-.94-.94-2.06-.94 2.06-2.06.94z\"/><path d=\"M17.41 7.96l-1.37-1.37c-.4-.4-.92-.59-1.43-.59-.52 0-1.04.2-1.43.59L10.3 9.45l-7.72 7.72c-.78.78-.78 2.05 0 2.83L4 21.41c.39.39.9.59 1.41.59.51 0 1.02-.2 1.41-.59l7.78-7.78 2.81-2.81c.8-.78.8-2.07 0-2.86zM5.41 20L4 18.59l7.72-7.72 1.47 1.35L5.41 20z\"/>\n",
              "  </svg>\n",
              "      </button>\n",
              "      \n",
              "  <style>\n",
              "    .colab-df-container {\n",
              "      display:flex;\n",
              "      flex-wrap:wrap;\n",
              "      gap: 12px;\n",
              "    }\n",
              "\n",
              "    .colab-df-convert {\n",
              "      background-color: #E8F0FE;\n",
              "      border: none;\n",
              "      border-radius: 50%;\n",
              "      cursor: pointer;\n",
              "      display: none;\n",
              "      fill: #1967D2;\n",
              "      height: 32px;\n",
              "      padding: 0 0 0 0;\n",
              "      width: 32px;\n",
              "    }\n",
              "\n",
              "    .colab-df-convert:hover {\n",
              "      background-color: #E2EBFA;\n",
              "      box-shadow: 0px 1px 2px rgba(60, 64, 67, 0.3), 0px 1px 3px 1px rgba(60, 64, 67, 0.15);\n",
              "      fill: #174EA6;\n",
              "    }\n",
              "\n",
              "    [theme=dark] .colab-df-convert {\n",
              "      background-color: #3B4455;\n",
              "      fill: #D2E3FC;\n",
              "    }\n",
              "\n",
              "    [theme=dark] .colab-df-convert:hover {\n",
              "      background-color: #434B5C;\n",
              "      box-shadow: 0px 1px 3px 1px rgba(0, 0, 0, 0.15);\n",
              "      filter: drop-shadow(0px 1px 2px rgba(0, 0, 0, 0.3));\n",
              "      fill: #FFFFFF;\n",
              "    }\n",
              "  </style>\n",
              "\n",
              "      <script>\n",
              "        const buttonEl =\n",
              "          document.querySelector('#df-71eb72ee-06f5-44cb-98f2-a8e837c31599 button.colab-df-convert');\n",
              "        buttonEl.style.display =\n",
              "          google.colab.kernel.accessAllowed ? 'block' : 'none';\n",
              "\n",
              "        async function convertToInteractive(key) {\n",
              "          const element = document.querySelector('#df-71eb72ee-06f5-44cb-98f2-a8e837c31599');\n",
              "          const dataTable =\n",
              "            await google.colab.kernel.invokeFunction('convertToInteractive',\n",
              "                                                     [key], {});\n",
              "          if (!dataTable) return;\n",
              "\n",
              "          const docLinkHtml = 'Like what you see? Visit the ' +\n",
              "            '<a target=\"_blank\" href=https://colab.research.google.com/notebooks/data_table.ipynb>data table notebook</a>'\n",
              "            + ' to learn more about interactive tables.';\n",
              "          element.innerHTML = '';\n",
              "          dataTable['output_type'] = 'display_data';\n",
              "          await google.colab.output.renderOutput(dataTable, element);\n",
              "          const docLink = document.createElement('div');\n",
              "          docLink.innerHTML = docLinkHtml;\n",
              "          element.appendChild(docLink);\n",
              "        }\n",
              "      </script>\n",
              "    </div>\n",
              "  </div>\n",
              "  "
            ]
          },
          "metadata": {},
          "execution_count": 56
        }
      ]
    },
    {
      "cell_type": "code",
      "source": [
        "bikes = bikes.loc[:, 'Date':'Total']"
      ],
      "metadata": {
        "id": "liVmU2pezm-h"
      },
      "execution_count": 62,
      "outputs": []
    },
    {
      "cell_type": "code",
      "source": [
        "bikes"
      ],
      "metadata": {
        "colab": {
          "base_uri": "https://localhost:8080/",
          "height": 424
        },
        "id": "EZMC02S0zm5C",
        "outputId": "9949b331-6674-4ab2-9f07-972cffdc5464"
      },
      "execution_count": 63,
      "outputs": [
        {
          "output_type": "execute_result",
          "data": {
            "text/plain": [
              "                    Date                  Day  High Temp (°F)  Low Temp (°F)  \\\n",
              "0    2016-04-01 00:00:00  2016-04-01 00:00:00            78.1           66.0   \n",
              "1    2016-04-02 00:00:00  2016-04-02 00:00:00            55.0           48.9   \n",
              "2    2016-04-03 00:00:00  2016-04-03 00:00:00            39.9           34.0   \n",
              "3    2016-04-04 00:00:00  2016-04-04 00:00:00            44.1           33.1   \n",
              "4    2016-04-05 00:00:00  2016-04-05 00:00:00            42.1           26.1   \n",
              "..                   ...                  ...             ...            ...   \n",
              "205  2016-04-26 00:00:00  2016-04-26 00:00:00            60.1           46.9   \n",
              "206  2016-04-27 00:00:00  2016-04-27 00:00:00            62.1           46.9   \n",
              "207  2016-04-28 00:00:00  2016-04-28 00:00:00            57.9           48.0   \n",
              "208  2016-04-29 00:00:00  2016-04-29 00:00:00            57.0           46.9   \n",
              "209  2016-04-30 00:00:00  2016-04-30 00:00:00            64.0           48.0   \n",
              "\n",
              "    Precipitation  Brooklyn Bridge  Manhattan Bridge  Williamsburg Bridge  \\\n",
              "0            0.01           1704.0              3126               4115.0   \n",
              "1            0.15            827.0              1646               2565.0   \n",
              "2            0.09            526.0              1232               1695.0   \n",
              "3        0.47 (S)            521.0              1067               1440.0   \n",
              "4               0           1416.0              2617               3081.0   \n",
              "..            ...              ...               ...                  ...   \n",
              "205          0.24           1997.0              3520               4559.0   \n",
              "206             0           3343.0              5606               6577.0   \n",
              "207             0           2486.0              4152               5336.0   \n",
              "208          0.05           2375.0              4178               5053.0   \n",
              "209             0           3199.0              4952               5675.0   \n",
              "\n",
              "     Queensboro Bridge  Total  \n",
              "0               2552.0  11497  \n",
              "1               1884.0   6922  \n",
              "2               1306.0   4759  \n",
              "3               1307.0   4335  \n",
              "4               2357.0   9471  \n",
              "..                 ...    ...  \n",
              "205             2929.0  13005  \n",
              "206             4388.0  19914  \n",
              "207             3657.0  15631  \n",
              "208             3348.0  14954  \n",
              "209             3606.0  17432  \n",
              "\n",
              "[210 rows x 10 columns]"
            ],
            "text/html": [
              "\n",
              "  <div id=\"df-dbe97914-8ba3-4548-ac8e-fe45993bb588\">\n",
              "    <div class=\"colab-df-container\">\n",
              "      <div>\n",
              "<style scoped>\n",
              "    .dataframe tbody tr th:only-of-type {\n",
              "        vertical-align: middle;\n",
              "    }\n",
              "\n",
              "    .dataframe tbody tr th {\n",
              "        vertical-align: top;\n",
              "    }\n",
              "\n",
              "    .dataframe thead th {\n",
              "        text-align: right;\n",
              "    }\n",
              "</style>\n",
              "<table border=\"1\" class=\"dataframe\">\n",
              "  <thead>\n",
              "    <tr style=\"text-align: right;\">\n",
              "      <th></th>\n",
              "      <th>Date</th>\n",
              "      <th>Day</th>\n",
              "      <th>High Temp (°F)</th>\n",
              "      <th>Low Temp (°F)</th>\n",
              "      <th>Precipitation</th>\n",
              "      <th>Brooklyn Bridge</th>\n",
              "      <th>Manhattan Bridge</th>\n",
              "      <th>Williamsburg Bridge</th>\n",
              "      <th>Queensboro Bridge</th>\n",
              "      <th>Total</th>\n",
              "    </tr>\n",
              "  </thead>\n",
              "  <tbody>\n",
              "    <tr>\n",
              "      <th>0</th>\n",
              "      <td>2016-04-01 00:00:00</td>\n",
              "      <td>2016-04-01 00:00:00</td>\n",
              "      <td>78.1</td>\n",
              "      <td>66.0</td>\n",
              "      <td>0.01</td>\n",
              "      <td>1704.0</td>\n",
              "      <td>3126</td>\n",
              "      <td>4115.0</td>\n",
              "      <td>2552.0</td>\n",
              "      <td>11497</td>\n",
              "    </tr>\n",
              "    <tr>\n",
              "      <th>1</th>\n",
              "      <td>2016-04-02 00:00:00</td>\n",
              "      <td>2016-04-02 00:00:00</td>\n",
              "      <td>55.0</td>\n",
              "      <td>48.9</td>\n",
              "      <td>0.15</td>\n",
              "      <td>827.0</td>\n",
              "      <td>1646</td>\n",
              "      <td>2565.0</td>\n",
              "      <td>1884.0</td>\n",
              "      <td>6922</td>\n",
              "    </tr>\n",
              "    <tr>\n",
              "      <th>2</th>\n",
              "      <td>2016-04-03 00:00:00</td>\n",
              "      <td>2016-04-03 00:00:00</td>\n",
              "      <td>39.9</td>\n",
              "      <td>34.0</td>\n",
              "      <td>0.09</td>\n",
              "      <td>526.0</td>\n",
              "      <td>1232</td>\n",
              "      <td>1695.0</td>\n",
              "      <td>1306.0</td>\n",
              "      <td>4759</td>\n",
              "    </tr>\n",
              "    <tr>\n",
              "      <th>3</th>\n",
              "      <td>2016-04-04 00:00:00</td>\n",
              "      <td>2016-04-04 00:00:00</td>\n",
              "      <td>44.1</td>\n",
              "      <td>33.1</td>\n",
              "      <td>0.47 (S)</td>\n",
              "      <td>521.0</td>\n",
              "      <td>1067</td>\n",
              "      <td>1440.0</td>\n",
              "      <td>1307.0</td>\n",
              "      <td>4335</td>\n",
              "    </tr>\n",
              "    <tr>\n",
              "      <th>4</th>\n",
              "      <td>2016-04-05 00:00:00</td>\n",
              "      <td>2016-04-05 00:00:00</td>\n",
              "      <td>42.1</td>\n",
              "      <td>26.1</td>\n",
              "      <td>0</td>\n",
              "      <td>1416.0</td>\n",
              "      <td>2617</td>\n",
              "      <td>3081.0</td>\n",
              "      <td>2357.0</td>\n",
              "      <td>9471</td>\n",
              "    </tr>\n",
              "    <tr>\n",
              "      <th>...</th>\n",
              "      <td>...</td>\n",
              "      <td>...</td>\n",
              "      <td>...</td>\n",
              "      <td>...</td>\n",
              "      <td>...</td>\n",
              "      <td>...</td>\n",
              "      <td>...</td>\n",
              "      <td>...</td>\n",
              "      <td>...</td>\n",
              "      <td>...</td>\n",
              "    </tr>\n",
              "    <tr>\n",
              "      <th>205</th>\n",
              "      <td>2016-04-26 00:00:00</td>\n",
              "      <td>2016-04-26 00:00:00</td>\n",
              "      <td>60.1</td>\n",
              "      <td>46.9</td>\n",
              "      <td>0.24</td>\n",
              "      <td>1997.0</td>\n",
              "      <td>3520</td>\n",
              "      <td>4559.0</td>\n",
              "      <td>2929.0</td>\n",
              "      <td>13005</td>\n",
              "    </tr>\n",
              "    <tr>\n",
              "      <th>206</th>\n",
              "      <td>2016-04-27 00:00:00</td>\n",
              "      <td>2016-04-27 00:00:00</td>\n",
              "      <td>62.1</td>\n",
              "      <td>46.9</td>\n",
              "      <td>0</td>\n",
              "      <td>3343.0</td>\n",
              "      <td>5606</td>\n",
              "      <td>6577.0</td>\n",
              "      <td>4388.0</td>\n",
              "      <td>19914</td>\n",
              "    </tr>\n",
              "    <tr>\n",
              "      <th>207</th>\n",
              "      <td>2016-04-28 00:00:00</td>\n",
              "      <td>2016-04-28 00:00:00</td>\n",
              "      <td>57.9</td>\n",
              "      <td>48.0</td>\n",
              "      <td>0</td>\n",
              "      <td>2486.0</td>\n",
              "      <td>4152</td>\n",
              "      <td>5336.0</td>\n",
              "      <td>3657.0</td>\n",
              "      <td>15631</td>\n",
              "    </tr>\n",
              "    <tr>\n",
              "      <th>208</th>\n",
              "      <td>2016-04-29 00:00:00</td>\n",
              "      <td>2016-04-29 00:00:00</td>\n",
              "      <td>57.0</td>\n",
              "      <td>46.9</td>\n",
              "      <td>0.05</td>\n",
              "      <td>2375.0</td>\n",
              "      <td>4178</td>\n",
              "      <td>5053.0</td>\n",
              "      <td>3348.0</td>\n",
              "      <td>14954</td>\n",
              "    </tr>\n",
              "    <tr>\n",
              "      <th>209</th>\n",
              "      <td>2016-04-30 00:00:00</td>\n",
              "      <td>2016-04-30 00:00:00</td>\n",
              "      <td>64.0</td>\n",
              "      <td>48.0</td>\n",
              "      <td>0</td>\n",
              "      <td>3199.0</td>\n",
              "      <td>4952</td>\n",
              "      <td>5675.0</td>\n",
              "      <td>3606.0</td>\n",
              "      <td>17432</td>\n",
              "    </tr>\n",
              "  </tbody>\n",
              "</table>\n",
              "<p>210 rows × 10 columns</p>\n",
              "</div>\n",
              "      <button class=\"colab-df-convert\" onclick=\"convertToInteractive('df-dbe97914-8ba3-4548-ac8e-fe45993bb588')\"\n",
              "              title=\"Convert this dataframe to an interactive table.\"\n",
              "              style=\"display:none;\">\n",
              "        \n",
              "  <svg xmlns=\"http://www.w3.org/2000/svg\" height=\"24px\"viewBox=\"0 0 24 24\"\n",
              "       width=\"24px\">\n",
              "    <path d=\"M0 0h24v24H0V0z\" fill=\"none\"/>\n",
              "    <path d=\"M18.56 5.44l.94 2.06.94-2.06 2.06-.94-2.06-.94-.94-2.06-.94 2.06-2.06.94zm-11 1L8.5 8.5l.94-2.06 2.06-.94-2.06-.94L8.5 2.5l-.94 2.06-2.06.94zm10 10l.94 2.06.94-2.06 2.06-.94-2.06-.94-.94-2.06-.94 2.06-2.06.94z\"/><path d=\"M17.41 7.96l-1.37-1.37c-.4-.4-.92-.59-1.43-.59-.52 0-1.04.2-1.43.59L10.3 9.45l-7.72 7.72c-.78.78-.78 2.05 0 2.83L4 21.41c.39.39.9.59 1.41.59.51 0 1.02-.2 1.41-.59l7.78-7.78 2.81-2.81c.8-.78.8-2.07 0-2.86zM5.41 20L4 18.59l7.72-7.72 1.47 1.35L5.41 20z\"/>\n",
              "  </svg>\n",
              "      </button>\n",
              "      \n",
              "  <style>\n",
              "    .colab-df-container {\n",
              "      display:flex;\n",
              "      flex-wrap:wrap;\n",
              "      gap: 12px;\n",
              "    }\n",
              "\n",
              "    .colab-df-convert {\n",
              "      background-color: #E8F0FE;\n",
              "      border: none;\n",
              "      border-radius: 50%;\n",
              "      cursor: pointer;\n",
              "      display: none;\n",
              "      fill: #1967D2;\n",
              "      height: 32px;\n",
              "      padding: 0 0 0 0;\n",
              "      width: 32px;\n",
              "    }\n",
              "\n",
              "    .colab-df-convert:hover {\n",
              "      background-color: #E2EBFA;\n",
              "      box-shadow: 0px 1px 2px rgba(60, 64, 67, 0.3), 0px 1px 3px 1px rgba(60, 64, 67, 0.15);\n",
              "      fill: #174EA6;\n",
              "    }\n",
              "\n",
              "    [theme=dark] .colab-df-convert {\n",
              "      background-color: #3B4455;\n",
              "      fill: #D2E3FC;\n",
              "    }\n",
              "\n",
              "    [theme=dark] .colab-df-convert:hover {\n",
              "      background-color: #434B5C;\n",
              "      box-shadow: 0px 1px 3px 1px rgba(0, 0, 0, 0.15);\n",
              "      filter: drop-shadow(0px 1px 2px rgba(0, 0, 0, 0.3));\n",
              "      fill: #FFFFFF;\n",
              "    }\n",
              "  </style>\n",
              "\n",
              "      <script>\n",
              "        const buttonEl =\n",
              "          document.querySelector('#df-dbe97914-8ba3-4548-ac8e-fe45993bb588 button.colab-df-convert');\n",
              "        buttonEl.style.display =\n",
              "          google.colab.kernel.accessAllowed ? 'block' : 'none';\n",
              "\n",
              "        async function convertToInteractive(key) {\n",
              "          const element = document.querySelector('#df-dbe97914-8ba3-4548-ac8e-fe45993bb588');\n",
              "          const dataTable =\n",
              "            await google.colab.kernel.invokeFunction('convertToInteractive',\n",
              "                                                     [key], {});\n",
              "          if (!dataTable) return;\n",
              "\n",
              "          const docLinkHtml = 'Like what you see? Visit the ' +\n",
              "            '<a target=\"_blank\" href=https://colab.research.google.com/notebooks/data_table.ipynb>data table notebook</a>'\n",
              "            + ' to learn more about interactive tables.';\n",
              "          element.innerHTML = '';\n",
              "          dataTable['output_type'] = 'display_data';\n",
              "          await google.colab.output.renderOutput(dataTable, element);\n",
              "          const docLink = document.createElement('div');\n",
              "          docLink.innerHTML = docLinkHtml;\n",
              "          element.appendChild(docLink);\n",
              "        }\n",
              "      </script>\n",
              "    </div>\n",
              "  </div>\n",
              "  "
            ]
          },
          "metadata": {},
          "execution_count": 63
        }
      ]
    },
    {
      "cell_type": "code",
      "source": [
        "# checking data types to identify which variables are continuous, categorical and count\n",
        "# note: my dependent variable, \"Total\" is an integer (count)\n",
        "\n",
        "bikes.dtypes"
      ],
      "metadata": {
        "colab": {
          "base_uri": "https://localhost:8080/"
        },
        "id": "MeoOYk47zm0a",
        "outputId": "b76e4f86-ff91-41e5-9646-27475d50929b"
      },
      "execution_count": 64,
      "outputs": [
        {
          "output_type": "execute_result",
          "data": {
            "text/plain": [
              "Date                    object\n",
              "Day                     object\n",
              "High Temp (°F)         float64\n",
              "Low Temp (°F)          float64\n",
              "Precipitation           object\n",
              "Brooklyn Bridge        float64\n",
              "Manhattan Bridge         int64\n",
              "Williamsburg Bridge    float64\n",
              "Queensboro Bridge      float64\n",
              "Total                    int64\n",
              "dtype: object"
            ]
          },
          "metadata": {},
          "execution_count": 64
        }
      ]
    },
    {
      "cell_type": "code",
      "source": [
        "# checking if there are any nans in the dataset\n",
        "\n",
        "bikes.isnull().values.any()"
      ],
      "metadata": {
        "colab": {
          "base_uri": "https://localhost:8080/"
        },
        "id": "Lh4fQJSnzmuh",
        "outputId": "0b117532-f123-4595-e5eb-52ce6bf70830"
      },
      "execution_count": 65,
      "outputs": [
        {
          "output_type": "execute_result",
          "data": {
            "text/plain": [
              "False"
            ]
          },
          "metadata": {},
          "execution_count": 65
        }
      ]
    },
    {
      "cell_type": "code",
      "source": [
        "# generating descriptive statistics summary\n",
        "\n",
        "bikes['Total'].describe()"
      ],
      "metadata": {
        "colab": {
          "base_uri": "https://localhost:8080/"
        },
        "id": "fgsY-fKczmrx",
        "outputId": "15365c67-7880-4206-f887-705dce2475b5"
      },
      "execution_count": 66,
      "outputs": [
        {
          "output_type": "execute_result",
          "data": {
            "text/plain": [
              "count      210.000000\n",
              "mean     14534.500000\n",
              "std       5569.173496\n",
              "min       4335.000000\n",
              "25%       9596.000000\n",
              "50%      15292.500000\n",
              "75%      18315.000000\n",
              "max      23318.000000\n",
              "Name: Total, dtype: float64"
            ]
          },
          "metadata": {},
          "execution_count": 66
        }
      ]
    },
    {
      "cell_type": "code",
      "source": [
        "# checking the distribution to see if there are any outliers\n",
        "\n",
        "sns.displot(bikes['Total'], kind='hist');\n",
        "\n",
        "#skewness and kurtosis\n",
        "\n",
        "print(\"Skewness: %f\" % bikes['Total'].skew())\n",
        "print(\"Kurtosis: %f\" % bikes['Total'].kurt())"
      ],
      "metadata": {
        "colab": {
          "base_uri": "https://localhost:8080/",
          "height": 404
        },
        "id": "WST1PZiy1idQ",
        "outputId": "162d3d14-27d8-48d0-840c-e0e877800641"
      },
      "execution_count": 75,
      "outputs": [
        {
          "output_type": "stream",
          "name": "stdout",
          "text": [
            "Skewness: -0.242981\n",
            "Kurtosis: -0.907534\n"
          ]
        },
        {
          "output_type": "display_data",
          "data": {
            "text/plain": [
              "<Figure size 360x360 with 1 Axes>"
            ],
            "image/png": "[encoded data removed]"
          },
          "metadata": {
            "needs_background": "light"
          }
        }
      ]
    },
    {
      "cell_type": "code",
      "source": [
        "# creating a new column for average temperature by adding the highest and\n",
        "#the lowest temperature and dividing it by 2\n",
        "\n",
        "bikes['Average Temp'] = (bikes['High Temp (°F)'] + bikes['Low Temp (°F)'])/2"
      ],
      "metadata": {
        "id": "KHBJg5lL1iaK"
      },
      "execution_count": 76,
      "outputs": []
    },
    {
      "cell_type": "code",
      "source": [
        "# plotting average temperature against total number of bikes \n",
        "# linear regression\n",
        "\n",
        "sns.lmplot(x='Average Temp', y='Total', data=bikes);"
      ],
      "metadata": {
        "colab": {
          "base_uri": "https://localhost:8080/",
          "height": 369
        },
        "id": "RUOyaU3-1iXp",
        "outputId": "8c2b15fe-df0a-42f1-cc0a-7c8e2ab33524"
      },
      "execution_count": 81,
      "outputs": [
        {
          "output_type": "display_data",
          "data": {
            "text/plain": [
              "<Figure size 360x360 with 1 Axes>"
            ],
            "image/png": "[encoded data removed]"
          },
          "metadata": {
            "needs_background": "light"
          }
        }
      ]
    },
    {
      "cell_type": "code",
      "source": [
        "# since I am predicting a count value, I should fit a poisson regression. \n",
        "import statsmodels.api as sm\n",
        "\n",
        "X = bikes['Average Temp']\n",
        "y = bikes['Total']\n",
        "\n",
        "# add intercept to input variable\n",
        "X = sm.add_constant(X)\n",
        "\n",
        "# fit poisson regression model \n",
        "model = sm.GLM(y, X, family=sm.families.Poisson()).fit()\n",
        "\n",
        "# add poisson fitted values to dataframe\n",
        "bikes['reg_fit'] = model.fittedvalues"
      ],
      "metadata": {
        "colab": {
          "base_uri": "https://localhost:8080/"
        },
        "id": "hajo2sY01iSg",
        "outputId": "ec1faab8-5c3e-47f7-cc4b-c6dd326334fa"
      },
      "execution_count": 83,
      "outputs": [
        {
          "output_type": "stream",
          "name": "stderr",
          "text": [
            "/usr/local/lib/python3.7/dist-packages/statsmodels/tsa/tsatools.py:117: FutureWarning: In a future version of pandas all arguments of concat except for the argument 'objs' will be keyword-only\n",
            "  x = pd.concat(x[::order], 1)\n"
          ]
        }
      ]
    },
    {
      "cell_type": "code",
      "source": [
        "# plot & add a regression line\n",
        "\n",
        "sns.regplot(x=bikes['Average Temp'], y=bikes['Total'], fit_reg=False)\n",
        "plt.plot(bikes['Average Temp'], bikes['reg_fit']);"
      ],
      "metadata": {
        "colab": {
          "base_uri": "https://localhost:8080/",
          "height": 279
        },
        "id": "M0Nsrn2d3JF1",
        "outputId": "d18e0ea9-0340-4d1c-d76a-6b182eafe4c7"
      },
      "execution_count": 86,
      "outputs": [
        {
          "output_type": "display_data",
          "data": {
            "text/plain": [
              "<Figure size 432x288 with 1 Axes>"
            ],
            "image/png": "[encoded data removed]"
          },
          "metadata": {
            "needs_background": "light"
          }
        }
      ]
    },
    {
      "cell_type": "code",
      "source": [
        ""
      ],
      "metadata": {
        "id": "kQbm1vhS3JDG"
      },
      "execution_count": null,
      "outputs": []
    },
    {
      "cell_type": "code",
      "source": [
        ""
      ],
      "metadata": {
        "id": "cFidJ8Rf3JAj"
      },
      "execution_count": null,
      "outputs": []
    }
  ]
}