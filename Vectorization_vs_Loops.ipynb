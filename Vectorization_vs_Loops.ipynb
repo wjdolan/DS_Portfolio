{
  "nbformat": 4,
  "nbformat_minor": 0,
  "metadata": {
    "colab": {
      "provenance": [],
      "authorship_tag": "ABX9TyMO5P0YkDr4qYOIrB/xGmoK",
      "include_colab_link": true
    },
    "kernelspec": {
      "name": "python3",
      "display_name": "Python 3"
    },
    "language_info": {
      "name": "python"
    }
  },
  "cells": [
    {
      "cell_type": "markdown",
      "metadata": {
        "id": "view-in-github",
        "colab_type": "text"
      },
      "source": [
        "<a href=\"https://colab.research.google.com/github/wjdolan/DS_Portfolio/blob/main/Vectorization_vs_Loops.ipynb\" target=\"_parent\"><img src=\"https://colab.research.google.com/assets/colab-badge.svg\" alt=\"Open In Colab\"/></a>"
      ]
    },
    {
      "cell_type": "markdown",
      "source": [
        "# **Updated Comparison of Vectorization vs For Loops**"
      ],
      "metadata": {
        "id": "6TBgK3qJ29yz"
      }
    },
    {
      "cell_type": "markdown",
      "source": [
        "Vectorization is the technique of implementing (NumPy) array operations on a dataset. It applies the operations of all the elements of an array at the same time vs. for loops that applies it one row at a time"
      ],
      "metadata": {
        "id": "IcKP3V7g3G1m"
      }
    },
    {
      "cell_type": "code",
      "source": [
        "# Using for loops\n",
        "\n",
        "import time\n",
        "start = time.time()\n",
        "\n",
        "total = 0\n",
        "\n",
        "# iterate through 1.5 million numbers\n",
        "\n",
        "for item in range(0,1500000):\n",
        "  total = total + item\n",
        "\n",
        "print('sum is:' + str(total))\n",
        "end = time.time()\n",
        "\n",
        "print(end-start)\n",
        "\n"
      ],
      "metadata": {
        "colab": {
          "base_uri": "https://localhost:8080/"
        },
        "id": "lJcde9QI3rAe",
        "outputId": "9ec12a2b-2c57-4ff9-96ca-51a6190a67d1"
      },
      "execution_count": 1,
      "outputs": [
        {
          "output_type": "stream",
          "name": "stdout",
          "text": [
            "sum is:1124999250000\n",
            "0.5068621635437012\n"
          ]
        }
      ]
    },
    {
      "cell_type": "code",
      "execution_count": 2,
      "metadata": {
        "colab": {
          "base_uri": "https://localhost:8080/"
        },
        "id": "Toanm1No2zJ2",
        "outputId": "b10377cd-335a-4ba5-80c8-e61b25671f9a"
      },
      "outputs": [
        {
          "output_type": "stream",
          "name": "stdout",
          "text": [
            "1124999250000\n",
            "0.018259286880493164\n"
          ]
        }
      ],
      "source": [
        "# Using Vectorization\n",
        "\n",
        "import numpy as np\n",
        "start = time.time()\n",
        "\n",
        "# use numpy for vectorization\n",
        "\n",
        "print(np.sum(np.arange(1500000)))\n",
        "\n",
        "end = time.time()\n",
        "\n",
        "print(end-start)\n"
      ]
    },
    {
      "cell_type": "markdown",
      "source": [
        "Calculation time comparison:\n",
        "\n",
        "for loop: 0.5068 seconds\n",
        "vectorization: 0.0183 seconds\n",
        "\n",
        "Vectorization was 28x faster"
      ],
      "metadata": {
        "id": "xF68hWo-4_IS"
      }
    },
    {
      "cell_type": "markdown",
      "source": [
        "**Mathematical Operations on DataFrame**\n",
        "\n",
        "Compare computation time on dataframe with 4 columns and 5MM rows"
      ],
      "metadata": {
        "id": "AK8JmBv25xoD"
      }
    },
    {
      "cell_type": "code",
      "source": [
        "import numpy as np\n",
        "import pandas as pd\n",
        "\n",
        "df = pd.DataFrame(np.random.randint(0,50,size=(5000000,4)), columns=('a','b','c','d'))\n"
      ],
      "metadata": {
        "id": "T-2rC3qY3Eat"
      },
      "execution_count": 3,
      "outputs": []
    },
    {
      "cell_type": "code",
      "source": [
        "df.shape"
      ],
      "metadata": {
        "colab": {
          "base_uri": "https://localhost:8080/"
        },
        "id": "a-ELNJdS3Edc",
        "outputId": "def51e24-2235-470a-e91c-6f92539d9726"
      },
      "execution_count": 4,
      "outputs": [
        {
          "output_type": "execute_result",
          "data": {
            "text/plain": [
              "(5000000, 4)"
            ]
          },
          "metadata": {},
          "execution_count": 4
        }
      ]
    },
    {
      "cell_type": "code",
      "source": [
        "df.head()"
      ],
      "metadata": {
        "colab": {
          "base_uri": "https://localhost:8080/",
          "height": 206
        },
        "id": "8lgILL2K3Egv",
        "outputId": "8c0d17b4-6071-41e1-87ff-67cd11cf517e"
      },
      "execution_count": 5,
      "outputs": [
        {
          "output_type": "execute_result",
          "data": {
            "text/plain": [
              "    a   b   c   d\n",
              "0  12  45  15   6\n",
              "1   2  36  42  29\n",
              "2  17  44   6  37\n",
              "3  29   2  19  33\n",
              "4   2  34  38  36"
            ],
            "text/html": [
              "\n",
              "  <div id=\"df-ba9dfdaf-276e-4803-8233-2477ea25cf3f\">\n",
              "    <div class=\"colab-df-container\">\n",
              "      <div>\n",
              "<style scoped>\n",
              "    .dataframe tbody tr th:only-of-type {\n",
              "        vertical-align: middle;\n",
              "    }\n",
              "\n",
              "    .dataframe tbody tr th {\n",
              "        vertical-align: top;\n",
              "    }\n",
              "\n",
              "    .dataframe thead th {\n",
              "        text-align: right;\n",
              "    }\n",
              "</style>\n",
              "<table border=\"1\" class=\"dataframe\">\n",
              "  <thead>\n",
              "    <tr style=\"text-align: right;\">\n",
              "      <th></th>\n",
              "      <th>a</th>\n",
              "      <th>b</th>\n",
              "      <th>c</th>\n",
              "      <th>d</th>\n",
              "    </tr>\n",
              "  </thead>\n",
              "  <tbody>\n",
              "    <tr>\n",
              "      <th>0</th>\n",
              "      <td>12</td>\n",
              "      <td>45</td>\n",
              "      <td>15</td>\n",
              "      <td>6</td>\n",
              "    </tr>\n",
              "    <tr>\n",
              "      <th>1</th>\n",
              "      <td>2</td>\n",
              "      <td>36</td>\n",
              "      <td>42</td>\n",
              "      <td>29</td>\n",
              "    </tr>\n",
              "    <tr>\n",
              "      <th>2</th>\n",
              "      <td>17</td>\n",
              "      <td>44</td>\n",
              "      <td>6</td>\n",
              "      <td>37</td>\n",
              "    </tr>\n",
              "    <tr>\n",
              "      <th>3</th>\n",
              "      <td>29</td>\n",
              "      <td>2</td>\n",
              "      <td>19</td>\n",
              "      <td>33</td>\n",
              "    </tr>\n",
              "    <tr>\n",
              "      <th>4</th>\n",
              "      <td>2</td>\n",
              "      <td>34</td>\n",
              "      <td>38</td>\n",
              "      <td>36</td>\n",
              "    </tr>\n",
              "  </tbody>\n",
              "</table>\n",
              "</div>\n",
              "      <button class=\"colab-df-convert\" onclick=\"convertToInteractive('df-ba9dfdaf-276e-4803-8233-2477ea25cf3f')\"\n",
              "              title=\"Convert this dataframe to an interactive table.\"\n",
              "              style=\"display:none;\">\n",
              "        \n",
              "  <svg xmlns=\"http://www.w3.org/2000/svg\" height=\"24px\"viewBox=\"0 0 24 24\"\n",
              "       width=\"24px\">\n",
              "    <path d=\"M0 0h24v24H0V0z\" fill=\"none\"/>\n",
              "    <path d=\"M18.56 5.44l.94 2.06.94-2.06 2.06-.94-2.06-.94-.94-2.06-.94 2.06-2.06.94zm-11 1L8.5 8.5l.94-2.06 2.06-.94-2.06-.94L8.5 2.5l-.94 2.06-2.06.94zm10 10l.94 2.06.94-2.06 2.06-.94-2.06-.94-.94-2.06-.94 2.06-2.06.94z\"/><path d=\"M17.41 7.96l-1.37-1.37c-.4-.4-.92-.59-1.43-.59-.52 0-1.04.2-1.43.59L10.3 9.45l-7.72 7.72c-.78.78-.78 2.05 0 2.83L4 21.41c.39.39.9.59 1.41.59.51 0 1.02-.2 1.41-.59l7.78-7.78 2.81-2.81c.8-.78.8-2.07 0-2.86zM5.41 20L4 18.59l7.72-7.72 1.47 1.35L5.41 20z\"/>\n",
              "  </svg>\n",
              "      </button>\n",
              "      \n",
              "  <style>\n",
              "    .colab-df-container {\n",
              "      display:flex;\n",
              "      flex-wrap:wrap;\n",
              "      gap: 12px;\n",
              "    }\n",
              "\n",
              "    .colab-df-convert {\n",
              "      background-color: #E8F0FE;\n",
              "      border: none;\n",
              "      border-radius: 50%;\n",
              "      cursor: pointer;\n",
              "      display: none;\n",
              "      fill: #1967D2;\n",
              "      height: 32px;\n",
              "      padding: 0 0 0 0;\n",
              "      width: 32px;\n",
              "    }\n",
              "\n",
              "    .colab-df-convert:hover {\n",
              "      background-color: #E2EBFA;\n",
              "      box-shadow: 0px 1px 2px rgba(60, 64, 67, 0.3), 0px 1px 3px 1px rgba(60, 64, 67, 0.15);\n",
              "      fill: #174EA6;\n",
              "    }\n",
              "\n",
              "    [theme=dark] .colab-df-convert {\n",
              "      background-color: #3B4455;\n",
              "      fill: #D2E3FC;\n",
              "    }\n",
              "\n",
              "    [theme=dark] .colab-df-convert:hover {\n",
              "      background-color: #434B5C;\n",
              "      box-shadow: 0px 1px 3px 1px rgba(0, 0, 0, 0.15);\n",
              "      filter: drop-shadow(0px 1px 2px rgba(0, 0, 0, 0.3));\n",
              "      fill: #FFFFFF;\n",
              "    }\n",
              "  </style>\n",
              "\n",
              "      <script>\n",
              "        const buttonEl =\n",
              "          document.querySelector('#df-ba9dfdaf-276e-4803-8233-2477ea25cf3f button.colab-df-convert');\n",
              "        buttonEl.style.display =\n",
              "          google.colab.kernel.accessAllowed ? 'block' : 'none';\n",
              "\n",
              "        async function convertToInteractive(key) {\n",
              "          const element = document.querySelector('#df-ba9dfdaf-276e-4803-8233-2477ea25cf3f');\n",
              "          const dataTable =\n",
              "            await google.colab.kernel.invokeFunction('convertToInteractive',\n",
              "                                                     [key], {});\n",
              "          if (!dataTable) return;\n",
              "\n",
              "          const docLinkHtml = 'Like what you see? Visit the ' +\n",
              "            '<a target=\"_blank\" href=https://colab.research.google.com/notebooks/data_table.ipynb>data table notebook</a>'\n",
              "            + ' to learn more about interactive tables.';\n",
              "          element.innerHTML = '';\n",
              "          dataTable['output_type'] = 'display_data';\n",
              "          await google.colab.output.renderOutput(dataTable, element);\n",
              "          const docLink = document.createElement('div');\n",
              "          docLink.innerHTML = docLinkHtml;\n",
              "          element.appendChild(docLink);\n",
              "        }\n",
              "      </script>\n",
              "    </div>\n",
              "  </div>\n",
              "  "
            ]
          },
          "metadata": {},
          "execution_count": 5
        }
      ]
    },
    {
      "cell_type": "markdown",
      "source": [
        "use for loops:"
      ],
      "metadata": {
        "id": "dxRvr53s6rwH"
      }
    },
    {
      "cell_type": "code",
      "source": [
        "start = time.time()\n",
        "\n",
        "for idx, row in df.iterrows():\n",
        "  df.at[idx, 'ratio'] = 100*(row['d']/row['c'])\n",
        "\n",
        "end = time.time()\n",
        "print(end-start)"
      ],
      "metadata": {
        "colab": {
          "base_uri": "https://localhost:8080/"
        },
        "id": "0FT763Mo6o0u",
        "outputId": "874e5b40-2a2d-447f-db71-e473258890e0"
      },
      "execution_count": 6,
      "outputs": [
        {
          "output_type": "stream",
          "name": "stderr",
          "text": [
            "<ipython-input-6-296dd1becced>:4: RuntimeWarning: divide by zero encountered in long_scalars\n",
            "  df.at[idx, 'ratio'] = 100*(row['d']/row['c'])\n",
            "<ipython-input-6-296dd1becced>:4: RuntimeWarning: invalid value encountered in long_scalars\n",
            "  df.at[idx, 'ratio'] = 100*(row['d']/row['c'])\n"
          ]
        },
        {
          "output_type": "stream",
          "name": "stdout",
          "text": [
            "357.4451746940613\n"
          ]
        }
      ]
    },
    {
      "cell_type": "markdown",
      "source": [
        "using Vectorization:"
      ],
      "metadata": {
        "id": "eiiMZmn977kv"
      }
    },
    {
      "cell_type": "code",
      "source": [
        "start = time.time()\n",
        "\n",
        "df['ratio'] = 100*(df['d']/df['c'])\n",
        "\n",
        "end = time.time()\n",
        "print(end-start)\n",
        "\n"
      ],
      "metadata": {
        "colab": {
          "base_uri": "https://localhost:8080/"
        },
        "id": "ZtaIN3CB6o30",
        "outputId": "e4ddced6-9cfb-4e65-9394-d46aa71c07ab"
      },
      "execution_count": 7,
      "outputs": [
        {
          "output_type": "stream",
          "name": "stdout",
          "text": [
            "0.10319709777832031\n"
          ]
        }
      ]
    },
    {
      "cell_type": "markdown",
      "source": [
        "Calculation time comparison:\n",
        "\n",
        "for loop: 357 seconds \n",
        "vectorization: 0.103 seconds\n",
        "\n",
        "Vectorization was 3,500x faster"
      ],
      "metadata": {
        "id": "_4cfIRJW8li5"
      }
    },
    {
      "cell_type": "markdown",
      "source": [
        "**If-else Statements**\n",
        "\n",
        "Create a new column in dataframe from above based on data in an existing column"
      ],
      "metadata": {
        "id": "-f4mh7cu9F7e"
      }
    },
    {
      "cell_type": "markdown",
      "source": [
        "Using for loops: "
      ],
      "metadata": {
        "id": "MvMFAa2j9eA0"
      }
    },
    {
      "cell_type": "code",
      "source": [
        "start = time.time()\n",
        "\n",
        "# iterate through DataFrame using iterrows\n",
        "for idx, row in df.iterrows():\n",
        "  if row.a ==0:\n",
        "    df.at[idx,'e'] = row.d\n",
        "  elif (row.a <= 25) & (row.a > 0):\n",
        "    df.at[idx, 'e'] = (row.b) - (row.c)\n",
        "  else:\n",
        "    df.at[idx, 'e'] = row.b + row.c\n",
        "\n",
        "end = time.time()\n",
        "\n",
        "print('time using for-loops:', (end-start))"
      ],
      "metadata": {
        "colab": {
          "base_uri": "https://localhost:8080/"
        },
        "id": "hcQb8H5Q6o8o",
        "outputId": "c999f265-ddd4-4d0d-d686-0f3efdaedc10"
      },
      "execution_count": 8,
      "outputs": [
        {
          "output_type": "stream",
          "name": "stdout",
          "text": [
            "time using for-loops: 553.3422744274139\n"
          ]
        }
      ]
    },
    {
      "cell_type": "markdown",
      "source": [
        "Using Vectorization:"
      ],
      "metadata": {
        "id": "Rzo3Bv9J-qow"
      }
    },
    {
      "cell_type": "code",
      "source": [
        "start = time.time()\n",
        "\n",
        "df['e'] = df['b'] + df['c']\n",
        "df.loc[df['a'] <= 25, 'e'] = df['b'] - df['c']\n",
        "df.loc[df['a'] == 0, 'e'] = df['d']\n",
        "\n",
        "end = time.time()\n",
        "\n",
        "print('time using vectorization:', (end-start))"
      ],
      "metadata": {
        "colab": {
          "base_uri": "https://localhost:8080/"
        },
        "id": "k8tocg2y6o_u",
        "outputId": "693f2df4-225f-4cfa-9118-02fd286a500f"
      },
      "execution_count": 9,
      "outputs": [
        {
          "output_type": "stream",
          "name": "stdout",
          "text": [
            "time using vectorization: 0.3814542293548584\n"
          ]
        }
      ]
    },
    {
      "cell_type": "markdown",
      "source": [
        "Calculation time comparison:\n",
        "\n",
        "for loop: 553 seconds \n",
        "vectorization: 0.381 seconds\n",
        "\n",
        "Vectorization was 1,400x faster"
      ],
      "metadata": {
        "id": "NskiAjYAAw3S"
      }
    },
    {
      "cell_type": "markdown",
      "source": [
        "**Solving ML/DL Networks**\n",
        "\n",
        "Deep learning solves multiple complex equations for millions of rows\n"
      ],
      "metadata": {
        "id": "Tj1DeDJRBRcp"
      }
    },
    {
      "cell_type": "code",
      "source": [
        "# Create the data\n",
        "\n",
        "z = np.random.rand(1,5)\n",
        "\n",
        "x = np.random.rand(5000000,5)"
      ],
      "metadata": {
        "id": "N7EwBTPH-oDB"
      },
      "execution_count": 10,
      "outputs": []
    },
    {
      "cell_type": "code",
      "source": [
        "z , x"
      ],
      "metadata": {
        "colab": {
          "base_uri": "https://localhost:8080/"
        },
        "id": "l6Rq12hl-oeu",
        "outputId": "c87d296a-621a-498a-8430-8fbeb345e898"
      },
      "execution_count": 11,
      "outputs": [
        {
          "output_type": "execute_result",
          "data": {
            "text/plain": [
              "(array([[0.65662776, 0.61650631, 0.30600364, 0.77061291, 0.7527969 ]]),\n",
              " array([[0.5259611 , 0.84462899, 0.64114104, 0.87970317, 0.33274583],\n",
              "        [0.64151787, 0.26050838, 0.20988106, 0.86704442, 0.92814382],\n",
              "        [0.79469601, 0.04986064, 0.84661822, 0.77369978, 0.92500103],\n",
              "        ...,\n",
              "        [0.06464728, 0.54142503, 0.74455576, 0.8421134 , 0.19020428],\n",
              "        [0.02633111, 0.32439616, 0.51270438, 0.82808423, 0.04288669],\n",
              "        [0.23119859, 0.30296862, 0.67940736, 0.24556172, 0.76543868]]))"
            ]
          },
          "metadata": {},
          "execution_count": 11
        }
      ]
    },
    {
      "cell_type": "markdown",
      "source": [
        "Using for-loops:"
      ],
      "metadata": {
        "id": "EcMfP6RuCBzm"
      }
    },
    {
      "cell_type": "code",
      "source": [
        "total = 0\n",
        "tic = time.process_time()\n",
        "\n",
        "for i in range(0,5000000):\n",
        "  total = 0\n",
        "  for j in range(0,5):\n",
        "    total = total + x[i][j]*z[0][j]\n",
        "\n",
        "  total[i] = total\n",
        "\n",
        "toc = time.process_time()\n",
        "\n",
        "print('Computation time= ' + str((toc-tic)) + 'seconds')"
      ],
      "metadata": {
        "colab": {
          "base_uri": "https://localhost:8080/",
          "height": 242
        },
        "id": "gSMEGHc4CAB1",
        "outputId": "563f4e46-e790-4bd5-ef02-360612a2bc11"
      },
      "execution_count": 15,
      "outputs": [
        {
          "output_type": "error",
          "ename": "TypeError",
          "evalue": "ignored",
          "traceback": [
            "\u001b[0;31m---------------------------------------------------------------------------\u001b[0m",
            "\u001b[0;31mTypeError\u001b[0m                                 Traceback (most recent call last)",
            "\u001b[0;32m<ipython-input-15-a6ad2fa149d7>\u001b[0m in \u001b[0;36m<module>\u001b[0;34m\u001b[0m\n\u001b[1;32m      7\u001b[0m     \u001b[0mtotal\u001b[0m \u001b[0;34m=\u001b[0m \u001b[0mtotal\u001b[0m \u001b[0;34m+\u001b[0m \u001b[0mx\u001b[0m\u001b[0;34m[\u001b[0m\u001b[0mi\u001b[0m\u001b[0;34m]\u001b[0m\u001b[0;34m[\u001b[0m\u001b[0mj\u001b[0m\u001b[0;34m]\u001b[0m\u001b[0;34m*\u001b[0m\u001b[0mz\u001b[0m\u001b[0;34m[\u001b[0m\u001b[0;36m0\u001b[0m\u001b[0;34m]\u001b[0m\u001b[0;34m[\u001b[0m\u001b[0mj\u001b[0m\u001b[0;34m]\u001b[0m\u001b[0;34m\u001b[0m\u001b[0;34m\u001b[0m\u001b[0m\n\u001b[1;32m      8\u001b[0m \u001b[0;34m\u001b[0m\u001b[0m\n\u001b[0;32m----> 9\u001b[0;31m   \u001b[0mtotal\u001b[0m\u001b[0;34m[\u001b[0m\u001b[0mi\u001b[0m\u001b[0;34m]\u001b[0m \u001b[0;34m=\u001b[0m \u001b[0mtotal\u001b[0m\u001b[0;34m\u001b[0m\u001b[0;34m\u001b[0m\u001b[0m\n\u001b[0m\u001b[1;32m     10\u001b[0m \u001b[0;34m\u001b[0m\u001b[0m\n\u001b[1;32m     11\u001b[0m \u001b[0mtoc\u001b[0m \u001b[0;34m=\u001b[0m \u001b[0mtime\u001b[0m\u001b[0;34m.\u001b[0m\u001b[0mprocess_time\u001b[0m\u001b[0;34m(\u001b[0m\u001b[0;34m)\u001b[0m\u001b[0;34m\u001b[0m\u001b[0;34m\u001b[0m\u001b[0m\n",
            "\u001b[0;31mTypeError\u001b[0m: 'numpy.float64' object does not support item assignment"
          ]
        }
      ]
    },
    {
      "cell_type": "markdown",
      "source": [
        "Using Vectorization:"
      ],
      "metadata": {
        "id": "JveN3xo6DH78"
      }
    },
    {
      "cell_type": "code",
      "source": [
        "tic = time.process_time()\n",
        "\n",
        "# dot product\n",
        "np.dot(x, z.T)\n",
        "\n",
        "toc = time.process_time()\n",
        "print('Computation time = ' + str((toc - tic)) + 'seconds')\n",
        "\n"
      ],
      "metadata": {
        "colab": {
          "base_uri": "https://localhost:8080/"
        },
        "id": "ajlU8PwXCANU",
        "outputId": "0d0fc936-525f-499d-8a30-53c8e56f494e"
      },
      "execution_count": 14,
      "outputs": [
        {
          "output_type": "stream",
          "name": "stdout",
          "text": [
            "Computation time = 0.13225094500000978seconds\n"
          ]
        }
      ]
    },
    {
      "cell_type": "code",
      "source": [],
      "metadata": {
        "id": "b6N0CZ88CATL"
      },
      "execution_count": null,
      "outputs": []
    }
  ]
}