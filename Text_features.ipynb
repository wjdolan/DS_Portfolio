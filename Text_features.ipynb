{
  "nbformat": 4,
  "nbformat_minor": 0,
  "metadata": {
    "colab": {
      "name": "Text_features.ipynb",
      "provenance": [],
      "authorship_tag": "ABX9TyMmRgbW9kDZq9FZM0lTNNI9",
      "include_colab_link": true
    },
    "kernelspec": {
      "name": "python3",
      "display_name": "Python 3"
    },
    "language_info": {
      "name": "python"
    }
  },
  "cells": [
    {
      "cell_type": "markdown",
      "metadata": {
        "id": "view-in-github",
        "colab_type": "text"
      },
      "source": [
        "<a href=\"https://colab.research.google.com/github/wjdolan/DS_Portfolio/blob/main/Text_features.ipynb\" target=\"_parent\"><img src=\"https://colab.research.google.com/assets/colab-badge.svg\" alt=\"Open In Colab\"/></a>"
      ]
    },
    {
      "cell_type": "markdown",
      "source": [
        "# **Feature Extraction for text Data**"
      ],
      "metadata": {
        "id": "LlPqoz3nUdK3"
      }
    },
    {
      "cell_type": "markdown",
      "source": [
        "## BoW"
      ],
      "metadata": {
        "id": "kPhFDT3aUoT8"
      }
    },
    {
      "cell_type": "code",
      "execution_count": 3,
      "metadata": {
        "colab": {
          "base_uri": "https://localhost:8080/"
        },
        "id": "E2V2jjupUcRF",
        "outputId": "ad1fe050-0517-4189-8f3f-d6c6f693f018"
      },
      "outputs": [
        {
          "output_type": "stream",
          "name": "stdout",
          "text": [
            "vocabulary:  ['i', 'phone', 'superb,', 'this', 'love', 'in', 'hate', 'am']\n",
            "vectors:  [[1, 1, 1, 1, 1, 1, 0, 1], [1, 1, 0, 1, 0, 0, 1, 0]]\n"
          ]
        }
      ],
      "source": [
        "# list of documents\n",
        "docs = [\"SUPERB, I AM IN LOVE IN THIS PHONE\", \"I hate this phone\"]\n",
        "\n",
        "words = list(set([word for doc in docs for word in doc.lower().split()]))\n",
        "\n",
        "vectors = []\n",
        "for doc in docs:\n",
        "    vectors.append([1 if word in doc.lower().split() else 0 for word in words])\n",
        "\n",
        "print(\"vocabulary: \", words)   \n",
        "print(\"vectors: \", vectors)\n"
      ]
    },
    {
      "cell_type": "markdown",
      "source": [
        "## CountVectorizer"
      ],
      "metadata": {
        "id": "cHSNXi97VI-1"
      }
    },
    {
      "cell_type": "code",
      "source": [
        "from sklearn.feature_extraction.text import CountVectorizer\n",
        "\n",
        "# create the transform\n",
        "vectorizer = CountVectorizer()\n",
        "\n",
        "# tokenize and build vocab\n",
        "vectorizer.fit(docs)\n",
        "print('vocabulary: ', vectorizer.vocabulary_)\n",
        "\n",
        "# encode document\n",
        "vector = vectorizer.transform(docs)\n",
        "\n",
        "# summarize encoded vector\n",
        "print('shape: ', vector.shape)\n",
        "print('vectors: ', vector.toarray())"
      ],
      "metadata": {
        "colab": {
          "base_uri": "https://localhost:8080/"
        },
        "id": "WdAR5wdSUkSS",
        "outputId": "fbaf846b-07a3-4447-a2fa-ed54aab9e5a2"
      },
      "execution_count": 4,
      "outputs": [
        {
          "output_type": "stream",
          "name": "stdout",
          "text": [
            "vocabulary:  {'superb': 5, 'am': 0, 'in': 2, 'love': 3, 'this': 6, 'phone': 4, 'hate': 1}\n",
            "shape:  (2, 7)\n",
            "vectors:  [[1 0 2 1 1 1 1]\n",
            " [0 1 0 0 1 0 1]]\n"
          ]
        }
      ]
    },
    {
      "cell_type": "markdown",
      "source": [
        "## TF-IDF\n",
        "\n",
        "https://miro.medium.com/max/392/1*q6WuO-BoZFIFR9o8cgajRQ.png\n",
        "\n",
        "tf * (idf + 1) = tf + tf * idf”"
      ],
      "metadata": {
        "id": "ilHl5oQOWMEZ"
      }
    },
    {
      "cell_type": "code",
      "source": [
        "from sklearn.feature_extraction.text import TfidfVectorizer\n",
        "\n",
        "# create the transform\n",
        "vectorizer = TfidfVectorizer()\n",
        "\n",
        "# tokenize and build vocab\n",
        "vectorizer.fit(docs)\n",
        "\n",
        "# summarize\n",
        "print('vocabulary: ', vectorizer.vocabulary_)\n",
        "print('idfs: ', vectorizer.idf_)\n",
        "\n",
        "# encode document\n",
        "vector = vectorizer.transform([docs[0]])\n",
        "\n",
        "# summarize encoded vector\n",
        "print('vectors: ', vector.toarray())"
      ],
      "metadata": {
        "colab": {
          "base_uri": "https://localhost:8080/"
        },
        "id": "9teFUQ4cUkU7",
        "outputId": "34133ad8-ac85-4e90-dfdf-89286a67f7fe"
      },
      "execution_count": 5,
      "outputs": [
        {
          "output_type": "stream",
          "name": "stdout",
          "text": [
            "vocabulary:  {'superb': 5, 'am': 0, 'in': 2, 'love': 3, 'this': 6, 'phone': 4, 'hate': 1}\n",
            "idfs:  [1.40546511 1.40546511 1.40546511 1.40546511 1.         1.40546511\n",
            " 1.        ]\n",
            "vectors:  [[0.35327777 0.         0.70655553 0.35327777 0.25136004 0.35327777\n",
            "  0.25136004]]\n"
          ]
        }
      ]
    },
    {
      "cell_type": "code",
      "source": [
        ""
      ],
      "metadata": {
        "id": "tH8Aytb1UkYq"
      },
      "execution_count": null,
      "outputs": []
    },
    {
      "cell_type": "code",
      "source": [
        ""
      ],
      "metadata": {
        "id": "bTW2s2LUUkcX"
      },
      "execution_count": null,
      "outputs": []
    }
  ]
}