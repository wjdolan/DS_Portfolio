{
  "nbformat": 4,
  "nbformat_minor": 0,
  "metadata": {
    "colab": {
      "name": "Python_Apyori.ipynb",
      "provenance": [],
      "authorship_tag": "ABX9TyOq16xoDU4oEzm1dz0a6uiC",
      "include_colab_link": true
    },
    "kernelspec": {
      "name": "python3",
      "display_name": "Python 3"
    },
    "language_info": {
      "name": "python"
    }
  },
  "cells": [
    {
      "cell_type": "markdown",
      "metadata": {
        "id": "view-in-github",
        "colab_type": "text"
      },
      "source": [
        "<a href=\"https://colab.research.google.com/github/wjdolan/DS_Portfolio/blob/main/Python_Apyori.ipynb\" target=\"_parent\"><img src=\"https://colab.research.google.com/assets/colab-badge.svg\" alt=\"Open In Colab\"/></a>"
      ]
    },
    {
      "cell_type": "markdown",
      "source": [
        "# **Python Apyori Algorithm**"
      ],
      "metadata": {
        "id": "coi4ZqNjmf8N"
      }
    },
    {
      "cell_type": "code",
      "execution_count": 3,
      "metadata": {
        "id": "zOqEkU5hmHJX"
      },
      "outputs": [],
      "source": [
        "import numpy as np\n",
        "import matplotlib.pyplot as plt\n",
        "import pandas as pd\n",
        "from apyori import apriori"
      ]
    },
    {
      "cell_type": "code",
      "source": [
        "url = 'https://raw.githubusercontent.com/pirandello/apriori/master/movie_dataset.csv'\n",
        "\n",
        "movie_data = pd.read_csv(url, header=None)"
      ],
      "metadata": {
        "id": "1v8-ODokmmSC"
      },
      "execution_count": 5,
      "outputs": []
    },
    {
      "cell_type": "code",
      "source": [
        "num_records = len(movie_data)\n",
        "print(num_records)"
      ],
      "metadata": {
        "colab": {
          "base_uri": "https://localhost:8080/"
        },
        "id": "5mKL2XZWmmUX",
        "outputId": "7b2d07a5-f7ff-4a59-a4b4-5c9cc5703eaa"
      },
      "execution_count": 6,
      "outputs": [
        {
          "output_type": "stream",
          "name": "stdout",
          "text": [
            "7501\n"
          ]
        }
      ]
    },
    {
      "cell_type": "code",
      "source": [
        "records = []\n",
        "\n",
        "for i in range(0, num_records):\n",
        "  records.append([str(movie_data.values[i,j]) for j in range(0,20)])"
      ],
      "metadata": {
        "id": "bQO1H6WWmmXG"
      },
      "execution_count": 8,
      "outputs": []
    },
    {
      "cell_type": "code",
      "source": [
        "\n",
        "association_rules = apriori(records, min_support=0.0053, min_confidence=0.20, min_lift=3, min_length=2)\n",
        "association_results = list(association_rules)"
      ],
      "metadata": {
        "id": "-FR1pcrDomEZ"
      },
      "execution_count": 10,
      "outputs": []
    },
    {
      "cell_type": "code",
      "source": [
        "print(len(association_results))"
      ],
      "metadata": {
        "colab": {
          "base_uri": "https://localhost:8080/"
        },
        "id": "xSc4-kk8omCA",
        "outputId": "d72c2c42-0488-4989-e3b7-1291b269cea1"
      },
      "execution_count": 11,
      "outputs": [
        {
          "output_type": "stream",
          "name": "stdout",
          "text": [
            "32\n"
          ]
        }
      ]
    },
    {
      "cell_type": "code",
      "source": [
        "print(association_results[0])"
      ],
      "metadata": {
        "colab": {
          "base_uri": "https://localhost:8080/"
        },
        "id": "yfGQFhxuol_q",
        "outputId": "45d0299b-82ba-4fea-86a1-b55947036b8b"
      },
      "execution_count": 12,
      "outputs": [
        {
          "output_type": "stream",
          "name": "stdout",
          "text": [
            "RelationRecord(items=frozenset({'Green Lantern', 'Red Sparrow'}), support=0.005732568990801226, ordered_statistics=[OrderedStatistic(items_base=frozenset({'Red Sparrow'}), items_add=frozenset({'Green Lantern'}), confidence=0.3006993006993007, lift=3.790832696715049)])\n"
          ]
        }
      ]
    },
    {
      "cell_type": "code",
      "source": [
        "# display results in a dataframe\n",
        "\n",
        "results = []\n",
        "\n",
        "for item in association_results:\n",
        "\n",
        "  #first index of the inner list contains base item and add item\n",
        "  pair = item[0]\n",
        "  items = [x for x in pair]\n",
        "\n",
        "  value0 = str(items[0])\n",
        "  value1 = str(items[1])\n",
        "\n",
        "  #2nd index of inner list\n",
        "  value2 = str(item[1])[:7]\n",
        "\n",
        "  #3rd index of list located at 0th of 3rd index of inner list\n",
        "  value3 = str(item[2][0][2])[:7]\n",
        "  value4 = str(item[2][0][3])[:7]\n",
        "\n",
        "  rows = (value0, value1, value2, value3, value4)\n",
        "  results.append(rows)\n",
        "\n",
        "labels = ['Title 1', 'Title 2', 'Support', 'Confidence', 'Lift']\n",
        "movie_suggestion = pd.DataFrame.from_records(results, columns = labels)\n",
        "\n",
        "print(movie_suggestion)"
      ],
      "metadata": {
        "colab": {
          "base_uri": "https://localhost:8080/"
        },
        "id": "EhHw_hiKp1Nr",
        "outputId": "84393b85-d5a2-4ba6-92f8-fd93d69313fe"
      },
      "execution_count": 13,
      "outputs": [
        {
          "output_type": "stream",
          "name": "stdout",
          "text": [
            "          Title 1                Title 2  Support Confidence     Lift\n",
            "0   Green Lantern            Red Sparrow  0.00573    0.30069  3.79083\n",
            "1       Star Wars          Green Lantern  0.00586    0.37288  4.70081\n",
            "2   Kung Fu Panda                Jumanji  0.01599    0.32345  3.29199\n",
            "3    Wonder Woman                Jumanji  0.00533    0.37735  3.84065\n",
            "4     Spiderman 3  The Spy Who Dumped Me  0.00799    0.27149  4.12241\n",
            "5          Intern                   Coco  0.00533    0.23255  3.25451\n",
            "6   Green Lantern                    nan  0.00573    0.30069  3.79083\n",
            "7       Star Wars          Green Lantern  0.00586    0.37288  4.70081\n",
            "8          Intern             Tomb Rider  0.00866    0.31100  3.16532\n",
            "9          Intern          Ninja Turtles  0.00719    0.30508  3.20061\n",
            "10         Intern            Spiderman 3  0.00573    0.20574  3.12402\n",
            "11         Intern           The Revenant  0.00599    0.21531  3.01314\n",
            "12         Intern             Tomb Rider  0.00666    0.23923  3.49804\n",
            "13     Tomb Rider                Jumanji  0.00533    0.32258  3.28314\n",
            "14  Ninja Turtles          Kung Fu Panda  0.00666    0.39062  3.97568\n",
            "15     Tomb Rider          Kung Fu Panda  0.00639    0.39344  4.00435\n",
            "16            nan          Kung Fu Panda  0.01599    0.32345  3.29199\n",
            "17   The Revenant             Tomb Rider  0.00599    0.52325  3.00531\n",
            "18   Wonder Woman                    nan  0.00533    0.37735  3.84065\n",
            "19    Spiderman 3                  Moana  0.00719    0.20300  3.08250\n",
            "20    Spiderman 3  The Spy Who Dumped Me  0.00799    0.27149  4.13077\n",
            "21         Intern                   Coco  0.00533    0.23255  3.26059\n",
            "22         Intern             Tomb Rider  0.00866    0.31100  3.16532\n",
            "23         Intern          Ninja Turtles  0.00719    0.30508  3.20061\n",
            "24         Intern            Spiderman 3  0.00573    0.20574  3.13036\n",
            "25         Intern           The Revenant  0.00599    0.21531  3.01878\n",
            "26         Intern                    nan  0.00666    0.23923  3.49804\n",
            "27            nan             Tomb Rider  0.00533    0.32258  3.28314\n",
            "28            nan          Ninja Turtles  0.00666    0.39062  3.97568\n",
            "29            nan             Tomb Rider  0.00639    0.39344  4.00435\n",
            "30   The Revenant             Tomb Rider  0.00599    0.52325  3.00531\n",
            "31    Spiderman 3                  Moana  0.00719    0.20300  3.08876\n"
          ]
        }
      ]
    },
    {
      "cell_type": "code",
      "source": [
        ""
      ],
      "metadata": {
        "id": "PdwwL4rMp1Kq"
      },
      "execution_count": null,
      "outputs": []
    },
    {
      "cell_type": "code",
      "source": [
        ""
      ],
      "metadata": {
        "id": "8lRpFOK1p1IV"
      },
      "execution_count": null,
      "outputs": []
    }
  ]
}