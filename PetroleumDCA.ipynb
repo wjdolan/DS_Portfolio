{
  "nbformat": 4,
  "nbformat_minor": 0,
  "metadata": {
    "colab": {
      "provenance": [],
      "authorship_tag": "ABX9TyM1buCIiwmcMrrBmRVpaZM/",
      "include_colab_link": true
    },
    "kernelspec": {
      "name": "python3",
      "display_name": "Python 3"
    },
    "language_info": {
      "name": "python"
    }
  },
  "cells": [
    {
      "cell_type": "markdown",
      "metadata": {
        "id": "view-in-github",
        "colab_type": "text"
      },
      "source": [
        "<a href=\"https://colab.research.google.com/github/wjdolan/DS_Portfolio/blob/main/PetroleumDCA.ipynb\" target=\"_parent\"><img src=\"https://colab.research.google.com/assets/colab-badge.svg\" alt=\"Open In Colab\"/></a>"
      ]
    },
    {
      "cell_type": "markdown",
      "source": [
        "# Petroleum Well DCA"
      ],
      "metadata": {
        "id": "oX1jiRAlj2uF"
      }
    },
    {
      "cell_type": "code",
      "source": [
        "import numpy as np\n",
        "import matplotlib.pyplot as plt\n",
        "import pandas as pd\n",
        "import datetime"
      ],
      "metadata": {
        "id": "sixXE-X3j88z"
      },
      "execution_count": 2,
      "outputs": []
    },
    {
      "cell_type": "code",
      "execution_count": null,
      "metadata": {
        "id": "8e_bEPySj2MN"
      },
      "outputs": [],
      "source": [
        "# load data \n",
        "\n",
        "filepath = 'content/production_data'\n",
        "\n",
        "\n",
        "df = pd.read_csv(filepath, parse_dates='')\n",
        "\n",
        "\n",
        "t = df['Date']\n",
        "q = df['Rate (SCF/d)']\n",
        "\n",
        "df.head()"
      ]
    },
    {
      "cell_type": "code",
      "source": [
        "# normalize the datetime data\n",
        "\n",
        "timedelta = [j-i for i, j in zip(t[:-1], t[1:])]\n",
        "timedelta = np.array(timedelta)\n",
        "timedelta = timedelta / datetime.timedelta(days=1)\n",
        "\n",
        "\n",
        "# take cumulative sum over timedeltas\n",
        "t = np.cumsum(timedelta)\n",
        "t = np.append(0, t)\n",
        "t = t.astype(float)"
      ],
      "metadata": {
        "id": "2q_RALiVj85r"
      },
      "execution_count": null,
      "outputs": []
    },
    {
      "cell_type": "code",
      "source": [
        "# plot the data\n",
        "\n",
        "plt.plot(t, q, '.', color='red')\n",
        "plt.title('Production Rate from 01/12/1990 to 01/11/1992', size=13, pad=15)\n",
        "plt.xlabel('Days')\n",
        "plt.ylabel('Rate (SCF/d)')\n",
        "plt.xlim(xmin=0); plt.ylim(ymin=0)\n",
        "\n",
        "\n",
        "plt.show()"
      ],
      "metadata": {
        "id": "764VnUWYj83I"
      },
      "execution_count": null,
      "outputs": []
    },
    {
      "cell_type": "code",
      "source": [
        "# normalize the time and rate data\n",
        "\n",
        "t_normalized = t / max(t)\n",
        "q_normalized = q / max(q)"
      ],
      "metadata": {
        "id": "Ju9oK4cLj80x"
      },
      "execution_count": null,
      "outputs": []
    },
    {
      "cell_type": "code",
      "source": [
        "# function for hyperbolic decline\n",
        "\n",
        "def hyperbolic(t, qi, di, b):\n",
        "  return qi / (np.abs((1 + b * di * t))**(1/b))\n",
        "\n",
        "\n",
        "# fitting the data with the hyperbolic function\n",
        "\n",
        "from scipy.optimize import curve_fit\n",
        "\n",
        "\n",
        "popt, pcov = curve_fit(hyperbolic, t_normalized, q_normalized)"
      ],
      "metadata": {
        "id": "_rqwLWdlj8yH"
      },
      "execution_count": null,
      "outputs": []
    },
    {
      "cell_type": "code",
      "source": [
        "qi, di, b = popt\n",
        "\n",
        "\n",
        "# de-normalize qi and di\n",
        "qi = qi * max(q)\n",
        "di = di / max(t)\n",
        "\n",
        "\n",
        "print('Initial production rate:', np.round(qi, 3), 'MMSCF')\n",
        "print('Initial decline rate:', np.round(di, 3), 'SCF/D')\n",
        "print('Decline coefficient:', np.round(b, 3))"
      ],
      "metadata": {
        "id": "irDVYCxImD6a"
      },
      "execution_count": null,
      "outputs": []
    },
    {
      "cell_type": "code",
      "source": [
        "# function for hyperbolic cumulative production\n",
        "\n",
        "def cumpro(q_forecast, qi, di, b):\n",
        "  return (((qi**b) / ((1 - b) * di)) * ((qi ** (1 - b)) - (q_forecast ** (1 - b)))) \n",
        "  "
      ],
      "metadata": {
        "id": "pXhBS8--mD3r"
      },
      "execution_count": null,
      "outputs": []
    },
    {
      "cell_type": "code",
      "source": [
        "# forecast gas rate until 1,500 days\n",
        "t_forecast = np.arange(1501)\n",
        "q_forecast = hyperbolic(t_forecast, qi, di, b)\n",
        "\n",
        "\n",
        "# forecast cumulative production until 1,500 days\n",
        "Qp_forecast = cumpro(q_forecast, qi, di, b)"
      ],
      "metadata": {
        "id": "dmWq1MGrmRtx"
      },
      "execution_count": null,
      "outputs": []
    },
    {
      "cell_type": "code",
      "source": [
        "# plot the production data with the forecasts (rate and cum. production)\n",
        "plt.figure(figsize=(15,5))\n",
        "\n",
        "\n",
        "plt.subplot(1,2,1)\n",
        "plt.plot(t, q, '.', color='red', label='Production Data')\n",
        "plt.plot(t_forecast, q_forecast, label='Forecast')\n",
        "plt.title('Gas Production Rate Result of DCA', size=13, pad=15)\n",
        "plt.xlabel('Days')\n",
        "plt.ylabel('Rate (SCF/d)')\n",
        "plt.xlim(xmin=0); plt.ylim(ymin=0)\n",
        "plt.legend()\n",
        "\n",
        "\n",
        "plt.subplot(1,2,2)\n",
        "plt.plot(t_forecast, Qp_forecast)\n",
        "plt.title('Gas Cumulative Production Result of DCA', size=13, pad=15)\n",
        "plt.xlabel('Days')\n",
        "plt.ylabel('Production (SCF)')\n",
        "plt.xlim(xmin=0); plt.ylim(ymin=0)\n",
        "\n",
        "\n",
        "plt.show()"
      ],
      "metadata": {
        "id": "A2s99pGcmRpX"
      },
      "execution_count": null,
      "outputs": []
    },
    {
      "cell_type": "code",
      "source": [],
      "metadata": {
        "id": "2j35lSzDmRmH"
      },
      "execution_count": null,
      "outputs": []
    }
  ]
}