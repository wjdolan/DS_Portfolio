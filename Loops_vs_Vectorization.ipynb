{
  "nbformat": 4,
  "nbformat_minor": 0,
  "metadata": {
    "colab": {
      "name": "Loops_vs_Vectorization.ipynb",
      "provenance": [],
      "authorship_tag": "ABX9TyNn1w4DSDgcY/KmxvBBt6kc",
      "include_colab_link": true
    },
    "kernelspec": {
      "name": "python3",
      "display_name": "Python 3"
    },
    "language_info": {
      "name": "python"
    }
  },
  "cells": [
    {
      "cell_type": "markdown",
      "metadata": {
        "id": "view-in-github",
        "colab_type": "text"
      },
      "source": [
        "<a href=\"https://colab.research.google.com/github/wjdolan/DS_Portfolio/blob/main/Loops_vs_Vectorization.ipynb\" target=\"_parent\"><img src=\"https://colab.research.google.com/assets/colab-badge.svg\" alt=\"Open In Colab\"/></a>"
      ]
    },
    {
      "cell_type": "markdown",
      "source": [
        "# **Vectorization**"
      ],
      "metadata": {
        "id": "lEX95gvdAhv4"
      }
    },
    {
      "cell_type": "code",
      "source": [
        "import pandas as pd\n",
        "import numpy as np\n",
        "import matplotlib.pyplot as plt\n",
        "import time\n",
        "from math import sin as sn\n",
        "import math\n",
        "\n",
        "\n"
      ],
      "metadata": {
        "id": "PtWk4n_mAyei"
      },
      "execution_count": 15,
      "outputs": []
    },
    {
      "cell_type": "code",
      "source": [
        "a1 = np.random.randint(5,25,size=20)\n",
        "l1 = a1.tolist()\n",
        "l2=[]\n",
        "speed = []\n",
        "a2= []"
      ],
      "metadata": {
        "id": "jBYOF4SzBvxS"
      },
      "execution_count": 31,
      "outputs": []
    },
    {
      "cell_type": "code",
      "source": [
        "math.log(1)"
      ],
      "metadata": {
        "colab": {
          "base_uri": "https://localhost:8080/"
        },
        "id": "djB6WzrHCR6n",
        "outputId": "501c2712-f88f-4975-8fe3-811bde8bf8c4"
      },
      "execution_count": 21,
      "outputs": [
        {
          "output_type": "execute_result",
          "data": {
            "text/plain": [
              "0.0"
            ]
          },
          "metadata": {},
          "execution_count": 21
        }
      ]
    },
    {
      "cell_type": "code",
      "execution_count": 32,
      "metadata": {
        "colab": {
          "base_uri": "https://localhost:8080/"
        },
        "id": "H-gKb3brAfeG",
        "outputId": "50553a64-a42a-46fa-963d-1ba0ecbf94c7"
      },
      "outputs": [
        {
          "output_type": "stream",
          "name": "stdout",
          "text": [
            "With for loop and appending it took 9.632110595703125e-05 seconds\n"
          ]
        }
      ],
      "source": [
        "\n",
        "t1=time.time()\n",
        "for item in l1:\n",
        "    l2.append((math.log(item)))\n",
        "    \n",
        "t2 = time.time()\n",
        "print('With for loop and appending it took {} seconds'.format(t2-t1))\n",
        "speed.append(t2-t1)"
      ]
    },
    {
      "cell_type": "code",
      "source": [
        "t1=time.time()\n",
        "a2=np.log10(a1)\n",
        "t2 = time.time()\n",
        "print('With direct Numpy log10 method it took {} seconds'.format(t2-t1))\n",
        "speed.append(t2-t1)"
      ],
      "metadata": {
        "colab": {
          "base_uri": "https://localhost:8080/"
        },
        "id": "-VMx3tbFAwfN",
        "outputId": "6bb882e0-e975-466e-8f06-03c67d6f4176"
      },
      "execution_count": 33,
      "outputs": [
        {
          "output_type": "stream",
          "name": "stdout",
          "text": [
            "With direct Numpy log10 method it took 0.0016932487487792969 seconds\n"
          ]
        }
      ]
    },
    {
      "cell_type": "code",
      "source": [
        "# Number of test points\n",
        "N_point  = 1000"
      ],
      "metadata": {
        "id": "8MO4Y3C8Awba"
      },
      "execution_count": 34,
      "outputs": []
    },
    {
      "cell_type": "code",
      "source": [
        "# Define a custom function with some if-else loops\n",
        "\n",
        "def myfunc(x,y):\n",
        "    if (x>0.5*y and y<0.3):\n",
        "        return (sn(x-y))\n",
        "    elif (x<0.5*y):\n",
        "        return 0\n",
        "    elif (x>0.2*y):\n",
        "        return (2*sn(x+2*y))\n",
        "    else:\n",
        "        return (sn(y+x))"
      ],
      "metadata": {
        "id": "FAswBaUIDyqU"
      },
      "execution_count": 36,
      "outputs": []
    },
    {
      "cell_type": "code",
      "source": [
        "# List of stored elements, generated from a Normal distribution\n",
        "\n",
        "lst_x = np.random.randn(N_point)\n",
        "lst_y = np.random.randn(N_point)\n",
        "lst_result = []"
      ],
      "metadata": {
        "id": "wNWlHQLGDymK"
      },
      "execution_count": 37,
      "outputs": []
    },
    {
      "cell_type": "code",
      "source": [
        "# Optional plots of the data\n",
        "\n",
        "plt.hist(lst_x,bins=20)\n",
        "plt.show()\n",
        "plt.hist(lst_y,bins=20)\n",
        "plt.show()"
      ],
      "metadata": {
        "colab": {
          "base_uri": "https://localhost:8080/",
          "height": 516
        },
        "id": "QSLwJ-oQDyjd",
        "outputId": "bd963fbe-90c6-4bf1-a4b8-7fabb44e8e6b"
      },
      "execution_count": 38,
      "outputs": [
        {
          "output_type": "display_data",
          "data": {
            "text/plain": [
              "<Figure size 432x288 with 1 Axes>"
            ],
            "image/png": "[encoded data removed]"
          },
          "metadata": {
            "needs_background": "light"
          }
        },
        {
          "output_type": "display_data",
          "data": {
            "text/plain": [
              "<Figure size 432x288 with 1 Axes>"
            ],
            "image/png": "[encoded data removed]"
          },
          "metadata": {
            "needs_background": "light"
          }
        }
      ]
    },
    {
      "cell_type": "code",
      "source": [
        "# First, plain vanilla for-loop\n",
        "\n",
        "t1=time.time()\n",
        "for i in range(len(lst_x)):\n",
        "    x = lst_x[i]\n",
        "    y= lst_y[i]\n",
        "    if (x>0.5*y and y<0.3):\n",
        "        lst_result.append(sn(x-y))\n",
        "    elif (x<0.5*y):\n",
        "        lst_result.append(0)\n",
        "    elif (x>0.2*y):\n",
        "        lst_result.append(2*sn(x+2*y))\n",
        "    else:\n",
        "        lst_result.append(sn(y+x))\n",
        "t2=time.time()\n",
        "\n",
        "print('Time taken by the plain vanilla for-loop—-{} us'.format(1000000*(t2-t1)))"
      ],
      "metadata": {
        "colab": {
          "base_uri": "https://localhost:8080/"
        },
        "id": "tgg4tOHiAwTP",
        "outputId": "cfb10c71-90d0-4ca9-8a34-651ecdc26ba9"
      },
      "execution_count": 41,
      "outputs": [
        {
          "output_type": "stream",
          "name": "stdout",
          "text": [
            "Time taken by the plain vanilla for-loop—-3191.9479370117188 us\n"
          ]
        }
      ]
    },
    {
      "cell_type": "code",
      "source": [
        "# List comprehension\n",
        "\n",
        "print(\"Time taken by list comprehension and zip\" + '-' *40)\n",
        "\n",
        "%timeit lst_result = [myfunc(x,y) for x,y in zip(lst_x,lst_y)]"
      ],
      "metadata": {
        "colab": {
          "base_uri": "https://localhost:8080/"
        },
        "id": "lxqEF9DYD91L",
        "outputId": "c12db21e-b384-4e0c-ce56-b6c8a274ba39"
      },
      "execution_count": 42,
      "outputs": [
        {
          "output_type": "stream",
          "name": "stdout",
          "text": [
            "Time taken by list comprehension and zip----------------------------------------\n",
            "1000 loops, best of 5: 574 µs per loop\n"
          ]
        }
      ]
    },
    {
      "cell_type": "code",
      "source": [
        "# Map() function\n",
        "\n",
        "print(\"Time taken by map function\" + '-' *40)\n",
        "\n",
        "%timeit list(map(myfunc,lst_x,lst_y))"
      ],
      "metadata": {
        "colab": {
          "base_uri": "https://localhost:8080/"
        },
        "id": "kF1PrlIXD9yo",
        "outputId": "1477af2d-61fd-49ff-e626-cdeb0e9b8f3d"
      },
      "execution_count": 43,
      "outputs": [
        {
          "output_type": "stream",
          "name": "stdout",
          "text": [
            "Time taken by map function----------------------------------------\n",
            "1000 loops, best of 5: 511 µs per loop\n"
          ]
        }
      ]
    },
    {
      "cell_type": "code",
      "source": [
        "# Numpy.vectorize method\n",
        "\n",
        "print(\"Time taken by numpy.vectorize method\" + '-' *40)\n",
        "\n",
        "vectfunc = np.vectorize(myfunc,otypes=[float],cache=False)\n",
        "\n",
        "%timeit list(vectfunc(lst_x,lst_y))"
      ],
      "metadata": {
        "colab": {
          "base_uri": "https://localhost:8080/"
        },
        "id": "OFNiQwK0D9wL",
        "outputId": "b114c06c-ddf3-4f26-ba24-c1d3ed8a21da"
      },
      "execution_count": 45,
      "outputs": [
        {
          "output_type": "stream",
          "name": "stdout",
          "text": [
            "Time taken by numpy.vectorize method----------------------------------------\n",
            "The slowest run took 4.49 times longer than the fastest. This could mean that an intermediate result is being cached.\n",
            "1000 loops, best of 5: 417 µs per loop\n"
          ]
        }
      ]
    },
    {
      "cell_type": "code",
      "source": [
        ""
      ],
      "metadata": {
        "id": "WR7bFu6aFAJQ"
      },
      "execution_count": null,
      "outputs": []
    },
    {
      "cell_type": "code",
      "source": [
        ""
      ],
      "metadata": {
        "id": "wsiuhh79FAFx"
      },
      "execution_count": null,
      "outputs": []
    },
    {
      "cell_type": "code",
      "source": [
        ""
      ],
      "metadata": {
        "id": "492Vn3HQFACa"
      },
      "execution_count": null,
      "outputs": []
    },
    {
      "cell_type": "code",
      "source": [
        ""
      ],
      "metadata": {
        "id": "rjXBe7u-E__z"
      },
      "execution_count": null,
      "outputs": []
    }
  ]
}