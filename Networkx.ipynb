{
  "nbformat": 4,
  "nbformat_minor": 0,
  "metadata": {
    "colab": {
      "name": "Networkx.ipynb",
      "provenance": [],
      "authorship_tag": "ABX9TyNaThei1EgIb/sQeFAp+uvy",
      "include_colab_link": true
    },
    "kernelspec": {
      "name": "python3",
      "display_name": "Python 3"
    },
    "language_info": {
      "name": "python"
    }
  },
  "cells": [
    {
      "cell_type": "markdown",
      "metadata": {
        "id": "view-in-github",
        "colab_type": "text"
      },
      "source": [
        "<a href=\"https://colab.research.google.com/github/wjdolan/DS_Portfolio/blob/main/Networkx.ipynb\" target=\"_parent\"><img src=\"https://colab.research.google.com/assets/colab-badge.svg\" alt=\"Open In Colab\"/></a>"
      ]
    },
    {
      "cell_type": "markdown",
      "source": [
        "# Network Analysis (Python)"
      ],
      "metadata": {
        "id": "_qJPk8RhHwvi"
      }
    },
    {
      "cell_type": "code",
      "source": [
        "# pip install networkx\n"
      ],
      "metadata": {
        "id": "gBSf1RaeK1oz"
      },
      "execution_count": 64,
      "outputs": []
    },
    {
      "cell_type": "code",
      "execution_count": 85,
      "metadata": {
        "id": "eR4F1PA_HGwh"
      },
      "outputs": [],
      "source": [
        "from IPython.display import Image\n",
        "import networkx as nx\n",
        "import matplotlib.pyplot as plt\n",
        "plt.rcParams[\"figure.figsize\"] = (10,7)\n",
        "import graphviz as gv\n",
        "\n",
        "\n",
        "import pandas as pd \n",
        "import numpy as np\n"
      ]
    },
    {
      "cell_type": "code",
      "source": [
        "# Creating a Graph \n",
        "\n",
        "G = nx.Graph() # Right now G is empty"
      ],
      "metadata": {
        "id": "4JJEF00LH2it"
      },
      "execution_count": 5,
      "outputs": []
    },
    {
      "cell_type": "code",
      "source": [
        "# Add a node\n",
        "G.add_node(1) \n",
        "G.add_nodes_from([2,3]) # You can also add a list of nodes by passing a list argument\n",
        "\n",
        "# Add edges \n",
        "G.add_edge(1,2)"
      ],
      "metadata": {
        "id": "Y74NLppVH2li"
      },
      "execution_count": 6,
      "outputs": []
    },
    {
      "cell_type": "code",
      "source": [
        "e = (2,3)\n",
        "G.add_edge(*e) # * unpacks the tuple\n",
        "G.add_edges_from([(1,2), (1,3)]) # Just like nodes we can add edges from a list"
      ],
      "metadata": {
        "id": "rwn_7oxCH2qi"
      },
      "execution_count": 7,
      "outputs": []
    },
    {
      "cell_type": "markdown",
      "source": [
        "### Other classic graph operations"
      ],
      "metadata": {
        "id": "HVe-hMTeLilJ"
      }
    },
    {
      "cell_type": "code",
      "source": [
        "# subgraph(G, nbunch)      - induced subgraph view of G on nodes in nbunch\n",
        "# union(G1,G2)             - graph union\n",
        "# disjoint_union(G1,G2)    - graph union assuming all nodes are different\n",
        "# cartesian_product(G1,G2) - return Cartesian product graph\n",
        "# compose(G1,G2)           - combine graphs identifying nodes common to both\n",
        "# complement(G)            - graph complement\n",
        "# create_empty_copy(G)     - return an empty copy of the same graph class\n",
        "# convert_to_undirected(G) - return an undirected representation of G\n",
        "# convert_to_directed(G)   - return a directed representation of G"
      ],
      "metadata": {
        "id": "MbEv0iy1LO1C"
      },
      "execution_count": null,
      "outputs": []
    },
    {
      "cell_type": "code",
      "source": [
        "G.nodes()"
      ],
      "metadata": {
        "colab": {
          "base_uri": "https://localhost:8080/"
        },
        "id": "Ft9aLqHtLOx7",
        "outputId": "f827d08b-405a-445f-c3d0-7fb8490176fc"
      },
      "execution_count": 8,
      "outputs": [
        {
          "output_type": "execute_result",
          "data": {
            "text/plain": [
              "NodeView((1, 2, 3))"
            ]
          },
          "metadata": {},
          "execution_count": 8
        }
      ]
    },
    {
      "cell_type": "code",
      "source": [
        "G.edges()"
      ],
      "metadata": {
        "colab": {
          "base_uri": "https://localhost:8080/"
        },
        "id": "Mug1dVVTLOvc",
        "outputId": "d3fb2332-7231-4a5e-b402-b0c78535e699"
      },
      "execution_count": 9,
      "outputs": [
        {
          "output_type": "execute_result",
          "data": {
            "text/plain": [
              "EdgeView([(1, 2), (1, 3), (2, 3)])"
            ]
          },
          "metadata": {},
          "execution_count": 9
        }
      ]
    },
    {
      "cell_type": "code",
      "source": [
        "G[1] # same as G.adj[1]"
      ],
      "metadata": {
        "colab": {
          "base_uri": "https://localhost:8080/"
        },
        "id": "gYFjG-sHL4Yn",
        "outputId": "1479a20b-b392-401d-9cc8-cd1f8831651e"
      },
      "execution_count": 10,
      "outputs": [
        {
          "output_type": "execute_result",
          "data": {
            "text/plain": [
              "AtlasView({2: {}, 3: {}})"
            ]
          },
          "metadata": {},
          "execution_count": 10
        }
      ]
    },
    {
      "cell_type": "code",
      "source": [
        "G[1][2]"
      ],
      "metadata": {
        "colab": {
          "base_uri": "https://localhost:8080/"
        },
        "id": "GOgWHNqpL4Vq",
        "outputId": "c81cee88-c4dd-4782-9613-255bead959b1"
      },
      "execution_count": 11,
      "outputs": [
        {
          "output_type": "execute_result",
          "data": {
            "text/plain": [
              "{}"
            ]
          },
          "metadata": {},
          "execution_count": 11
        }
      ]
    },
    {
      "cell_type": "code",
      "source": [
        "G.edges[1, 2]"
      ],
      "metadata": {
        "colab": {
          "base_uri": "https://localhost:8080/"
        },
        "id": "ozvb3i1IL4S3",
        "outputId": "0fe54dfb-260a-4a14-a23c-724bafd2cac4"
      },
      "execution_count": 12,
      "outputs": [
        {
          "output_type": "execute_result",
          "data": {
            "text/plain": [
              "{}"
            ]
          },
          "metadata": {},
          "execution_count": 12
        }
      ]
    },
    {
      "cell_type": "code",
      "source": [
        "nx.draw(G)"
      ],
      "metadata": {
        "colab": {
          "base_uri": "https://localhost:8080/",
          "height": 319
        },
        "id": "9ligOH22L4QP",
        "outputId": "2a8419fa-abe9-4c30-dc2a-0ba76fe61e80"
      },
      "execution_count": 14,
      "outputs": [
        {
          "output_type": "display_data",
          "data": {
            "text/plain": [
              "<Figure size 432x288 with 1 Axes>"
            ],
            "image/png": "[encoded data removed]"
          },
          "metadata": {}
        }
      ]
    },
    {
      "cell_type": "code",
      "source": [
        "d={'1': {'2': None}, '2': {'1': None, '3': None}, '3': {'1': None}}\n",
        "A = gv.Digraph()\n",
        "\n",
        "print(A) # This is the 'string' or simple representation of the Graph"
      ],
      "metadata": {
        "colab": {
          "base_uri": "https://localhost:8080/"
        },
        "id": "a2EOsv1kN7Z1",
        "outputId": "1e2c3363-4fb5-4415-c652-47c1ce257413"
      },
      "execution_count": 66,
      "outputs": [
        {
          "output_type": "stream",
          "name": "stdout",
          "text": [
            "digraph {\n",
            "}\n"
          ]
        }
      ]
    },
    {
      "cell_type": "markdown",
      "source": [
        "### Analysis on a Dataset"
      ],
      "metadata": {
        "id": "7En9QFfDSNM3"
      }
    },
    {
      "cell_type": "code",
      "source": [
        "data = pd.read_csv('Airlines.csv')"
      ],
      "metadata": {
        "id": "qpHNuiyNSR2B"
      },
      "execution_count": 78,
      "outputs": []
    },
    {
      "cell_type": "code",
      "source": [
        "data.head()"
      ],
      "metadata": {
        "colab": {
          "base_uri": "https://localhost:8080/",
          "height": 206
        },
        "id": "s9lgyVP1WViL",
        "outputId": "77cfd3f3-3747-4880-d7dc-7c9ad64a8d4d"
      },
      "execution_count": 79,
      "outputs": [
        {
          "output_type": "execute_result",
          "data": {
            "text/plain": [
              "   year  month  day  dep_time  sched_dep_time  dep_delay  arr_time  \\\n",
              "0  2013      2   26    1807.0            1630       97.0    1956.0   \n",
              "1  2013      8   17    1459.0            1445       14.0    1801.0   \n",
              "2  2013      2   13    1812.0            1815       -3.0    2055.0   \n",
              "3  2013      4   11    2122.0            2115        7.0    2339.0   \n",
              "4  2013      8    5    1832.0            1835       -3.0    2145.0   \n",
              "\n",
              "   sched_arr_time  arr_delay carrier  flight tailnum origin dest  air_time  \\\n",
              "0            1837       79.0      EV    4411  N13566    EWR  MEM     144.0   \n",
              "1            1747       14.0      B6    1171  N661JB    LGA  FLL     147.0   \n",
              "2            2125      -30.0      AS       7  N403AS    EWR  SEA     315.0   \n",
              "3            2353      -14.0      B6      97  N656JB    JFK  DEN     221.0   \n",
              "4            2155      -10.0      AA     269  N3EYAA    JFK  SEA     358.0   \n",
              "\n",
              "   distance  \n",
              "0       946  \n",
              "1      1076  \n",
              "2      2402  \n",
              "3      1626  \n",
              "4      2422  "
            ],
            "text/html": [
              "\n",
              "  <div id=\"df-0507e199-52a2-4725-b653-e641bb3495b2\">\n",
              "    <div class=\"colab-df-container\">\n",
              "      <div>\n",
              "<style scoped>\n",
              "    .dataframe tbody tr th:only-of-type {\n",
              "        vertical-align: middle;\n",
              "    }\n",
              "\n",
              "    .dataframe tbody tr th {\n",
              "        vertical-align: top;\n",
              "    }\n",
              "\n",
              "    .dataframe thead th {\n",
              "        text-align: right;\n",
              "    }\n",
              "</style>\n",
              "<table border=\"1\" class=\"dataframe\">\n",
              "  <thead>\n",
              "    <tr style=\"text-align: right;\">\n",
              "      <th></th>\n",
              "      <th>year</th>\n",
              "      <th>month</th>\n",
              "      <th>day</th>\n",
              "      <th>dep_time</th>\n",
              "      <th>sched_dep_time</th>\n",
              "      <th>dep_delay</th>\n",
              "      <th>arr_time</th>\n",
              "      <th>sched_arr_time</th>\n",
              "      <th>arr_delay</th>\n",
              "      <th>carrier</th>\n",
              "      <th>flight</th>\n",
              "      <th>tailnum</th>\n",
              "      <th>origin</th>\n",
              "      <th>dest</th>\n",
              "      <th>air_time</th>\n",
              "      <th>distance</th>\n",
              "    </tr>\n",
              "  </thead>\n",
              "  <tbody>\n",
              "    <tr>\n",
              "      <th>0</th>\n",
              "      <td>2013</td>\n",
              "      <td>2</td>\n",
              "      <td>26</td>\n",
              "      <td>1807.0</td>\n",
              "      <td>1630</td>\n",
              "      <td>97.0</td>\n",
              "      <td>1956.0</td>\n",
              "      <td>1837</td>\n",
              "      <td>79.0</td>\n",
              "      <td>EV</td>\n",
              "      <td>4411</td>\n",
              "      <td>N13566</td>\n",
              "      <td>EWR</td>\n",
              "      <td>MEM</td>\n",
              "      <td>144.0</td>\n",
              "      <td>946</td>\n",
              "    </tr>\n",
              "    <tr>\n",
              "      <th>1</th>\n",
              "      <td>2013</td>\n",
              "      <td>8</td>\n",
              "      <td>17</td>\n",
              "      <td>1459.0</td>\n",
              "      <td>1445</td>\n",
              "      <td>14.0</td>\n",
              "      <td>1801.0</td>\n",
              "      <td>1747</td>\n",
              "      <td>14.0</td>\n",
              "      <td>B6</td>\n",
              "      <td>1171</td>\n",
              "      <td>N661JB</td>\n",
              "      <td>LGA</td>\n",
              "      <td>FLL</td>\n",
              "      <td>147.0</td>\n",
              "      <td>1076</td>\n",
              "    </tr>\n",
              "    <tr>\n",
              "      <th>2</th>\n",
              "      <td>2013</td>\n",
              "      <td>2</td>\n",
              "      <td>13</td>\n",
              "      <td>1812.0</td>\n",
              "      <td>1815</td>\n",
              "      <td>-3.0</td>\n",
              "      <td>2055.0</td>\n",
              "      <td>2125</td>\n",
              "      <td>-30.0</td>\n",
              "      <td>AS</td>\n",
              "      <td>7</td>\n",
              "      <td>N403AS</td>\n",
              "      <td>EWR</td>\n",
              "      <td>SEA</td>\n",
              "      <td>315.0</td>\n",
              "      <td>2402</td>\n",
              "    </tr>\n",
              "    <tr>\n",
              "      <th>3</th>\n",
              "      <td>2013</td>\n",
              "      <td>4</td>\n",
              "      <td>11</td>\n",
              "      <td>2122.0</td>\n",
              "      <td>2115</td>\n",
              "      <td>7.0</td>\n",
              "      <td>2339.0</td>\n",
              "      <td>2353</td>\n",
              "      <td>-14.0</td>\n",
              "      <td>B6</td>\n",
              "      <td>97</td>\n",
              "      <td>N656JB</td>\n",
              "      <td>JFK</td>\n",
              "      <td>DEN</td>\n",
              "      <td>221.0</td>\n",
              "      <td>1626</td>\n",
              "    </tr>\n",
              "    <tr>\n",
              "      <th>4</th>\n",
              "      <td>2013</td>\n",
              "      <td>8</td>\n",
              "      <td>5</td>\n",
              "      <td>1832.0</td>\n",
              "      <td>1835</td>\n",
              "      <td>-3.0</td>\n",
              "      <td>2145.0</td>\n",
              "      <td>2155</td>\n",
              "      <td>-10.0</td>\n",
              "      <td>AA</td>\n",
              "      <td>269</td>\n",
              "      <td>N3EYAA</td>\n",
              "      <td>JFK</td>\n",
              "      <td>SEA</td>\n",
              "      <td>358.0</td>\n",
              "      <td>2422</td>\n",
              "    </tr>\n",
              "  </tbody>\n",
              "</table>\n",
              "</div>\n",
              "      <button class=\"colab-df-convert\" onclick=\"convertToInteractive('df-0507e199-52a2-4725-b653-e641bb3495b2')\"\n",
              "              title=\"Convert this dataframe to an interactive table.\"\n",
              "              style=\"display:none;\">\n",
              "        \n",
              "  <svg xmlns=\"http://www.w3.org/2000/svg\" height=\"24px\"viewBox=\"0 0 24 24\"\n",
              "       width=\"24px\">\n",
              "    <path d=\"M0 0h24v24H0V0z\" fill=\"none\"/>\n",
              "    <path d=\"M18.56 5.44l.94 2.06.94-2.06 2.06-.94-2.06-.94-.94-2.06-.94 2.06-2.06.94zm-11 1L8.5 8.5l.94-2.06 2.06-.94-2.06-.94L8.5 2.5l-.94 2.06-2.06.94zm10 10l.94 2.06.94-2.06 2.06-.94-2.06-.94-.94-2.06-.94 2.06-2.06.94z\"/><path d=\"M17.41 7.96l-1.37-1.37c-.4-.4-.92-.59-1.43-.59-.52 0-1.04.2-1.43.59L10.3 9.45l-7.72 7.72c-.78.78-.78 2.05 0 2.83L4 21.41c.39.39.9.59 1.41.59.51 0 1.02-.2 1.41-.59l7.78-7.78 2.81-2.81c.8-.78.8-2.07 0-2.86zM5.41 20L4 18.59l7.72-7.72 1.47 1.35L5.41 20z\"/>\n",
              "  </svg>\n",
              "      </button>\n",
              "      \n",
              "  <style>\n",
              "    .colab-df-container {\n",
              "      display:flex;\n",
              "      flex-wrap:wrap;\n",
              "      gap: 12px;\n",
              "    }\n",
              "\n",
              "    .colab-df-convert {\n",
              "      background-color: #E8F0FE;\n",
              "      border: none;\n",
              "      border-radius: 50%;\n",
              "      cursor: pointer;\n",
              "      display: none;\n",
              "      fill: #1967D2;\n",
              "      height: 32px;\n",
              "      padding: 0 0 0 0;\n",
              "      width: 32px;\n",
              "    }\n",
              "\n",
              "    .colab-df-convert:hover {\n",
              "      background-color: #E2EBFA;\n",
              "      box-shadow: 0px 1px 2px rgba(60, 64, 67, 0.3), 0px 1px 3px 1px rgba(60, 64, 67, 0.15);\n",
              "      fill: #174EA6;\n",
              "    }\n",
              "\n",
              "    [theme=dark] .colab-df-convert {\n",
              "      background-color: #3B4455;\n",
              "      fill: #D2E3FC;\n",
              "    }\n",
              "\n",
              "    [theme=dark] .colab-df-convert:hover {\n",
              "      background-color: #434B5C;\n",
              "      box-shadow: 0px 1px 3px 1px rgba(0, 0, 0, 0.15);\n",
              "      filter: drop-shadow(0px 1px 2px rgba(0, 0, 0, 0.3));\n",
              "      fill: #FFFFFF;\n",
              "    }\n",
              "  </style>\n",
              "\n",
              "      <script>\n",
              "        const buttonEl =\n",
              "          document.querySelector('#df-0507e199-52a2-4725-b653-e641bb3495b2 button.colab-df-convert');\n",
              "        buttonEl.style.display =\n",
              "          google.colab.kernel.accessAllowed ? 'block' : 'none';\n",
              "\n",
              "        async function convertToInteractive(key) {\n",
              "          const element = document.querySelector('#df-0507e199-52a2-4725-b653-e641bb3495b2');\n",
              "          const dataTable =\n",
              "            await google.colab.kernel.invokeFunction('convertToInteractive',\n",
              "                                                     [key], {});\n",
              "          if (!dataTable) return;\n",
              "\n",
              "          const docLinkHtml = 'Like what you see? Visit the ' +\n",
              "            '<a target=\"_blank\" href=https://colab.research.google.com/notebooks/data_table.ipynb>data table notebook</a>'\n",
              "            + ' to learn more about interactive tables.';\n",
              "          element.innerHTML = '';\n",
              "          dataTable['output_type'] = 'display_data';\n",
              "          await google.colab.output.renderOutput(dataTable, element);\n",
              "          const docLink = document.createElement('div');\n",
              "          docLink.innerHTML = docLinkHtml;\n",
              "          element.appendChild(docLink);\n",
              "        }\n",
              "      </script>\n",
              "    </div>\n",
              "  </div>\n",
              "  "
            ]
          },
          "metadata": {},
          "execution_count": 79
        }
      ]
    },
    {
      "cell_type": "code",
      "source": [
        "# converting sched_dep_time to 'std' - Scheduled time of departure\n",
        "data['std'] = data.sched_dep_time.astype(str).str.replace('(\\d{2}$)', '') + ':' + data.sched_dep_time.astype(str).str.extract('(\\d{2}$)', expand=False) + ':00'"
      ],
      "metadata": {
        "colab": {
          "base_uri": "https://localhost:8080/"
        },
        "id": "jCYYXgT8N7S0",
        "outputId": "e1eec486-d143-4542-a089-fb0ac96d1f15"
      },
      "execution_count": 80,
      "outputs": [
        {
          "output_type": "stream",
          "name": "stderr",
          "text": [
            "/usr/local/lib/python3.7/dist-packages/ipykernel_launcher.py:2: FutureWarning: The default value of regex will change from True to False in a future version.\n",
            "  \n"
          ]
        }
      ]
    },
    {
      "cell_type": "code",
      "source": [
        "# converting sched_arr_time to 'sta' - Scheduled time of arrival\n",
        "data['sta'] = data.sched_arr_time.astype(str).str.replace('(\\d{2}$)', '') + ':' + data.sched_arr_time.astype(str).str.extract('(\\d{2}$)', expand=False) + ':00'\n",
        "\n",
        "# converting dep_time to 'atd' - Actual time of departure\n",
        "data['atd'] = data.dep_time.fillna(0).astype(np.int64).astype(str).str.replace('(\\d{2}$)', '') + ':' + data.dep_time.fillna(0).astype(np.int64).astype(str).str.extract('(\\d{2}$)', expand=False) + ':00'"
      ],
      "metadata": {
        "colab": {
          "base_uri": "https://localhost:8080/"
        },
        "id": "DeipRpckSfQj",
        "outputId": "c7e05314-47e3-4152-b62c-3709b4ffd6e4"
      },
      "execution_count": 81,
      "outputs": [
        {
          "output_type": "stream",
          "name": "stderr",
          "text": [
            "/usr/local/lib/python3.7/dist-packages/ipykernel_launcher.py:2: FutureWarning: The default value of regex will change from True to False in a future version.\n",
            "  \n",
            "/usr/local/lib/python3.7/dist-packages/ipykernel_launcher.py:5: FutureWarning: The default value of regex will change from True to False in a future version.\n",
            "  \"\"\"\n"
          ]
        }
      ]
    },
    {
      "cell_type": "code",
      "source": [
        "# converting arr_time to 'ata' - Actual time of arrival\n",
        "data['ata'] = data.arr_time.fillna(0).astype(np.int64).astype(str).str.replace('(\\d{2}$)', '') + ':' + data.arr_time.fillna(0).astype(np.int64).astype(str).str.extract('(\\d{2}$)', expand=False) + ':00'"
      ],
      "metadata": {
        "colab": {
          "base_uri": "https://localhost:8080/"
        },
        "id": "VUuXHskqSgRS",
        "outputId": "4e1d6fb1-9bb3-4256-9d69-182c09794985"
      },
      "execution_count": 82,
      "outputs": [
        {
          "output_type": "stream",
          "name": "stderr",
          "text": [
            "/usr/local/lib/python3.7/dist-packages/ipykernel_launcher.py:2: FutureWarning: The default value of regex will change from True to False in a future version.\n",
            "  \n"
          ]
        }
      ]
    },
    {
      "cell_type": "code",
      "source": [
        "data['date'] = pd.to_datetime(data[['year', 'month', 'day']])"
      ],
      "metadata": {
        "id": "HzYKpo1TSgI2"
      },
      "execution_count": 83,
      "outputs": []
    },
    {
      "cell_type": "code",
      "source": [
        "data.head()"
      ],
      "metadata": {
        "colab": {
          "base_uri": "https://localhost:8080/",
          "height": 236
        },
        "id": "RJBcGVq6WgUL",
        "outputId": "21041fbc-b997-41e4-fa98-c6bd6be92f3b"
      },
      "execution_count": 84,
      "outputs": [
        {
          "output_type": "execute_result",
          "data": {
            "text/plain": [
              "   year  month  day  dep_time  sched_dep_time  dep_delay  arr_time  \\\n",
              "0  2013      2   26    1807.0            1630       97.0    1956.0   \n",
              "1  2013      8   17    1459.0            1445       14.0    1801.0   \n",
              "2  2013      2   13    1812.0            1815       -3.0    2055.0   \n",
              "3  2013      4   11    2122.0            2115        7.0    2339.0   \n",
              "4  2013      8    5    1832.0            1835       -3.0    2145.0   \n",
              "\n",
              "   sched_arr_time  arr_delay carrier  ...  tailnum origin dest air_time  \\\n",
              "0            1837       79.0      EV  ...   N13566    EWR  MEM    144.0   \n",
              "1            1747       14.0      B6  ...   N661JB    LGA  FLL    147.0   \n",
              "2            2125      -30.0      AS  ...   N403AS    EWR  SEA    315.0   \n",
              "3            2353      -14.0      B6  ...   N656JB    JFK  DEN    221.0   \n",
              "4            2155      -10.0      AA  ...   N3EYAA    JFK  SEA    358.0   \n",
              "\n",
              "   distance       std       sta       atd       ata       date  \n",
              "0       946  16:30:00  18:37:00  18:07:00  19:56:00 2013-02-26  \n",
              "1      1076  14:45:00  17:47:00  14:59:00  18:01:00 2013-08-17  \n",
              "2      2402  18:15:00  21:25:00  18:12:00  20:55:00 2013-02-13  \n",
              "3      1626  21:15:00  23:53:00  21:22:00  23:39:00 2013-04-11  \n",
              "4      2422  18:35:00  21:55:00  18:32:00  21:45:00 2013-08-05  \n",
              "\n",
              "[5 rows x 21 columns]"
            ],
            "text/html": [
              "\n",
              "  <div id=\"df-d0efb59b-8981-4166-b5f4-7a96e9e0115f\">\n",
              "    <div class=\"colab-df-container\">\n",
              "      <div>\n",
              "<style scoped>\n",
              "    .dataframe tbody tr th:only-of-type {\n",
              "        vertical-align: middle;\n",
              "    }\n",
              "\n",
              "    .dataframe tbody tr th {\n",
              "        vertical-align: top;\n",
              "    }\n",
              "\n",
              "    .dataframe thead th {\n",
              "        text-align: right;\n",
              "    }\n",
              "</style>\n",
              "<table border=\"1\" class=\"dataframe\">\n",
              "  <thead>\n",
              "    <tr style=\"text-align: right;\">\n",
              "      <th></th>\n",
              "      <th>year</th>\n",
              "      <th>month</th>\n",
              "      <th>day</th>\n",
              "      <th>dep_time</th>\n",
              "      <th>sched_dep_time</th>\n",
              "      <th>dep_delay</th>\n",
              "      <th>arr_time</th>\n",
              "      <th>sched_arr_time</th>\n",
              "      <th>arr_delay</th>\n",
              "      <th>carrier</th>\n",
              "      <th>...</th>\n",
              "      <th>tailnum</th>\n",
              "      <th>origin</th>\n",
              "      <th>dest</th>\n",
              "      <th>air_time</th>\n",
              "      <th>distance</th>\n",
              "      <th>std</th>\n",
              "      <th>sta</th>\n",
              "      <th>atd</th>\n",
              "      <th>ata</th>\n",
              "      <th>date</th>\n",
              "    </tr>\n",
              "  </thead>\n",
              "  <tbody>\n",
              "    <tr>\n",
              "      <th>0</th>\n",
              "      <td>2013</td>\n",
              "      <td>2</td>\n",
              "      <td>26</td>\n",
              "      <td>1807.0</td>\n",
              "      <td>1630</td>\n",
              "      <td>97.0</td>\n",
              "      <td>1956.0</td>\n",
              "      <td>1837</td>\n",
              "      <td>79.0</td>\n",
              "      <td>EV</td>\n",
              "      <td>...</td>\n",
              "      <td>N13566</td>\n",
              "      <td>EWR</td>\n",
              "      <td>MEM</td>\n",
              "      <td>144.0</td>\n",
              "      <td>946</td>\n",
              "      <td>16:30:00</td>\n",
              "      <td>18:37:00</td>\n",
              "      <td>18:07:00</td>\n",
              "      <td>19:56:00</td>\n",
              "      <td>2013-02-26</td>\n",
              "    </tr>\n",
              "    <tr>\n",
              "      <th>1</th>\n",
              "      <td>2013</td>\n",
              "      <td>8</td>\n",
              "      <td>17</td>\n",
              "      <td>1459.0</td>\n",
              "      <td>1445</td>\n",
              "      <td>14.0</td>\n",
              "      <td>1801.0</td>\n",
              "      <td>1747</td>\n",
              "      <td>14.0</td>\n",
              "      <td>B6</td>\n",
              "      <td>...</td>\n",
              "      <td>N661JB</td>\n",
              "      <td>LGA</td>\n",
              "      <td>FLL</td>\n",
              "      <td>147.0</td>\n",
              "      <td>1076</td>\n",
              "      <td>14:45:00</td>\n",
              "      <td>17:47:00</td>\n",
              "      <td>14:59:00</td>\n",
              "      <td>18:01:00</td>\n",
              "      <td>2013-08-17</td>\n",
              "    </tr>\n",
              "    <tr>\n",
              "      <th>2</th>\n",
              "      <td>2013</td>\n",
              "      <td>2</td>\n",
              "      <td>13</td>\n",
              "      <td>1812.0</td>\n",
              "      <td>1815</td>\n",
              "      <td>-3.0</td>\n",
              "      <td>2055.0</td>\n",
              "      <td>2125</td>\n",
              "      <td>-30.0</td>\n",
              "      <td>AS</td>\n",
              "      <td>...</td>\n",
              "      <td>N403AS</td>\n",
              "      <td>EWR</td>\n",
              "      <td>SEA</td>\n",
              "      <td>315.0</td>\n",
              "      <td>2402</td>\n",
              "      <td>18:15:00</td>\n",
              "      <td>21:25:00</td>\n",
              "      <td>18:12:00</td>\n",
              "      <td>20:55:00</td>\n",
              "      <td>2013-02-13</td>\n",
              "    </tr>\n",
              "    <tr>\n",
              "      <th>3</th>\n",
              "      <td>2013</td>\n",
              "      <td>4</td>\n",
              "      <td>11</td>\n",
              "      <td>2122.0</td>\n",
              "      <td>2115</td>\n",
              "      <td>7.0</td>\n",
              "      <td>2339.0</td>\n",
              "      <td>2353</td>\n",
              "      <td>-14.0</td>\n",
              "      <td>B6</td>\n",
              "      <td>...</td>\n",
              "      <td>N656JB</td>\n",
              "      <td>JFK</td>\n",
              "      <td>DEN</td>\n",
              "      <td>221.0</td>\n",
              "      <td>1626</td>\n",
              "      <td>21:15:00</td>\n",
              "      <td>23:53:00</td>\n",
              "      <td>21:22:00</td>\n",
              "      <td>23:39:00</td>\n",
              "      <td>2013-04-11</td>\n",
              "    </tr>\n",
              "    <tr>\n",
              "      <th>4</th>\n",
              "      <td>2013</td>\n",
              "      <td>8</td>\n",
              "      <td>5</td>\n",
              "      <td>1832.0</td>\n",
              "      <td>1835</td>\n",
              "      <td>-3.0</td>\n",
              "      <td>2145.0</td>\n",
              "      <td>2155</td>\n",
              "      <td>-10.0</td>\n",
              "      <td>AA</td>\n",
              "      <td>...</td>\n",
              "      <td>N3EYAA</td>\n",
              "      <td>JFK</td>\n",
              "      <td>SEA</td>\n",
              "      <td>358.0</td>\n",
              "      <td>2422</td>\n",
              "      <td>18:35:00</td>\n",
              "      <td>21:55:00</td>\n",
              "      <td>18:32:00</td>\n",
              "      <td>21:45:00</td>\n",
              "      <td>2013-08-05</td>\n",
              "    </tr>\n",
              "  </tbody>\n",
              "</table>\n",
              "<p>5 rows × 21 columns</p>\n",
              "</div>\n",
              "      <button class=\"colab-df-convert\" onclick=\"convertToInteractive('df-d0efb59b-8981-4166-b5f4-7a96e9e0115f')\"\n",
              "              title=\"Convert this dataframe to an interactive table.\"\n",
              "              style=\"display:none;\">\n",
              "        \n",
              "  <svg xmlns=\"http://www.w3.org/2000/svg\" height=\"24px\"viewBox=\"0 0 24 24\"\n",
              "       width=\"24px\">\n",
              "    <path d=\"M0 0h24v24H0V0z\" fill=\"none\"/>\n",
              "    <path d=\"M18.56 5.44l.94 2.06.94-2.06 2.06-.94-2.06-.94-.94-2.06-.94 2.06-2.06.94zm-11 1L8.5 8.5l.94-2.06 2.06-.94-2.06-.94L8.5 2.5l-.94 2.06-2.06.94zm10 10l.94 2.06.94-2.06 2.06-.94-2.06-.94-.94-2.06-.94 2.06-2.06.94z\"/><path d=\"M17.41 7.96l-1.37-1.37c-.4-.4-.92-.59-1.43-.59-.52 0-1.04.2-1.43.59L10.3 9.45l-7.72 7.72c-.78.78-.78 2.05 0 2.83L4 21.41c.39.39.9.59 1.41.59.51 0 1.02-.2 1.41-.59l7.78-7.78 2.81-2.81c.8-.78.8-2.07 0-2.86zM5.41 20L4 18.59l7.72-7.72 1.47 1.35L5.41 20z\"/>\n",
              "  </svg>\n",
              "      </button>\n",
              "      \n",
              "  <style>\n",
              "    .colab-df-container {\n",
              "      display:flex;\n",
              "      flex-wrap:wrap;\n",
              "      gap: 12px;\n",
              "    }\n",
              "\n",
              "    .colab-df-convert {\n",
              "      background-color: #E8F0FE;\n",
              "      border: none;\n",
              "      border-radius: 50%;\n",
              "      cursor: pointer;\n",
              "      display: none;\n",
              "      fill: #1967D2;\n",
              "      height: 32px;\n",
              "      padding: 0 0 0 0;\n",
              "      width: 32px;\n",
              "    }\n",
              "\n",
              "    .colab-df-convert:hover {\n",
              "      background-color: #E2EBFA;\n",
              "      box-shadow: 0px 1px 2px rgba(60, 64, 67, 0.3), 0px 1px 3px 1px rgba(60, 64, 67, 0.15);\n",
              "      fill: #174EA6;\n",
              "    }\n",
              "\n",
              "    [theme=dark] .colab-df-convert {\n",
              "      background-color: #3B4455;\n",
              "      fill: #D2E3FC;\n",
              "    }\n",
              "\n",
              "    [theme=dark] .colab-df-convert:hover {\n",
              "      background-color: #434B5C;\n",
              "      box-shadow: 0px 1px 3px 1px rgba(0, 0, 0, 0.15);\n",
              "      filter: drop-shadow(0px 1px 2px rgba(0, 0, 0, 0.3));\n",
              "      fill: #FFFFFF;\n",
              "    }\n",
              "  </style>\n",
              "\n",
              "      <script>\n",
              "        const buttonEl =\n",
              "          document.querySelector('#df-d0efb59b-8981-4166-b5f4-7a96e9e0115f button.colab-df-convert');\n",
              "        buttonEl.style.display =\n",
              "          google.colab.kernel.accessAllowed ? 'block' : 'none';\n",
              "\n",
              "        async function convertToInteractive(key) {\n",
              "          const element = document.querySelector('#df-d0efb59b-8981-4166-b5f4-7a96e9e0115f');\n",
              "          const dataTable =\n",
              "            await google.colab.kernel.invokeFunction('convertToInteractive',\n",
              "                                                     [key], {});\n",
              "          if (!dataTable) return;\n",
              "\n",
              "          const docLinkHtml = 'Like what you see? Visit the ' +\n",
              "            '<a target=\"_blank\" href=https://colab.research.google.com/notebooks/data_table.ipynb>data table notebook</a>'\n",
              "            + ' to learn more about interactive tables.';\n",
              "          element.innerHTML = '';\n",
              "          dataTable['output_type'] = 'display_data';\n",
              "          await google.colab.output.renderOutput(dataTable, element);\n",
              "          const docLink = document.createElement('div');\n",
              "          docLink.innerHTML = docLinkHtml;\n",
              "          element.appendChild(docLink);\n",
              "        }\n",
              "      </script>\n",
              "    </div>\n",
              "  </div>\n",
              "  "
            ]
          },
          "metadata": {},
          "execution_count": 84
        }
      ]
    },
    {
      "cell_type": "code",
      "source": [
        "FG = nx.from_pandas_edgelist(data, source='origin', target='dest', edge_attr=True,)"
      ],
      "metadata": {
        "id": "60rzRE44Svzs"
      },
      "execution_count": 50,
      "outputs": []
    },
    {
      "cell_type": "code",
      "source": [
        "FG.nodes()"
      ],
      "metadata": {
        "colab": {
          "base_uri": "https://localhost:8080/"
        },
        "id": "6AdZxsYnSvtx",
        "outputId": "f850defb-00fc-408f-dfb3-404e769dba75"
      },
      "execution_count": 51,
      "outputs": [
        {
          "output_type": "execute_result",
          "data": {
            "text/plain": [
              "NodeView(('EWR', 'MEM', 'LGA', 'FLL', 'SEA', 'JFK', 'DEN', 'ORD', 'MIA', 'PBI', 'MCO', 'CMH', 'MSP', 'IAD', 'CLT', 'TPA', 'DCA', 'SJU', 'ATL', 'BHM', 'SRQ', 'MSY', 'DTW', 'LAX', 'JAX', 'RDU', 'MDW', 'DFW', 'IAH', 'SFO', 'STL', 'CVG', 'IND', 'RSW', 'BOS', 'CLE'))"
            ]
          },
          "metadata": {},
          "execution_count": 51
        }
      ]
    },
    {
      "cell_type": "code",
      "source": [
        "nx.draw_networkx(FG, with_labels=True) # Quick view of the Graph. As expected we see 3 very busy airports"
      ],
      "metadata": {
        "colab": {
          "base_uri": "https://localhost:8080/",
          "height": 411
        },
        "id": "zOB5qokOSvqq",
        "outputId": "d5086680-8698-4025-d6bc-6df45726f5f7"
      },
      "execution_count": 86,
      "outputs": [
        {
          "output_type": "display_data",
          "data": {
            "text/plain": [
              "<Figure size 720x504 with 1 Axes>"
            ],
            "image/png": "[encoded data removed]"
          },
          "metadata": {}
        }
      ]
    },
    {
      "cell_type": "code",
      "source": [
        "nx.algorithms.degree_centrality(FG) # Notice the 3 airports from which all of our 100 rows of data originates\n",
        "nx.density(FG) # Average edge density of the Graphs"
      ],
      "metadata": {
        "colab": {
          "base_uri": "https://localhost:8080/"
        },
        "id": "QHMwnoEaS7_y",
        "outputId": "702cedc2-7e96-48f5-95cf-a062ab982eb5"
      },
      "execution_count": 53,
      "outputs": [
        {
          "output_type": "execute_result",
          "data": {
            "text/plain": [
              "0.09047619047619047"
            ]
          },
          "metadata": {},
          "execution_count": 53
        }
      ]
    },
    {
      "cell_type": "code",
      "source": [
        "nx.average_shortest_path_length(FG) # Average shortest path length for ALL paths in the Graph"
      ],
      "metadata": {
        "colab": {
          "base_uri": "https://localhost:8080/"
        },
        "id": "dRVDNsWKS78n",
        "outputId": "5e1a63af-f6f6-4c98-b0e8-aae2513e5e00"
      },
      "execution_count": 54,
      "outputs": [
        {
          "output_type": "execute_result",
          "data": {
            "text/plain": [
              "2.36984126984127"
            ]
          },
          "metadata": {},
          "execution_count": 54
        }
      ]
    },
    {
      "cell_type": "code",
      "source": [
        "nx.average_degree_connectivity(FG) # For a node of degree k - What is the average of its neighbours' degree?"
      ],
      "metadata": {
        "colab": {
          "base_uri": "https://localhost:8080/"
        },
        "id": "gTzaMuqMS75Y",
        "outputId": "7d1f2bf0-e2cc-47e5-c286-71f77038284e"
      },
      "execution_count": 55,
      "outputs": [
        {
          "output_type": "execute_result",
          "data": {
            "text/plain": [
              "{1: 19.307692307692307, 2: 19.0625, 3: 19.0, 17: 2.0588235294117645, 20: 1.95}"
            ]
          },
          "metadata": {},
          "execution_count": 55
        }
      ]
    },
    {
      "cell_type": "code",
      "source": [
        "# Let us find all the paths available\n",
        "for path in nx.all_simple_paths(FG, source='JAX', target='DFW'):\n",
        " print(path)"
      ],
      "metadata": {
        "colab": {
          "base_uri": "https://localhost:8080/"
        },
        "id": "8o7XhiFVS72V",
        "outputId": "cd0bdc59-101e-42cc-e213-38423c1d5b3d"
      },
      "execution_count": 56,
      "outputs": [
        {
          "output_type": "stream",
          "name": "stdout",
          "text": [
            "['JAX', 'JFK', 'DEN', 'LGA', 'ORD', 'EWR', 'DFW']\n",
            "['JAX', 'JFK', 'DEN', 'LGA', 'PBI', 'EWR', 'DFW']\n",
            "['JAX', 'JFK', 'DEN', 'LGA', 'IAD', 'EWR', 'DFW']\n",
            "['JAX', 'JFK', 'DEN', 'LGA', 'MIA', 'EWR', 'DFW']\n",
            "['JAX', 'JFK', 'DEN', 'LGA', 'RDU', 'EWR', 'DFW']\n",
            "['JAX', 'JFK', 'DEN', 'LGA', 'TPA', 'EWR', 'DFW']\n",
            "['JAX', 'JFK', 'DEN', 'LGA', 'MSP', 'EWR', 'DFW']\n",
            "['JAX', 'JFK', 'DEN', 'LGA', 'MCO', 'EWR', 'DFW']\n",
            "['JAX', 'JFK', 'DEN', 'LGA', 'CVG', 'EWR', 'DFW']\n",
            "['JAX', 'JFK', 'DEN', 'LGA', 'IAH', 'EWR', 'DFW']\n",
            "['JAX', 'JFK', 'SEA', 'EWR', 'DFW']\n",
            "['JAX', 'JFK', 'MCO', 'LGA', 'ORD', 'EWR', 'DFW']\n",
            "['JAX', 'JFK', 'MCO', 'LGA', 'PBI', 'EWR', 'DFW']\n",
            "['JAX', 'JFK', 'MCO', 'LGA', 'IAD', 'EWR', 'DFW']\n",
            "['JAX', 'JFK', 'MCO', 'LGA', 'MIA', 'EWR', 'DFW']\n",
            "['JAX', 'JFK', 'MCO', 'LGA', 'RDU', 'EWR', 'DFW']\n",
            "['JAX', 'JFK', 'MCO', 'LGA', 'TPA', 'EWR', 'DFW']\n",
            "['JAX', 'JFK', 'MCO', 'LGA', 'MSP', 'EWR', 'DFW']\n",
            "['JAX', 'JFK', 'MCO', 'LGA', 'CVG', 'EWR', 'DFW']\n",
            "['JAX', 'JFK', 'MCO', 'LGA', 'IAH', 'EWR', 'DFW']\n",
            "['JAX', 'JFK', 'MCO', 'EWR', 'DFW']\n",
            "['JAX', 'JFK', 'TPA', 'EWR', 'DFW']\n",
            "['JAX', 'JFK', 'TPA', 'LGA', 'ORD', 'EWR', 'DFW']\n",
            "['JAX', 'JFK', 'TPA', 'LGA', 'PBI', 'EWR', 'DFW']\n",
            "['JAX', 'JFK', 'TPA', 'LGA', 'IAD', 'EWR', 'DFW']\n",
            "['JAX', 'JFK', 'TPA', 'LGA', 'MIA', 'EWR', 'DFW']\n",
            "['JAX', 'JFK', 'TPA', 'LGA', 'RDU', 'EWR', 'DFW']\n",
            "['JAX', 'JFK', 'TPA', 'LGA', 'MSP', 'EWR', 'DFW']\n",
            "['JAX', 'JFK', 'TPA', 'LGA', 'MCO', 'EWR', 'DFW']\n",
            "['JAX', 'JFK', 'TPA', 'LGA', 'CVG', 'EWR', 'DFW']\n",
            "['JAX', 'JFK', 'TPA', 'LGA', 'IAH', 'EWR', 'DFW']\n",
            "['JAX', 'JFK', 'SJU', 'EWR', 'DFW']\n",
            "['JAX', 'JFK', 'ATL', 'LGA', 'ORD', 'EWR', 'DFW']\n",
            "['JAX', 'JFK', 'ATL', 'LGA', 'PBI', 'EWR', 'DFW']\n",
            "['JAX', 'JFK', 'ATL', 'LGA', 'IAD', 'EWR', 'DFW']\n",
            "['JAX', 'JFK', 'ATL', 'LGA', 'MIA', 'EWR', 'DFW']\n",
            "['JAX', 'JFK', 'ATL', 'LGA', 'RDU', 'EWR', 'DFW']\n",
            "['JAX', 'JFK', 'ATL', 'LGA', 'TPA', 'EWR', 'DFW']\n",
            "['JAX', 'JFK', 'ATL', 'LGA', 'MSP', 'EWR', 'DFW']\n",
            "['JAX', 'JFK', 'ATL', 'LGA', 'MCO', 'EWR', 'DFW']\n",
            "['JAX', 'JFK', 'ATL', 'LGA', 'CVG', 'EWR', 'DFW']\n",
            "['JAX', 'JFK', 'ATL', 'LGA', 'IAH', 'EWR', 'DFW']\n",
            "['JAX', 'JFK', 'DCA', 'LGA', 'ORD', 'EWR', 'DFW']\n",
            "['JAX', 'JFK', 'DCA', 'LGA', 'PBI', 'EWR', 'DFW']\n",
            "['JAX', 'JFK', 'DCA', 'LGA', 'IAD', 'EWR', 'DFW']\n",
            "['JAX', 'JFK', 'DCA', 'LGA', 'MIA', 'EWR', 'DFW']\n",
            "['JAX', 'JFK', 'DCA', 'LGA', 'RDU', 'EWR', 'DFW']\n",
            "['JAX', 'JFK', 'DCA', 'LGA', 'TPA', 'EWR', 'DFW']\n",
            "['JAX', 'JFK', 'DCA', 'LGA', 'MSP', 'EWR', 'DFW']\n",
            "['JAX', 'JFK', 'DCA', 'LGA', 'MCO', 'EWR', 'DFW']\n",
            "['JAX', 'JFK', 'DCA', 'LGA', 'CVG', 'EWR', 'DFW']\n",
            "['JAX', 'JFK', 'DCA', 'LGA', 'IAH', 'EWR', 'DFW']\n",
            "['JAX', 'JFK', 'DTW', 'LGA', 'ORD', 'EWR', 'DFW']\n",
            "['JAX', 'JFK', 'DTW', 'LGA', 'PBI', 'EWR', 'DFW']\n",
            "['JAX', 'JFK', 'DTW', 'LGA', 'IAD', 'EWR', 'DFW']\n",
            "['JAX', 'JFK', 'DTW', 'LGA', 'MIA', 'EWR', 'DFW']\n",
            "['JAX', 'JFK', 'DTW', 'LGA', 'RDU', 'EWR', 'DFW']\n",
            "['JAX', 'JFK', 'DTW', 'LGA', 'TPA', 'EWR', 'DFW']\n",
            "['JAX', 'JFK', 'DTW', 'LGA', 'MSP', 'EWR', 'DFW']\n",
            "['JAX', 'JFK', 'DTW', 'LGA', 'MCO', 'EWR', 'DFW']\n",
            "['JAX', 'JFK', 'DTW', 'LGA', 'CVG', 'EWR', 'DFW']\n",
            "['JAX', 'JFK', 'DTW', 'LGA', 'IAH', 'EWR', 'DFW']\n",
            "['JAX', 'JFK', 'LAX', 'EWR', 'DFW']\n",
            "['JAX', 'JFK', 'FLL', 'LGA', 'ORD', 'EWR', 'DFW']\n",
            "['JAX', 'JFK', 'FLL', 'LGA', 'PBI', 'EWR', 'DFW']\n",
            "['JAX', 'JFK', 'FLL', 'LGA', 'IAD', 'EWR', 'DFW']\n",
            "['JAX', 'JFK', 'FLL', 'LGA', 'MIA', 'EWR', 'DFW']\n",
            "['JAX', 'JFK', 'FLL', 'LGA', 'RDU', 'EWR', 'DFW']\n",
            "['JAX', 'JFK', 'FLL', 'LGA', 'TPA', 'EWR', 'DFW']\n",
            "['JAX', 'JFK', 'FLL', 'LGA', 'MSP', 'EWR', 'DFW']\n",
            "['JAX', 'JFK', 'FLL', 'LGA', 'MCO', 'EWR', 'DFW']\n",
            "['JAX', 'JFK', 'FLL', 'LGA', 'CVG', 'EWR', 'DFW']\n",
            "['JAX', 'JFK', 'FLL', 'LGA', 'IAH', 'EWR', 'DFW']\n",
            "['JAX', 'JFK', 'CLT', 'LGA', 'ORD', 'EWR', 'DFW']\n",
            "['JAX', 'JFK', 'CLT', 'LGA', 'PBI', 'EWR', 'DFW']\n",
            "['JAX', 'JFK', 'CLT', 'LGA', 'IAD', 'EWR', 'DFW']\n",
            "['JAX', 'JFK', 'CLT', 'LGA', 'MIA', 'EWR', 'DFW']\n",
            "['JAX', 'JFK', 'CLT', 'LGA', 'RDU', 'EWR', 'DFW']\n",
            "['JAX', 'JFK', 'CLT', 'LGA', 'TPA', 'EWR', 'DFW']\n",
            "['JAX', 'JFK', 'CLT', 'LGA', 'MSP', 'EWR', 'DFW']\n",
            "['JAX', 'JFK', 'CLT', 'LGA', 'MCO', 'EWR', 'DFW']\n",
            "['JAX', 'JFK', 'CLT', 'LGA', 'CVG', 'EWR', 'DFW']\n",
            "['JAX', 'JFK', 'CLT', 'LGA', 'IAH', 'EWR', 'DFW']\n",
            "['JAX', 'JFK', 'PBI', 'LGA', 'ORD', 'EWR', 'DFW']\n",
            "['JAX', 'JFK', 'PBI', 'LGA', 'IAD', 'EWR', 'DFW']\n",
            "['JAX', 'JFK', 'PBI', 'LGA', 'MIA', 'EWR', 'DFW']\n",
            "['JAX', 'JFK', 'PBI', 'LGA', 'RDU', 'EWR', 'DFW']\n",
            "['JAX', 'JFK', 'PBI', 'LGA', 'TPA', 'EWR', 'DFW']\n",
            "['JAX', 'JFK', 'PBI', 'LGA', 'MSP', 'EWR', 'DFW']\n",
            "['JAX', 'JFK', 'PBI', 'LGA', 'MCO', 'EWR', 'DFW']\n",
            "['JAX', 'JFK', 'PBI', 'LGA', 'CVG', 'EWR', 'DFW']\n",
            "['JAX', 'JFK', 'PBI', 'LGA', 'IAH', 'EWR', 'DFW']\n",
            "['JAX', 'JFK', 'PBI', 'EWR', 'DFW']\n",
            "['JAX', 'JFK', 'IAD', 'LGA', 'ORD', 'EWR', 'DFW']\n",
            "['JAX', 'JFK', 'IAD', 'LGA', 'PBI', 'EWR', 'DFW']\n",
            "['JAX', 'JFK', 'IAD', 'LGA', 'MIA', 'EWR', 'DFW']\n",
            "['JAX', 'JFK', 'IAD', 'LGA', 'RDU', 'EWR', 'DFW']\n",
            "['JAX', 'JFK', 'IAD', 'LGA', 'TPA', 'EWR', 'DFW']\n",
            "['JAX', 'JFK', 'IAD', 'LGA', 'MSP', 'EWR', 'DFW']\n",
            "['JAX', 'JFK', 'IAD', 'LGA', 'MCO', 'EWR', 'DFW']\n",
            "['JAX', 'JFK', 'IAD', 'LGA', 'CVG', 'EWR', 'DFW']\n",
            "['JAX', 'JFK', 'IAD', 'LGA', 'IAH', 'EWR', 'DFW']\n",
            "['JAX', 'JFK', 'IAD', 'EWR', 'DFW']\n",
            "['JAX', 'JFK', 'BOS', 'EWR', 'DFW']\n"
          ]
        }
      ]
    },
    {
      "cell_type": "code",
      "source": [
        "# Let us find the dijkstra path from JAX to DFW.\n",
        "# You can read more in-depth on how dijkstra works from this resource - https://courses.csail.mit.edu/6.006/fall11/lectures/lecture16.pdf\n",
        "dijpath = nx.dijkstra_path(FG, source='JAX', target='DFW')\n",
        "dijpath"
      ],
      "metadata": {
        "colab": {
          "base_uri": "https://localhost:8080/"
        },
        "id": "cMTBiBIKTRot",
        "outputId": "2fb8a114-5283-498c-d0ed-f10ce8a6d6a7"
      },
      "execution_count": 57,
      "outputs": [
        {
          "output_type": "execute_result",
          "data": {
            "text/plain": [
              "['JAX', 'JFK', 'SEA', 'EWR', 'DFW']"
            ]
          },
          "metadata": {},
          "execution_count": 57
        }
      ]
    },
    {
      "cell_type": "code",
      "source": [
        "# Let us try to find the dijkstra path weighted by airtime (approximate case)\n",
        "shortpath = nx.dijkstra_path(FG, source='JAX', target='DFW', weight='air_time')\n",
        "shortpath"
      ],
      "metadata": {
        "colab": {
          "base_uri": "https://localhost:8080/"
        },
        "id": "lODNE7SwTWLd",
        "outputId": "b2e3cf81-62f4-42c2-de08-a731fb1cf31e"
      },
      "execution_count": 58,
      "outputs": [
        {
          "output_type": "execute_result",
          "data": {
            "text/plain": [
              "['JAX', 'JFK', 'BOS', 'EWR', 'DFW']"
            ]
          },
          "metadata": {},
          "execution_count": 58
        }
      ]
    },
    {
      "cell_type": "code",
      "source": [
        ""
      ],
      "metadata": {
        "id": "ERvtCXsWTWIf"
      },
      "execution_count": null,
      "outputs": []
    }
  ]
}