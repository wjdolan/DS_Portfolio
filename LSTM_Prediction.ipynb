{
  "nbformat": 4,
  "nbformat_minor": 0,
  "metadata": {
    "colab": {
      "name": "LSTM_Prediction.ipynb",
      "provenance": [],
      "authorship_tag": "ABX9TyOWFKruAtIBReoNOUoKC1Bn",
      "include_colab_link": true
    },
    "kernelspec": {
      "name": "python3",
      "display_name": "Python 3"
    },
    "language_info": {
      "name": "python"
    }
  },
  "cells": [
    {
      "cell_type": "markdown",
      "metadata": {
        "id": "view-in-github",
        "colab_type": "text"
      },
      "source": [
        "<a href=\"https://colab.research.google.com/github/wjdolan/DS_Portfolio/blob/main/LSTM_Prediction.ipynb\" target=\"_parent\"><img src=\"https://colab.research.google.com/assets/colab-badge.svg\" alt=\"Open In Colab\"/></a>"
      ]
    },
    {
      "cell_type": "markdown",
      "source": [
        "# Predict Stock Price with Keras LSTM model"
      ],
      "metadata": {
        "id": "6-Va9nsnWCjx"
      }
    },
    {
      "cell_type": "code",
      "execution_count": 8,
      "metadata": {
        "id": "wKYVUwQZWCAt"
      },
      "outputs": [],
      "source": [
        "import numpy as np\n",
        "import matplotlib.pyplot as plt\n",
        "import pandas as pd\n",
        "\n",
        "from keras.models import Sequential\n",
        "from keras.layers import Dense\n",
        "from keras.layers import LSTM\n",
        "from keras.layers import Dropout"
      ]
    },
    {
      "cell_type": "code",
      "source": [
        "dataset_train = pd.read_csv('https://raw.githubusercontent.com/mwitiderrick/stockprice/master/NSE-TATAGLOBAL.csv', parse_dates=['Date'])\n",
        "training_set = dataset_train.iloc[:, 1:2].values\n",
        "\n",
        "# test csv\n",
        "\n",
        "test_URL = 'https://raw.githubusercontent.com/mwitiderrick/stockprice/master/tatatest.csv'"
      ],
      "metadata": {
        "id": "l8s_nyE0WQGm"
      },
      "execution_count": 4,
      "outputs": []
    },
    {
      "cell_type": "code",
      "source": [
        "dataset_train.head()"
      ],
      "metadata": {
        "colab": {
          "base_uri": "https://localhost:8080/",
          "height": 206
        },
        "id": "nKf79U7jWQJv",
        "outputId": "7e3a5d4d-9abe-4e1b-8bee-e7292fc50fe0"
      },
      "execution_count": 5,
      "outputs": [
        {
          "output_type": "execute_result",
          "data": {
            "text/plain": [
              "        Date    Open    High     Low    Last   Close  Total Trade Quantity  \\\n",
              "0 2018-09-28  234.05  235.95  230.20  233.50  233.75               3069914   \n",
              "1 2018-09-27  234.55  236.80  231.10  233.80  233.25               5082859   \n",
              "2 2018-09-26  240.00  240.00  232.50  235.00  234.25               2240909   \n",
              "3 2018-09-25  233.30  236.75  232.00  236.25  236.10               2349368   \n",
              "4 2018-09-24  233.55  239.20  230.75  234.00  233.30               3423509   \n",
              "\n",
              "   Turnover (Lacs)  \n",
              "0          7162.35  \n",
              "1         11859.95  \n",
              "2          5248.60  \n",
              "3          5503.90  \n",
              "4          7999.55  "
            ],
            "text/html": [
              "\n",
              "  <div id=\"df-a5d93f5f-fe92-4cad-96dd-26d78a01bed4\">\n",
              "    <div class=\"colab-df-container\">\n",
              "      <div>\n",
              "<style scoped>\n",
              "    .dataframe tbody tr th:only-of-type {\n",
              "        vertical-align: middle;\n",
              "    }\n",
              "\n",
              "    .dataframe tbody tr th {\n",
              "        vertical-align: top;\n",
              "    }\n",
              "\n",
              "    .dataframe thead th {\n",
              "        text-align: right;\n",
              "    }\n",
              "</style>\n",
              "<table border=\"1\" class=\"dataframe\">\n",
              "  <thead>\n",
              "    <tr style=\"text-align: right;\">\n",
              "      <th></th>\n",
              "      <th>Date</th>\n",
              "      <th>Open</th>\n",
              "      <th>High</th>\n",
              "      <th>Low</th>\n",
              "      <th>Last</th>\n",
              "      <th>Close</th>\n",
              "      <th>Total Trade Quantity</th>\n",
              "      <th>Turnover (Lacs)</th>\n",
              "    </tr>\n",
              "  </thead>\n",
              "  <tbody>\n",
              "    <tr>\n",
              "      <th>0</th>\n",
              "      <td>2018-09-28</td>\n",
              "      <td>234.05</td>\n",
              "      <td>235.95</td>\n",
              "      <td>230.20</td>\n",
              "      <td>233.50</td>\n",
              "      <td>233.75</td>\n",
              "      <td>3069914</td>\n",
              "      <td>7162.35</td>\n",
              "    </tr>\n",
              "    <tr>\n",
              "      <th>1</th>\n",
              "      <td>2018-09-27</td>\n",
              "      <td>234.55</td>\n",
              "      <td>236.80</td>\n",
              "      <td>231.10</td>\n",
              "      <td>233.80</td>\n",
              "      <td>233.25</td>\n",
              "      <td>5082859</td>\n",
              "      <td>11859.95</td>\n",
              "    </tr>\n",
              "    <tr>\n",
              "      <th>2</th>\n",
              "      <td>2018-09-26</td>\n",
              "      <td>240.00</td>\n",
              "      <td>240.00</td>\n",
              "      <td>232.50</td>\n",
              "      <td>235.00</td>\n",
              "      <td>234.25</td>\n",
              "      <td>2240909</td>\n",
              "      <td>5248.60</td>\n",
              "    </tr>\n",
              "    <tr>\n",
              "      <th>3</th>\n",
              "      <td>2018-09-25</td>\n",
              "      <td>233.30</td>\n",
              "      <td>236.75</td>\n",
              "      <td>232.00</td>\n",
              "      <td>236.25</td>\n",
              "      <td>236.10</td>\n",
              "      <td>2349368</td>\n",
              "      <td>5503.90</td>\n",
              "    </tr>\n",
              "    <tr>\n",
              "      <th>4</th>\n",
              "      <td>2018-09-24</td>\n",
              "      <td>233.55</td>\n",
              "      <td>239.20</td>\n",
              "      <td>230.75</td>\n",
              "      <td>234.00</td>\n",
              "      <td>233.30</td>\n",
              "      <td>3423509</td>\n",
              "      <td>7999.55</td>\n",
              "    </tr>\n",
              "  </tbody>\n",
              "</table>\n",
              "</div>\n",
              "      <button class=\"colab-df-convert\" onclick=\"convertToInteractive('df-a5d93f5f-fe92-4cad-96dd-26d78a01bed4')\"\n",
              "              title=\"Convert this dataframe to an interactive table.\"\n",
              "              style=\"display:none;\">\n",
              "        \n",
              "  <svg xmlns=\"http://www.w3.org/2000/svg\" height=\"24px\"viewBox=\"0 0 24 24\"\n",
              "       width=\"24px\">\n",
              "    <path d=\"M0 0h24v24H0V0z\" fill=\"none\"/>\n",
              "    <path d=\"M18.56 5.44l.94 2.06.94-2.06 2.06-.94-2.06-.94-.94-2.06-.94 2.06-2.06.94zm-11 1L8.5 8.5l.94-2.06 2.06-.94-2.06-.94L8.5 2.5l-.94 2.06-2.06.94zm10 10l.94 2.06.94-2.06 2.06-.94-2.06-.94-.94-2.06-.94 2.06-2.06.94z\"/><path d=\"M17.41 7.96l-1.37-1.37c-.4-.4-.92-.59-1.43-.59-.52 0-1.04.2-1.43.59L10.3 9.45l-7.72 7.72c-.78.78-.78 2.05 0 2.83L4 21.41c.39.39.9.59 1.41.59.51 0 1.02-.2 1.41-.59l7.78-7.78 2.81-2.81c.8-.78.8-2.07 0-2.86zM5.41 20L4 18.59l7.72-7.72 1.47 1.35L5.41 20z\"/>\n",
              "  </svg>\n",
              "      </button>\n",
              "      \n",
              "  <style>\n",
              "    .colab-df-container {\n",
              "      display:flex;\n",
              "      flex-wrap:wrap;\n",
              "      gap: 12px;\n",
              "    }\n",
              "\n",
              "    .colab-df-convert {\n",
              "      background-color: #E8F0FE;\n",
              "      border: none;\n",
              "      border-radius: 50%;\n",
              "      cursor: pointer;\n",
              "      display: none;\n",
              "      fill: #1967D2;\n",
              "      height: 32px;\n",
              "      padding: 0 0 0 0;\n",
              "      width: 32px;\n",
              "    }\n",
              "\n",
              "    .colab-df-convert:hover {\n",
              "      background-color: #E2EBFA;\n",
              "      box-shadow: 0px 1px 2px rgba(60, 64, 67, 0.3), 0px 1px 3px 1px rgba(60, 64, 67, 0.15);\n",
              "      fill: #174EA6;\n",
              "    }\n",
              "\n",
              "    [theme=dark] .colab-df-convert {\n",
              "      background-color: #3B4455;\n",
              "      fill: #D2E3FC;\n",
              "    }\n",
              "\n",
              "    [theme=dark] .colab-df-convert:hover {\n",
              "      background-color: #434B5C;\n",
              "      box-shadow: 0px 1px 3px 1px rgba(0, 0, 0, 0.15);\n",
              "      filter: drop-shadow(0px 1px 2px rgba(0, 0, 0, 0.3));\n",
              "      fill: #FFFFFF;\n",
              "    }\n",
              "  </style>\n",
              "\n",
              "      <script>\n",
              "        const buttonEl =\n",
              "          document.querySelector('#df-a5d93f5f-fe92-4cad-96dd-26d78a01bed4 button.colab-df-convert');\n",
              "        buttonEl.style.display =\n",
              "          google.colab.kernel.accessAllowed ? 'block' : 'none';\n",
              "\n",
              "        async function convertToInteractive(key) {\n",
              "          const element = document.querySelector('#df-a5d93f5f-fe92-4cad-96dd-26d78a01bed4');\n",
              "          const dataTable =\n",
              "            await google.colab.kernel.invokeFunction('convertToInteractive',\n",
              "                                                     [key], {});\n",
              "          if (!dataTable) return;\n",
              "\n",
              "          const docLinkHtml = 'Like what you see? Visit the ' +\n",
              "            '<a target=\"_blank\" href=https://colab.research.google.com/notebooks/data_table.ipynb>data table notebook</a>'\n",
              "            + ' to learn more about interactive tables.';\n",
              "          element.innerHTML = '';\n",
              "          dataTable['output_type'] = 'display_data';\n",
              "          await google.colab.output.renderOutput(dataTable, element);\n",
              "          const docLink = document.createElement('div');\n",
              "          docLink.innerHTML = docLinkHtml;\n",
              "          element.appendChild(docLink);\n",
              "        }\n",
              "      </script>\n",
              "    </div>\n",
              "  </div>\n",
              "  "
            ]
          },
          "metadata": {},
          "execution_count": 5
        }
      ]
    },
    {
      "cell_type": "code",
      "source": [
        "# feature scaling\n",
        "\n",
        "from sklearn.preprocessing import MinMaxScaler\n",
        "sc = MinMaxScaler(feature_range = (0, 1))\n",
        "training_set_scaled = sc.fit_transform(training_set)"
      ],
      "metadata": {
        "id": "qhi0YFUfWQLZ"
      },
      "execution_count": 6,
      "outputs": []
    },
    {
      "cell_type": "code",
      "source": [
        "X_train = []\n",
        "y_train = []\n",
        "\n",
        "for i in range(60, 2035):\n",
        "    X_train.append(training_set_scaled[i-60:i, 0])\n",
        "    y_train.append(training_set_scaled[i, 0])\n",
        "X_train, y_train = np.array(X_train), np.array(y_train)\n",
        "\n",
        "X_train = np.reshape(X_train, (X_train.shape[0], X_train.shape[1], 1))"
      ],
      "metadata": {
        "id": "baXlpDjAWQOE"
      },
      "execution_count": 7,
      "outputs": []
    },
    {
      "cell_type": "code",
      "source": [
        "regressor = Sequential()\n",
        "\n",
        "regressor.add(LSTM(units = 50, return_sequences = True, input_shape = (X_train.shape[1], 1)))\n",
        "regressor.add(Dropout(0.2))\n",
        "\n",
        "regressor.add(LSTM(units = 50, return_sequences = True))\n",
        "regressor.add(Dropout(0.2))\n",
        "\n",
        "regressor.add(LSTM(units = 50, return_sequences = True))\n",
        "regressor.add(Dropout(0.2))\n",
        "\n",
        "regressor.add(LSTM(units = 50))\n",
        "regressor.add(Dropout(0.2))\n",
        "\n",
        "regressor.add(Dense(units = 1))\n",
        "\n",
        "regressor.compile(optimizer = 'adam', loss = 'mean_squared_error')\n",
        "\n",
        "regressor.fit(X_train, y_train, epochs = 40, batch_size = 32)"
      ],
      "metadata": {
        "colab": {
          "base_uri": "https://localhost:8080/"
        },
        "id": "-HnJEr9mWQQq",
        "outputId": "04bb1e7c-4ff9-4535-aca2-373ae32497da"
      },
      "execution_count": 14,
      "outputs": [
        {
          "output_type": "stream",
          "name": "stdout",
          "text": [
            "Epoch 1/40\n",
            "62/62 [==============================] - 16s 137ms/step - loss: 0.0123\n",
            "Epoch 2/40\n",
            "62/62 [==============================] - 8s 134ms/step - loss: 0.0032\n",
            "Epoch 3/40\n",
            "62/62 [==============================] - 9s 139ms/step - loss: 0.0028\n",
            "Epoch 4/40\n",
            "62/62 [==============================] - 9s 138ms/step - loss: 0.0030\n",
            "Epoch 5/40\n",
            "62/62 [==============================] - 9s 140ms/step - loss: 0.0025\n",
            "Epoch 6/40\n",
            "62/62 [==============================] - 8s 137ms/step - loss: 0.0022\n",
            "Epoch 7/40\n",
            "62/62 [==============================] - 9s 139ms/step - loss: 0.0022\n",
            "Epoch 8/40\n",
            "62/62 [==============================] - 8s 133ms/step - loss: 0.0022\n",
            "Epoch 9/40\n",
            "62/62 [==============================] - 8s 136ms/step - loss: 0.0021\n",
            "Epoch 10/40\n",
            "62/62 [==============================] - 9s 153ms/step - loss: 0.0019\n",
            "Epoch 11/40\n",
            "62/62 [==============================] - 8s 136ms/step - loss: 0.0018\n",
            "Epoch 12/40\n",
            "62/62 [==============================] - 8s 131ms/step - loss: 0.0017\n",
            "Epoch 13/40\n",
            "62/62 [==============================] - 9s 137ms/step - loss: 0.0019\n",
            "Epoch 14/40\n",
            "62/62 [==============================] - 9s 137ms/step - loss: 0.0017\n",
            "Epoch 15/40\n",
            "62/62 [==============================] - 8s 135ms/step - loss: 0.0017\n",
            "Epoch 16/40\n",
            "62/62 [==============================] - 8s 135ms/step - loss: 0.0014\n",
            "Epoch 17/40\n",
            "62/62 [==============================] - 9s 140ms/step - loss: 0.0017\n",
            "Epoch 18/40\n",
            "62/62 [==============================] - 9s 138ms/step - loss: 0.0016\n",
            "Epoch 19/40\n",
            "62/62 [==============================] - 9s 141ms/step - loss: 0.0017\n",
            "Epoch 20/40\n",
            "62/62 [==============================] - 9s 141ms/step - loss: 0.0015\n",
            "Epoch 21/40\n",
            "62/62 [==============================] - 9s 138ms/step - loss: 0.0014\n",
            "Epoch 22/40\n",
            "62/62 [==============================] - 9s 144ms/step - loss: 0.0014\n",
            "Epoch 23/40\n",
            "62/62 [==============================] - 9s 148ms/step - loss: 0.0012\n",
            "Epoch 24/40\n",
            "62/62 [==============================] - 9s 147ms/step - loss: 0.0012\n",
            "Epoch 25/40\n",
            "62/62 [==============================] - 9s 144ms/step - loss: 0.0014\n",
            "Epoch 26/40\n",
            "62/62 [==============================] - 9s 142ms/step - loss: 0.0012\n",
            "Epoch 27/40\n",
            "62/62 [==============================] - 9s 146ms/step - loss: 0.0013\n",
            "Epoch 28/40\n",
            "62/62 [==============================] - 9s 142ms/step - loss: 0.0013\n",
            "Epoch 29/40\n",
            "62/62 [==============================] - 9s 145ms/step - loss: 0.0013\n",
            "Epoch 30/40\n",
            "62/62 [==============================] - 9s 143ms/step - loss: 0.0011\n",
            "Epoch 31/40\n",
            "62/62 [==============================] - 10s 162ms/step - loss: 0.0011\n",
            "Epoch 32/40\n",
            "62/62 [==============================] - 9s 143ms/step - loss: 0.0012\n",
            "Epoch 33/40\n",
            "62/62 [==============================] - 9s 141ms/step - loss: 0.0011\n",
            "Epoch 34/40\n",
            "62/62 [==============================] - 9s 141ms/step - loss: 0.0011\n",
            "Epoch 35/40\n",
            "62/62 [==============================] - 9s 137ms/step - loss: 0.0013\n",
            "Epoch 36/40\n",
            "62/62 [==============================] - 8s 137ms/step - loss: 0.0012\n",
            "Epoch 37/40\n",
            "62/62 [==============================] - 8s 135ms/step - loss: 0.0010\n",
            "Epoch 38/40\n",
            "62/62 [==============================] - 9s 138ms/step - loss: 0.0011\n",
            "Epoch 39/40\n",
            "62/62 [==============================] - 9s 139ms/step - loss: 0.0010\n",
            "Epoch 40/40\n",
            "62/62 [==============================] - 9s 143ms/step - loss: 0.0011\n"
          ]
        },
        {
          "output_type": "execute_result",
          "data": {
            "text/plain": [
              "<keras.callbacks.History at 0x7f5b588c6810>"
            ]
          },
          "metadata": {},
          "execution_count": 14
        }
      ]
    },
    {
      "cell_type": "markdown",
      "source": [
        "### Predict Future Stock using Test Set"
      ],
      "metadata": {
        "id": "hpjyk2buapnI"
      }
    },
    {
      "cell_type": "code",
      "source": [
        "dataset_test = pd.read_csv(test_URL, parse_dates=['Date'])\n",
        "real_stock_price = dataset_test.iloc[:, 1:2].values"
      ],
      "metadata": {
        "id": "gol21q3NZBJM"
      },
      "execution_count": 15,
      "outputs": []
    },
    {
      "cell_type": "code",
      "source": [
        "dataset_total = pd.concat((dataset_train['Open'], dataset_test['Open']), axis = 0)\n",
        "inputs = dataset_total[len(dataset_total) - len(dataset_test) - 60:].values\n",
        "inputs = inputs.reshape(-1,1)\n",
        "inputs = sc.transform(inputs)\n",
        "X_test = []\n",
        "for i in range(60, 76):\n",
        "    X_test.append(inputs[i-60:i, 0])\n",
        "X_test = np.array(X_test)\n",
        "X_test = np.reshape(X_test, (X_test.shape[0], X_test.shape[1], 1))\n",
        "predicted_stock_price = regressor.predict(X_test)\n",
        "predicted_stock_price = sc.inverse_transform(predicted_stock_price)"
      ],
      "metadata": {
        "id": "x-i7d_5WZPQS"
      },
      "execution_count": 16,
      "outputs": []
    },
    {
      "cell_type": "code",
      "source": [
        "# plot results\n",
        "\n",
        "plt.plot(real_stock_price, color = 'black', label = 'TATA Stock Price')\n",
        "plt.plot(predicted_stock_price, color = 'green', label = 'Predicted TATA Stock Price')\n",
        "plt.title('TATA Stock Price Prediction')\n",
        "plt.xlabel('Time')\n",
        "plt.ylabel('TATA Stock Price')\n",
        "plt.legend()\n",
        "plt.show()"
      ],
      "metadata": {
        "colab": {
          "base_uri": "https://localhost:8080/",
          "height": 295
        },
        "id": "KPkuEZhHZgbp",
        "outputId": "ce8300d6-1116-4556-f10f-8bee7fc293f8"
      },
      "execution_count": 17,
      "outputs": [
        {
          "output_type": "display_data",
          "data": {
            "text/plain": [
              "<Figure size 432x288 with 1 Axes>"
            ],
            "image/png": "[encoded data removed]"
          },
          "metadata": {
            "needs_background": "light"
          }
        }
      ]
    }
  ]
}