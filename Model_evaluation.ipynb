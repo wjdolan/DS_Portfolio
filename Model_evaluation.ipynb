{
  "nbformat": 4,
  "nbformat_minor": 0,
  "metadata": {
    "colab": {
      "name": "Model_evaluation.ipynb",
      "provenance": [],
      "authorship_tag": "ABX9TyO4FgLgtOK+fYoho+vY67mj",
      "include_colab_link": true
    },
    "kernelspec": {
      "name": "python3",
      "display_name": "Python 3"
    },
    "language_info": {
      "name": "python"
    }
  },
  "cells": [
    {
      "cell_type": "markdown",
      "metadata": {
        "id": "view-in-github",
        "colab_type": "text"
      },
      "source": [
        "<a href=\"https://colab.research.google.com/github/wjdolan/DS_Portfolio/blob/main/Model_evaluation.ipynb\" target=\"_parent\"><img src=\"https://colab.research.google.com/assets/colab-badge.svg\" alt=\"Open In Colab\"/></a>"
      ]
    },
    {
      "cell_type": "markdown",
      "source": [
        "# **Regression Models Evaluation**"
      ],
      "metadata": {
        "id": "7MfyksozGd9B"
      }
    },
    {
      "cell_type": "code",
      "execution_count": 1,
      "metadata": {
        "id": "wyJgMFsTGVy7"
      },
      "outputs": [],
      "source": [
        "import numpy as np"
      ]
    },
    {
      "cell_type": "code",
      "source": [
        "# generate 'ground truth'\n",
        "y_true = np.random.normal(0,1,10)\n",
        "\n",
        "# generate random errors\n",
        "errors = np.random.normal(0,0.02,10)\n",
        "\n",
        "# simulate predictions\n",
        "y_pred = y_true + errors"
      ],
      "metadata": {
        "id": "KInwtJTqGWQd"
      },
      "execution_count": 2,
      "outputs": []
    },
    {
      "cell_type": "markdown",
      "source": [
        "### MSE / RMSE"
      ],
      "metadata": {
        "id": "_9s3rpKOGuKU"
      }
    },
    {
      "cell_type": "code",
      "source": [
        "# import MSE \n",
        "\n",
        "from sklearn.metrics import mean_squared_error\n",
        "\n",
        "# compute MSE\n",
        "\n",
        "MSE = mean_squared_error(y_true, y_pred)\n",
        "\n",
        "# print MSE\n",
        "\n",
        "print(MSE)"
      ],
      "metadata": {
        "colab": {
          "base_uri": "https://localhost:8080/"
        },
        "id": "OO4sGOD6GWS7",
        "outputId": "60774e09-4822-4327-9c2f-4f3326c24748"
      },
      "execution_count": 3,
      "outputs": [
        {
          "output_type": "stream",
          "name": "stdout",
          "text": [
            "0.0006347176591421583\n"
          ]
        }
      ]
    },
    {
      "cell_type": "code",
      "source": [
        "# RMSE by numpy\n",
        "\n",
        "RMSE = np.sqrt(MSE)\n",
        "\n",
        "print(RMSE)\n",
        "\n",
        "# RMSE by sklearn\n",
        "\n",
        "RMSE = mean_squared_error(y_true, y_pred, squared=False)\n",
        "\n",
        "print(RMSE)"
      ],
      "metadata": {
        "colab": {
          "base_uri": "https://localhost:8080/"
        },
        "id": "tjFGODy1Gryy",
        "outputId": "4adefe65-cc5d-49bd-b97f-c6c029194eea"
      },
      "execution_count": 4,
      "outputs": [
        {
          "output_type": "stream",
          "name": "stdout",
          "text": [
            "0.025193603536258134\n",
            "0.025193603536258134\n"
          ]
        }
      ]
    },
    {
      "cell_type": "markdown",
      "source": [
        "## Classification Model Evaluation"
      ],
      "metadata": {
        "id": "24k_BSf1HqTT"
      }
    },
    {
      "cell_type": "code",
      "source": [
        "# ground truth\n",
        "y_true = [1,1,0,1,0,0,1,0,0,1]\n",
        "\n",
        "# simulate probabilites of positive class\n",
        "y_proba = [0.9,0.7,0.2,0.99,0.7,0.1,0.5,0.2,0.4,0.6]\n",
        "\n",
        "# set the threshold to predict positive class\n",
        "thres = 0.5\n",
        "\n",
        "# class predictions\n",
        "y_pred = [int(value > thres) for value in y_proba]"
      ],
      "metadata": {
        "id": "4qS6EYZ7Grvj"
      },
      "execution_count": 5,
      "outputs": []
    },
    {
      "cell_type": "markdown",
      "source": [
        "### Accuracy"
      ],
      "metadata": {
        "id": "g_6tIMFJH1gS"
      }
    },
    {
      "cell_type": "code",
      "source": [
        "# import accuracy_score from sklearn\n",
        "from sklearn.metrics import accuracy_score\n",
        "\n",
        "# compute accuracy\n",
        "accuracy = accuracy_score(y_true,y_pred)\n",
        "\n",
        "# print accuracy\n",
        "print(accuracy)\n"
      ],
      "metadata": {
        "colab": {
          "base_uri": "https://localhost:8080/"
        },
        "id": "euZk5jEpGrti",
        "outputId": "9ea5792f-9009-43ba-d2d9-919bdb81ba0f"
      },
      "execution_count": 6,
      "outputs": [
        {
          "output_type": "stream",
          "name": "stdout",
          "text": [
            "0.8\n"
          ]
        }
      ]
    },
    {
      "cell_type": "markdown",
      "source": [
        "### F1-score"
      ],
      "metadata": {
        "id": "3E5CRk-_H7sl"
      }
    },
    {
      "cell_type": "code",
      "source": [
        "# import f1_score from sklearn\n",
        "from sklearn.metrics import f1_score\n",
        "\n",
        "# compute F1-score\n",
        "f1_score = f1_score(y_true,y_pred)\n",
        "\n",
        "# print F1-score\n",
        "print(f1_score)"
      ],
      "metadata": {
        "colab": {
          "base_uri": "https://localhost:8080/"
        },
        "id": "TfACfSQSH5vX",
        "outputId": "5c39c29c-13bc-461f-fc35-d9736ec73798"
      },
      "execution_count": 7,
      "outputs": [
        {
          "output_type": "stream",
          "name": "stdout",
          "text": [
            "0.8000000000000002\n"
          ]
        }
      ]
    },
    {
      "cell_type": "markdown",
      "source": [
        "### AUC-score"
      ],
      "metadata": {
        "id": "g0ZPJ6cOIECt"
      }
    },
    {
      "cell_type": "code",
      "source": [
        "# import roc_auc_score from sklearn\n",
        "from sklearn.metrics import roc_auc_score\n",
        "\n",
        "# compute AUC-score\n",
        "auc = roc_auc_score(y_true,y_proba)\n",
        "\n",
        "# print AUC-score\n",
        "print(auc)"
      ],
      "metadata": {
        "colab": {
          "base_uri": "https://localhost:8080/"
        },
        "id": "mKZ4z7QDH5rs",
        "outputId": "201e9bc3-0ad5-4bd7-c2f2-8c4a0294c4ab"
      },
      "execution_count": 8,
      "outputs": [
        {
          "output_type": "stream",
          "name": "stdout",
          "text": [
            "0.9\n"
          ]
        }
      ]
    },
    {
      "cell_type": "code",
      "source": [
        ""
      ],
      "metadata": {
        "id": "9mk1QLEDH5o2"
      },
      "execution_count": null,
      "outputs": []
    },
    {
      "cell_type": "code",
      "source": [
        ""
      ],
      "metadata": {
        "id": "xfuiktwvGrq9"
      },
      "execution_count": null,
      "outputs": []
    }
  ]
}